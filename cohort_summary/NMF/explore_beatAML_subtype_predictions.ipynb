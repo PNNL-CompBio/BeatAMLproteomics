{
 "cells": [
  {
   "cell_type": "code",
   "execution_count": null,
   "metadata": {
    "pycharm": {
     "name": "#%%\n"
    }
   },
   "outputs": [],
   "source": [
    "import synapseclient\n",
    "import synapseutils\n",
    "\n",
    "\n",
    "syn = synapseclient.Synapse()\n",
    "syn.login()\n",
    "# files = synapseutils.syncFromSynapse(\n",
    "#     syn, 'syn52524005 ',\n",
    "#     path='metabolics',\n",
    "#     downloadFile=True\n",
    "# )\n",
    "files = synapseutils.syncFromSynapse(\n",
    "    syn, 'syn52524002 ',\n",
    "    path='metabolics',\n",
    "    downloadFile=True\n",
    ")\n",
    "''"
   ]
  },
  {
   "cell_type": "code",
   "execution_count": null,
   "outputs": [],
   "source": [
    "import matplotlib\n",
    "# matplotlib.use('PDF')"
   ],
   "metadata": {
    "collapsed": false,
    "pycharm": {
     "name": "#%%\n"
    }
   }
  },
  {
   "cell_type": "code",
   "execution_count": null,
   "metadata": {
    "pycharm": {
     "name": "#%%\n"
    }
   },
   "outputs": [],
   "source": [
    "import pandas as pd\n",
    "import seaborn as sns\n",
    "import matplotlib.pyplot as plt\n",
    "from matplotlib.patches import Patch\n",
    "from pybeataml.load_data import AMLData"
   ]
  },
  {
   "cell_type": "code",
   "execution_count": null,
   "metadata": {
    "pycharm": {
     "name": "#%%\n"
    }
   },
   "outputs": [],
   "source": [
    "from pybeataml.load_data import cluster_colors"
   ]
  },
  {
   "cell_type": "code",
   "execution_count": null,
   "metadata": {
    "pycharm": {
     "name": "#%%\n"
    }
   },
   "outputs": [],
   "source": [
    "from statsmodels.stats.multitest import fdrcorrection"
   ]
  },
  {
   "cell_type": "code",
   "execution_count": null,
   "metadata": {
    "pycharm": {
     "name": "#%%\n"
    }
   },
   "outputs": [],
   "source": [
    "from scipy.stats import fisher_exact\n",
    "import numpy as np"
   ]
  },
  {
   "cell_type": "code",
   "execution_count": null,
   "metadata": {
    "pycharm": {
     "name": "#%%\n"
    }
   },
   "outputs": [],
   "source": [
    "pd.set_option('display.max_rows', 500)\n",
    "pd.set_option('display.max_columns', 500)\n",
    "pd.set_option('display.width', 1000)"
   ]
  },
  {
   "cell_type": "code",
   "execution_count": null,
   "metadata": {
    "pycharm": {
     "name": "#%%\n"
    }
   },
   "outputs": [],
   "source": [
    "import matplotlib\n",
    "matplotlib.rcParams['pdf.fonttype'] = 42\n",
    "matplotlib.rcParams['ps.fonttype'] = 42\n",
    "\n",
    "matplotlib.rcParams['font.family'] = ['arial']\n",
    "matplotlib.rcParams['font.size'] = 12\n",
    "\n",
    "sns.set_theme(\n",
    "    context ='paper',\n",
    "    palette=\"Paired\",\n",
    "    style='white',\n",
    "    font='arial',\n",
    "    font_scale=1.0\n",
    ")"
   ]
  },
  {
   "cell_type": "code",
   "execution_count": null,
   "metadata": {
    "pycharm": {
     "name": "#%%\n"
    }
   },
   "outputs": [],
   "source": [
    "data = AMLData()"
   ]
  },
  {
   "cell_type": "code",
   "execution_count": null,
   "metadata": {
    "pycharm": {
     "name": "#%%\n"
    }
   },
   "outputs": [],
   "source": [
    "data.clinical.columns.values"
   ]
  },
  {
   "cell_type": "code",
   "execution_count": null,
   "metadata": {
    "pycharm": {
     "name": "#%%\n"
    }
   },
   "outputs": [],
   "source": [
    "data.meta['k=4']"
   ]
  },
  {
   "cell_type": "code",
   "execution_count": null,
   "metadata": {
    "pycharm": {
     "name": "#%%\n"
    }
   },
   "outputs": [],
   "source": [
    "rename = {\n",
    "            'positive': True,\n",
    "            'negative': False,\n",
    "            'y': True,\n",
    "            'n': False,\n",
    "            #np.nan: False\n",
    "        }\n",
    "data.clinical.replace(rename, inplace=True)\n",
    "data.clinical"
   ]
  },
  {
   "cell_type": "code",
   "execution_count": null,
   "metadata": {
    "pycharm": {
     "name": "#%%\n"
    }
   },
   "outputs": [],
   "source": [
    "cols = data.clinical.columns"
   ]
  },
  {
   "cell_type": "code",
   "execution_count": null,
   "metadata": {
    "pycharm": {
     "name": "#%%\n"
    }
   },
   "outputs": [],
   "source": [
    "rna_patients = data.rna['sample_id'].unique()\n",
    "np.savetxt('has_rna.csv', rna_patients, fmt='%s')"
   ]
  },
  {
   "cell_type": "code",
   "execution_count": null,
   "metadata": {
    "pycharm": {
     "name": "#%%\n"
    }
   },
   "outputs": [],
   "source": [
    "data.flat_data.source.unique()"
   ]
  },
  {
   "cell_type": "code",
   "execution_count": null,
   "metadata": {
    "pycharm": {
     "name": "#%%\n"
    }
   },
   "outputs": [],
   "source": [
    "# pivot_data = data.subset(['phospho', 'proteomics', 'rna_seq', 'wes',])\n",
    "# pivot_data.set_index(\"sample_id\",inplace=True)"
   ]
  },
  {
   "cell_type": "code",
   "execution_count": null,
   "metadata": {
    "pycharm": {
     "name": "#%%\n"
    }
   },
   "outputs": [],
   "source": [
    "# pivot_data.to_csv(\"all_data_pivoted.csv.gz\", compression='gzip')"
   ]
  },
  {
   "cell_type": "code",
   "execution_count": null,
   "metadata": {
    "pycharm": {
     "name": "#%%\n"
    }
   },
   "outputs": [],
   "source": [
    "# mol_data = data.subset(['proteomics',  'rna_seq'])\n",
    "# mol_data.head()"
   ]
  },
  {
   "cell_type": "code",
   "execution_count": null,
   "metadata": {
    "pycharm": {
     "name": "#%%\n"
    }
   },
   "outputs": [],
   "source": [
    "cluster_labels = pd.read_csv('Data/nmf_rna_global_phospho_k_cluster_assignments.txt', delimiter='\\t')\n",
    "cluster_labels.head()"
   ]
  },
  {
   "cell_type": "code",
   "execution_count": null,
   "metadata": {
    "pycharm": {
     "name": "#%%\n"
    }
   },
   "outputs": [],
   "source": [
    "data.clinical.head()"
   ]
  },
  {
   "cell_type": "code",
   "execution_count": null,
   "metadata": {
    "pycharm": {
     "name": "#%%\n"
    }
   },
   "outputs": [],
   "source": [
    "#cols = ['FLT3-ITDcalls', 'NPM1calls', 'cumulativeChemo', 'overallSurvival']"
   ]
  },
  {
   "cell_type": "code",
   "execution_count": null,
   "metadata": {
    "pycharm": {
     "name": "#%%\n"
    },
    "scrolled": true
   },
   "outputs": [],
   "source": [
    "subtype_merged = cluster_labels.join(data.clinical.set_index('sample_id')).dropna(subset=['Barcode.ID'])\n",
    "subtype_merged"
   ]
  },
  {
   "cell_type": "code",
   "execution_count": null,
   "metadata": {
    "pycharm": {
     "name": "#%%\n"
    }
   },
   "outputs": [],
   "source": [
    "subtype_merged = data.meta[['k=4']].join(data.clinical.set_index('sample_id')).dropna(subset=['k=4'])\n",
    "subtype_merged"
   ]
  },
  {
   "cell_type": "code",
   "execution_count": null,
   "metadata": {
    "pycharm": {
     "name": "#%%\n"
    }
   },
   "outputs": [],
   "source": [
    "mutation_table = pd.pivot_table(\n",
    "    data.wes.loc[data.wes.source=='wes'],\n",
    "    columns='label', \n",
    "    index='sample_id', \n",
    "    values='exp_value',\n",
    "    fill_value=0\n",
    ")"
   ]
  },
  {
   "cell_type": "code",
   "execution_count": null,
   "metadata": {
    "pycharm": {
     "name": "#%%\n"
    }
   },
   "outputs": [],
   "source": [
    "mutation_table = mutation_table.astype(bool)"
   ]
  },
  {
   "cell_type": "code",
   "execution_count": null,
   "metadata": {
    "pycharm": {
     "name": "#%%\n"
    }
   },
   "outputs": [],
   "source": [
    "mutation_table.head()"
   ]
  },
  {
   "cell_type": "code",
   "execution_count": null,
   "metadata": {
    "pycharm": {
     "name": "#%%\n"
    }
   },
   "outputs": [],
   "source": [
    "mutation_table.sum(axis=0).sort_values().tail(25)"
   ]
  },
  {
   "cell_type": "code",
   "execution_count": null,
   "metadata": {
    "pycharm": {
     "name": "#%%\n"
    }
   },
   "outputs": [],
   "source": [
    "mutation_table = mutation_table.loc[:, (mutation_table.sum() > 5)].copy()"
   ]
  },
  {
   "cell_type": "code",
   "execution_count": null,
   "metadata": {
    "pycharm": {
     "name": "#%%\n"
    }
   },
   "outputs": [],
   "source": [
    "subtype_merged = data.meta[['k=3', 'k=4', 'k=5', 'k=6', 'k=7', 'k=8']].join(data.clinical.set_index('sample_id')).join(mutation_table).dropna(subset=['k=4'])\n",
    "subtype_merged.head()"
   ]
  },
  {
   "cell_type": "code",
   "execution_count": null,
   "metadata": {
    "pycharm": {
     "name": "#%%\n"
    }
   },
   "outputs": [],
   "source": [
    "subtype_merged['NPM1_mut']"
   ]
  },
  {
   "cell_type": "code",
   "execution_count": null,
   "metadata": {
    "pycharm": {
     "name": "#%%\n"
    }
   },
   "outputs": [],
   "source": [
    "mutation_table.shape"
   ]
  },
  {
   "cell_type": "code",
   "execution_count": null,
   "metadata": {
    "pycharm": {
     "name": "#%%\n"
    }
   },
   "outputs": [],
   "source": [
    "mutation_cols = set(mutation_table.columns.values)\n",
    "# mutation_cols.remove('label')\n",
    "# mutation_cols.remove('sample_id')\n",
    "len(mutation_cols)"
   ]
  },
  {
   "cell_type": "code",
   "execution_count": null,
   "metadata": {
    "pycharm": {
     "name": "#%%\n"
    }
   },
   "outputs": [],
   "source": [
    "# melted_subtypes = subtype_merged.melt(id_vars=['Barcode.ID']+list(cols))\n",
    "# melted_subtypes['n_subtypes'] = melted_subtypes['variable']\n",
    "# melted_subtypes['n'] = melted_subtypes['value']\n",
    "# del melted_subtypes['value']\n",
    "# del melted_subtypes['variable']\n",
    "# melted_subtypes"
   ]
  },
  {
   "cell_type": "code",
   "execution_count": null,
   "metadata": {
    "pycharm": {
     "name": "#%%\n"
    }
   },
   "outputs": [],
   "source": [
    "cl = cluster_labels.drop('Barcode.ID', axis=1).copy()"
   ]
  },
  {
   "cell_type": "code",
   "execution_count": null,
   "metadata": {
    "pycharm": {
     "name": "#%%\n"
    }
   },
   "outputs": [],
   "source": [
    "sns.clustermap(\n",
    "    cl.sort_values('k=8'), figsize=(12,12),\n",
    "    col_cluster=False,\n",
    "    row_cluster=True,\n",
    "    method='ward',\n",
    "    cmap='Set2',\n",
    "#     metric='hamming',\n",
    "    # sns.color_palette(\"tab10\")\n",
    "    cbar_kws={\"ticks\":range(1,9)},\n",
    "    cbar_pos=(1., .2, .03, .4),\n",
    "    yticklabels=False,\n",
    ");\n",
    "plt.savefig(\"subtype_reoccurs_beataml.png\", dpi=300, bbox_inches='tight')\n",
    "plt.close()"
   ]
  },
  {
   "cell_type": "code",
   "execution_count": null,
   "metadata": {
    "pycharm": {
     "name": "#%%\n"
    }
   },
   "outputs": [],
   "source": [
    "sns.clustermap(\n",
    "    cl[['k=4', 'k=8']].sort_values(['k=4', 'k=8']), figsize=(12, 12),\n",
    "    col_cluster=False,\n",
    "    row_cluster=False,\n",
    "    method='ward',\n",
    "    cmap='Set2',\n",
    "#     metric='hamming',\n",
    "    # sns.color_palette(\"tab10\")\n",
    "    cbar_kws={\"ticks\": range(1, 9)},\n",
    "    cbar_pos=(1., .2, .03, .4),\n",
    "    yticklabels=False,\n",
    ");\n",
    "plt.savefig(\"subtype_reoccurs_beataml_4_8.png\", dpi=300, bbox_inches='tight')\n",
    "plt.close()"
   ]
  },
  {
   "cell_type": "code",
   "execution_count": null,
   "metadata": {
    "pycharm": {
     "name": "#%%\n"
    }
   },
   "outputs": [],
   "source": [
    "\n",
    "var_cols = [\n",
    "    'ageAtDiagnosis',\n",
    "    \n",
    "    'gender', 'FLT3-ITDcalls', 'NPM1calls', 'priorMalignancyNonMyeloid',\n",
    "    'fabBlastMorphology','karyotype',\n",
    "    \n",
    "    'priorMalignancyType', 'cumulativeChemo',\n",
    "    'priorMalignancyRadiationTx',\n",
    "    'priorMDS', 'priorMDSMoreThanTwoMths',\n",
    "    'priorMDSMPN', 'priorMDSMPNMoreThanTwoMths',\n",
    "    'priorMPN',  'priorMPNMoreThanTwoMths', \n",
    "    \n",
    "    'performanceStatus',\n",
    "    'dxAtInclusion',\n",
    "    'specificDxAtInclusion',\n",
    "    'riskGroup',\n",
    "    'otherCytogenetics', 'dxAtSpecimenAcquisition', 'specificDxAtAcquisition', \n",
    "    'ageAtSpecimenAcquisition', \n",
    "    'timeOfSampleCollectionRelativeToInclusion', 'specimenGroups', 'specimenType', 'ic50', \n",
    "    \n",
    "    'priorTreatmentTypeCount', 'priorTreatmentTypes', \n",
    "    'priorTreatmentRegimenCount', 'priorTreatmentRegimens', \n",
    "    'priorTreatmentStageCount',  'priorTreatmentStages', \n",
    "    \n",
    "    'responseToInductionTx', \n",
    "    'typeInductionTx', 'responseDurationToInductionTx', \n",
    "    \n",
    "    'currentTreatmentType', 'currentRegimen', 'currentStage', 'currentTreatmentDuration', \n",
    "    'vitalStatus', 'overallSurvival', 'causeOfDeath', \n",
    "    'percentBlastsBM', 'percentBlastsPB', 'percentAbnormalPlasmaBM', 'percentBandsPB', \n",
    "    'percentBasophilsPB', 'percentEosinophilsPB', 'percentImmatureGranulocytesPB', 'percentLymphocytesPB',\n",
    "    'percentMetamyelocytesPB', 'percentMonocytesPB', 'percentMyelocytesPB', 'percentNeutrophilsPB', \n",
    "    'percentNucleatedRBCsPB', 'percentPromonocytes', 'percentPromyelocytes', 'percentPromyelocytesPB', \n",
    "    'percentReactiveLymphocytesPB', 'percentWBC', \n",
    "    'wbcCount', 'plateletCount', \n",
    "    'albumin', 'bCellGeneRearrangement', 'bilirubin', 'creatinine', 'hemoglobin',\n",
    "    'surfaceAntigensImmunohistochemicalStains', 'tCellReceptorGene',\n",
    "\n",
    "]\n",
    "\n",
    "num_cols = [\n",
    "    'responseDurationToInductionTx',\n",
    "    'ageAtSpecimenAcquisition',\n",
    "    'timeOfSampleCollectionRelativeToInclusion',\n",
    "    'currentTreatmentDuration',\n",
    "    'overallSurvival',\n",
    "    'ageAtDiagnosis'\n",
    "]\n",
    "\n",
    "for i in num_cols:\n",
    "    print(i)\n",
    "    var_cols.remove(i)"
   ]
  },
  {
   "cell_type": "code",
   "execution_count": null,
   "metadata": {
    "pycharm": {
     "name": "#%%\n"
    }
   },
   "outputs": [],
   "source": [
    "non_useful = [\n",
    "    'ic50',\n",
    "    'dxAtInclusion',\n",
    "    \n",
    "    'percentBlastsBM',\n",
    "    'percentAbnormalPlasmaBM',\n",
    "    'percentBandsPB',\n",
    "    'percentBasophilsPB',\n",
    "    'percentEosinophilsPB',\n",
    "    'percentImmatureGranulocytesPB',\n",
    "    'percentLymphocytesPB',\n",
    "    'percentMetamyelocytesPB',\n",
    "    'percentMonocytesPB',\n",
    "    'percentMyelocytesPB',\n",
    "    'percentNeutrophilsPB',\n",
    "    'percentNucleatedRBCsPB',\n",
    "    'percentPromonocytes',\n",
    "    'percentPromyelocytes',\n",
    "    'percentPromyelocytesPB',\n",
    "    'percentReactiveLymphocytesPB',\n",
    "    'percentWBC',\n",
    "    'percentBlastsBM', 'percentBlastsPB', \n",
    "    'percentAbnormalPlasmaBM', 'percentBandsPB', \n",
    "    'percentBasophilsPB', 'percentEosinophilsPB', 'percentImmatureGranulocytesPB', 'percentLymphocytesPB',\n",
    "    'percentMetamyelocytesPB', 'percentMonocytesPB', 'percentMyelocytesPB', 'percentNeutrophilsPB', \n",
    "    'percentNucleatedRBCsPB', 'percentPromonocytes', 'percentPromyelocytes', 'percentPromyelocytesPB', \n",
    "    'percentBlastsPB',\n",
    "    \n",
    "    'albumin',\n",
    "    'bCellGeneRearrangement',\n",
    "    'bilirubin',\n",
    "    'surfaceAntigensImmunohistochemicalStains',\n",
    "    \n",
    "    \n",
    "    'creatinine', 'hemoglobin',\n",
    "    'tCellReceptorGene'\n",
    "]\n",
    "for i in set(non_useful):\n",
    "    var_cols.remove(i)"
   ]
  },
  {
   "cell_type": "code",
   "execution_count": null,
   "metadata": {
    "pycharm": {
     "name": "#%%\n"
    }
   },
   "outputs": [],
   "source": [
    "subtype_merged[['priorMalignancyType']]"
   ]
  },
  {
   "cell_type": "code",
   "execution_count": null,
   "metadata": {
    "pycharm": {
     "name": "#%%\n"
    }
   },
   "outputs": [],
   "source": [
    "to_str = [\n",
    "    'priorTreatmentTypeCount',\n",
    "    'priorTreatmentRegimenCount',\n",
    "    'priorTreatmentStageCount'\n",
    "    \n",
    "]\n",
    "for i in to_str:\n",
    "    subtype_merged[i] = subtype_merged[i].astype(str)"
   ]
  },
  {
   "cell_type": "code",
   "execution_count": null,
   "metadata": {
    "pycharm": {
     "name": "#%%\n"
    }
   },
   "outputs": [],
   "source": [
    "boolean_cols = [\n",
    "    'FLT3-ITDcalls', 'NPM1calls',\n",
    "] + list(mutation_cols)\n",
    "for i in boolean_cols:\n",
    "    subtype_merged[i] = subtype_merged[i].astype('boolean')"
   ]
  },
  {
   "cell_type": "code",
   "execution_count": null,
   "metadata": {
    "pycharm": {
     "name": "#%%\n"
    }
   },
   "outputs": [],
   "source": [
    "subtype_merged[boolean_cols]"
   ]
  },
  {
   "cell_type": "code",
   "execution_count": null,
   "metadata": {
    "pycharm": {
     "name": "#%%\n"
    }
   },
   "outputs": [],
   "source": [
    "def cat_enrichment(cluster_num_index, subtype_number, dataset, subtype, non_subtype,  variable_col):\n",
    "    variables_to_check = dataset[variable_col].unique()\n",
    "    results = []\n",
    "    for i in variables_to_check:\n",
    "        pos_for_subtype = subtype.loc[subtype[variable_col] == i].shape[0]\n",
    "        neg_for_subtype =  subtype.shape[0] - pos_for_subtype\n",
    "        \n",
    "        pos_for_non_subtype = non_subtype.loc[non_subtype[variable_col]==i].shape[0]\n",
    "        neg_for_non_subtype = non_subtype.shape[0] - pos_for_non_subtype\n",
    "\n",
    "        table = [[pos_for_subtype, pos_for_non_subtype],\n",
    "                 [neg_for_subtype, neg_for_non_subtype]]\n",
    "        table = np.array(table)\n",
    "        \n",
    "        stat, p_val = fisher_exact(table, alternative='greater')\n",
    "        results.append([cluster_num_index, subtype_number, variable_col+'_'+str(i), stat, p_val])\n",
    "        \n",
    "    results = pd.DataFrame(\n",
    "        results, \n",
    "        columns=['cluster_num_index', 'subtype_number','variable_name', 'enrichment', 'p_value']\n",
    "    )\n",
    "    return results\n",
    "\n",
    "\n",
    "def boolean_enrichment(cluster_num_index, subtype_number, subtype, non_subtype, variable_name):\n",
    "    \n",
    "    pos_for_subtype = subtype.loc[subtype[variable_name]].shape[0]\n",
    "    neg_for_subtype =  subtype.shape[0] - pos_for_subtype\n",
    "    \n",
    "    pos_for_non_subtype = non_subtype.loc[non_subtype[variable_name]].shape[0]\n",
    "    neg_for_non_subtype = non_subtype.shape[0] - pos_for_non_subtype\n",
    "    table = [[pos_for_subtype, pos_for_non_subtype],\n",
    "             [neg_for_subtype, neg_for_non_subtype]]\n",
    "    table = np.array(table)\n",
    "    stat, pval = fisher_exact(table, alternative='greater')\n",
    "    return pd.DataFrame([[cluster_num_index, subtype_number, variable_name, stat, pval,]],\n",
    "                        columns=['cluster_num_index', 'subtype_number', 'variable_name', 'enrichment', 'p_value'])\n",
    "\n",
    "\n",
    "\n",
    "def calculate_enrichment(cluster_num_index, subtype_number, variable_name):\n",
    "\n",
    "    subset_to_check = subtype_merged[[cluster_num_index, variable_name]].dropna(subset=[variable_name]).copy()\n",
    "\n",
    "    if subset_to_check.shape[0] < 50:\n",
    "        return pd.DataFrame()\n",
    "    \n",
    "    subtype = subset_to_check.loc[subset_to_check[cluster_num_index] == subtype_number]\n",
    "    non_subtype = subset_to_check.loc[subset_to_check[cluster_num_index] !=subtype_number]\n",
    "    \n",
    "    col_type = subtype[variable_name].dtype\n",
    "    if pd.api.types.is_bool_dtype(col_type):\n",
    "        return boolean_enrichment(cluster_num_index, subtype_number, subtype, non_subtype, variable_name)\n",
    "\n",
    "    elif pd.api.types.is_string_dtype(col_type):\n",
    "        return cat_enrichment(cluster_num_index, subtype_number, subset_to_check, subtype, non_subtype, variable_name)\n",
    "    else:\n",
    "        print(variable_name)\n",
    "        return pd.DataFrame()\n",
    "\n",
    "def calculate_for_cluster_size(cluster_size, variable_name):\n",
    "    results = []\n",
    "    for i in subtype_merged[cluster_size].unique():\n",
    "        results.append(calculate_enrichment(cluster_size, i, variable_name))\n",
    "    return pd.concat(results, ignore_index=True)\n",
    "\n",
    "def gather_enrichment(variables):\n",
    "    results = pd.DataFrame()\n",
    "    # for i in range(2, 10):\n",
    "    for i in range(4, 5):\n",
    "        k = f'k={i}'\n",
    "        results_storage = [results]\n",
    "        for var in variables:\n",
    "            r1 = calculate_for_cluster_size(k, var)\n",
    "            results_storage.append(r1)\n",
    "\n",
    "        results = pd.concat(results_storage, ignore_index=True)\n",
    "    return results"
   ]
  },
  {
   "cell_type": "code",
   "execution_count": null,
   "metadata": {
    "pycharm": {
     "name": "#%%\n"
    }
   },
   "outputs": [],
   "source": [
    "subtype_merged['KRAS/NRAS'] = ((subtype_merged['KRAS_mut']) | (subtype_merged['NRAS_mut'])).copy()\n",
    "subtype_merged['IDH1/IDH2'] = ((subtype_merged['IDH1_mut']) | (subtype_merged['IDH2_mut'])).copy()"
   ]
  },
  {
   "cell_type": "code",
   "execution_count": null,
   "metadata": {
    "pycharm": {
     "name": "#%%\n"
    }
   },
   "outputs": [],
   "source": [
    "subtype_merged['specimenGroups']\n",
    "\n",
    "subtype_merged  = pd.concat([subtype_merged, \n",
    "                             subtype_merged['specimenGroups'].str.get_dummies(sep = \"|\")], axis =1)"
   ]
  },
  {
   "cell_type": "code",
   "execution_count": null,
   "metadata": {
    "pycharm": {
     "name": "#%%\n"
    }
   },
   "outputs": [],
   "source": [
    "subtype_merged['']\n",
    "\n",
    "# subtype_merged  = pd.concat([subtype_merged, \n",
    "#                              subtype_merged['specimenGroups'].str.get_dummies(sep = \"|\")], axis =1)"
   ]
  },
  {
   "cell_type": "code",
   "execution_count": null,
   "metadata": {
    "pycharm": {
     "name": "#%%\n"
    }
   },
   "outputs": [],
   "source": [
    "subtype_merged"
   ]
  },
  {
   "cell_type": "code",
   "execution_count": null,
   "metadata": {
    "pycharm": {
     "name": "#%%\n"
    }
   },
   "outputs": [],
   "source": [
    "new_cols = ['Initial Acute Leukemia Diagnosis', 'Post-Chemotherapy', 'Post-Transplant', \n",
    "            'Relapse', 'Residual Disease', 'Residual Relapse',]\n",
    "for i in new_cols:\n",
    "    subtype_merged[i] = subtype_merged[i].astype(bool)"
   ]
  },
  {
   "cell_type": "code",
   "execution_count": null,
   "metadata": {
    "pycharm": {
     "name": "#%%\n"
    }
   },
   "outputs": [],
   "source": [
    "var_columns = [\n",
    "#     'FLT3-ITDcalls', 'NPM1calls', 'NPM1_mut',\n",
    "#     'fabBlastMorphology', \n",
    "    'priorMalignancyType',\n",
    "    'priorMalignancyNonMyeloid',\n",
    "    'gender', 'cumulativeChemo',\n",
    "    'priorMDSMPN', 'priorMDS',\n",
    "#     'specimenGroups', \n",
    "#     'specimenType'\n",
    "    \n",
    "    \n",
    "    # 'karyotype', 'riskGroup', 'priorTreatmentTypes'\n",
    "]\n",
    "var_columns += [ 'FLT3-ITDcalls', 'KRAS/NRAS', 'IDH1/IDH2'] + list(mutation_cols) + new_cols\n",
    "results = gather_enrichment(var_columns)"
   ]
  },
  {
   "cell_type": "code",
   "execution_count": null,
   "metadata": {
    "pycharm": {
     "name": "#%%\n"
    }
   },
   "outputs": [],
   "source": [
    "results.sort_values('p_value')"
   ]
  },
  {
   "cell_type": "code",
   "execution_count": null,
   "metadata": {
    "pycharm": {
     "name": "#%%\n"
    }
   },
   "outputs": [],
   "source": [
    "results.p_value.shape"
   ]
  },
  {
   "cell_type": "code",
   "execution_count": null,
   "metadata": {
    "pycharm": {
     "name": "#%%\n"
    }
   },
   "outputs": [],
   "source": [
    "for i, df in results.sort_values('cluster_num_index').groupby('cluster_num_index'):\n",
    "    df = df.loc[df.p_value<0.05]\n",
    "    if df.shape[0]>0:\n",
    "        print(df.sort_values('subtype_number'))"
   ]
  },
  {
   "cell_type": "code",
   "execution_count": null,
   "metadata": {
    "pycharm": {
     "name": "#%%\n"
    }
   },
   "outputs": [],
   "source": [
    "results['fdr_bh_sig'], results['fdr_bh'] = fdrcorrection(results.p_value)"
   ]
  },
  {
   "cell_type": "code",
   "execution_count": null,
   "metadata": {
    "pycharm": {
     "name": "#%%\n"
    }
   },
   "outputs": [],
   "source": [
    "results.sort_values('fdr_bh')"
   ]
  },
  {
   "cell_type": "code",
   "execution_count": null,
   "metadata": {
    "pycharm": {
     "name": "#%%\n"
    }
   },
   "outputs": [],
   "source": [
    "results.loc[results['fdr_bh_sig']]"
   ]
  },
  {
   "cell_type": "code",
   "execution_count": null,
   "metadata": {
    "pycharm": {
     "name": "#%%\n"
    }
   },
   "outputs": [],
   "source": [
    "counts = subtype_merged.groupby(['k=4'])[list(mutation_cols)].sum().reset_index()\n",
    "counts"
   ]
  },
  {
   "cell_type": "code",
   "execution_count": null,
   "metadata": {
    "pycharm": {
     "name": "#%%\n"
    }
   },
   "outputs": [],
   "source": [
    "order = list(reversed(list(counts.sum().sort_values().index)))"
   ]
  },
  {
   "cell_type": "code",
   "execution_count": null,
   "metadata": {
    "pycharm": {
     "name": "#%%\n"
    }
   },
   "outputs": [],
   "source": [
    "order.remove('k=4')"
   ]
  },
  {
   "cell_type": "code",
   "execution_count": null,
   "metadata": {
    "pycharm": {
     "name": "#%%\n"
    }
   },
   "outputs": [],
   "source": [
    "counts_1 = counts.melt(id_vars='k=4')"
   ]
  },
  {
   "cell_type": "code",
   "execution_count": null,
   "metadata": {
    "pycharm": {
     "name": "#%%\n"
    }
   },
   "outputs": [],
   "source": [
    "subtype_merged"
   ]
  },
  {
   "cell_type": "code",
   "execution_count": null,
   "metadata": {
    "pycharm": {
     "name": "#%%\n"
    }
   },
   "outputs": [],
   "source": [
    "total_counts = subtype_merged.groupby(['k=4'])[list(mutation_cols)].sum().sum()\n",
    "tc = pd.DataFrame(total_counts, columns=['value'])\n",
    "tc.reset_index(inplace=True)\n",
    "tc['variable'] = tc['index']"
   ]
  },
  {
   "cell_type": "code",
   "execution_count": null,
   "metadata": {
    "pycharm": {
     "name": "#%%\n"
    }
   },
   "outputs": [],
   "source": [
    "norm_factor = subtype_merged.groupby('k=4').count()['gender'].to_dict()\n",
    "for i in counts_1.variable.unique():\n",
    "    crit = counts_1.variable==i\n",
    "    to_div = tc[tc.variable==i].value\n",
    "    counts_1.loc[crit, 'fraction'] = counts_1[crit].value/float(to_div)\n",
    "for j in norm_factor:\n",
    "    crit = counts_1['k=4']==j\n",
    "    to_div = norm_factor[j]\n",
    "    counts_1.loc[crit, 'fraction'] = counts_1[crit].value/float(to_div)*100"
   ]
  },
  {
   "cell_type": "code",
   "execution_count": null,
   "metadata": {
    "pycharm": {
     "name": "#%%\n"
    }
   },
   "outputs": [],
   "source": [
    "\n",
    "half = int(len(order)/2)\n",
    "top = order[:half]\n",
    "s1 = counts_1.loc[counts_1.variable.isin(top)]\n",
    "g = sns.catplot(\n",
    "    data=s1, kind=\"bar\",\n",
    "    x=\"fraction\", y=\"variable\", hue=\"k=4\", orient='horizontal',\n",
    "    errorbar=\"sd\", palette=cluster_colors, alpha=.9,\n",
    "    height=6, aspect=.5,\n",
    "    order=top,\n",
    ")\n",
    "g.set(xlim=(0, 50))\n",
    "plt.savefig('mutation_freq_top.pdf', bbox_inches='tight', dpi=300)\n",
    "\n",
    "\n",
    "bot = order[half:]\n",
    "s2 = counts_1.loc[counts_1.variable.isin(bot)]\n",
    "g = sns.catplot(\n",
    "    data=s2, kind=\"bar\",\n",
    "    x=\"fraction\", y=\"variable\", hue=\"k=4\", orient='horizontal',\n",
    "    errorbar=\"sd\", palette=cluster_colors, alpha=.9, \n",
    "    height=6, aspect=.5,\n",
    "    order=bot,\n",
    ")\n",
    "g.set(xlim=(0, 50))\n",
    "plt.savefig('mutation_freq_bot.pdf', bbox_inches='tight', dpi=300)"
   ]
  },
  {
   "cell_type": "code",
   "execution_count": null,
   "metadata": {
    "pycharm": {
     "name": "#%%\n"
    }
   },
   "outputs": [],
   "source": [
    "counts_pivoted = counts_1.pivot(index='variable', columns='k=4', values='fraction').astype(float)\n",
    "counts_pivoted"
   ]
  },
  {
   "cell_type": "code",
   "execution_count": null,
   "metadata": {
    "pycharm": {
     "name": "#%%\n"
    }
   },
   "outputs": [],
   "source": [
    "piv_results = results.pivot(index='variable_name', columns='subtype_number', values='p_value').astype(float)\n",
    "annotations = piv_results.copy()\n",
    "annot = piv_results<0.05\n",
    "annotations[annot] = '+'\n",
    "annotations[~annot] = ''"
   ]
  },
  {
   "cell_type": "code",
   "execution_count": null,
   "metadata": {
    "pycharm": {
     "name": "#%%\n"
    }
   },
   "outputs": [],
   "source": []
  },
  {
   "cell_type": "code",
   "execution_count": null,
   "metadata": {
    "pycharm": {
     "name": "#%%\n"
    }
   },
   "outputs": [],
   "source": []
  },
  {
   "cell_type": "code",
   "execution_count": null,
   "metadata": {
    "pycharm": {
     "name": "#%%\n"
    }
   },
   "outputs": [],
   "source": []
  },
  {
   "cell_type": "code",
   "execution_count": null,
   "metadata": {
    "pycharm": {
     "name": "#%%\n"
    }
   },
   "outputs": [],
   "source": []
  },
  {
   "cell_type": "code",
   "execution_count": null,
   "metadata": {
    "pycharm": {
     "name": "#%%\n"
    }
   },
   "outputs": [],
   "source": [
    "sns.clustermap(\n",
    "    -1*np.log10(piv_results),\n",
    "    annot=annotations,\n",
    "    fmt='s',\n",
    "    col_cluster=False,\n",
    "    yticklabels=True,\n",
    "    figsize=(4, 12),\n",
    "    metric='correlation',\n",
    "    cmap='Greens',\n",
    "    linecolor='black',\n",
    "    linewidths=0.003,\n",
    "    cbar_kws=dict( label='$-log_{10}$(p-value)', use_gridspec=False,)\n",
    ")"
   ]
  },
  {
   "cell_type": "code",
   "execution_count": null,
   "metadata": {
    "pycharm": {
     "name": "#%%\n"
    }
   },
   "outputs": [],
   "source": [
    "to_keep = piv_results[piv_results<0.05].count(axis=1)\n",
    "to_keep = to_keep[to_keep>0]\n",
    "sig = piv_results.loc[to_keep.index]"
   ]
  },
  {
   "cell_type": "code",
   "execution_count": null,
   "metadata": {
    "pycharm": {
     "name": "#%%\n"
    }
   },
   "outputs": [],
   "source": [
    "# sig.sort_values(order_cols, inplace=True)\n",
    "order_cols = [1.0, 2.0, 3.0, 4.0]\n",
    "ordered_set = []\n",
    "for i in order_cols:\n",
    "    tmp = sig[i].sort_values()\n",
    "    for j in tmp[tmp<0.05].index:\n",
    "        if j not in ordered_set:\n",
    "            ordered_set.append(j)\n",
    "print(ordered_set)\n",
    "sig = sig.loc[ordered_set]"
   ]
  },
  {
   "cell_type": "code",
   "execution_count": null,
   "metadata": {
    "pycharm": {
     "name": "#%%\n"
    }
   },
   "outputs": [],
   "source": [
    "sig.columns = sig.columns.astype(int)\n",
    "sig.columns"
   ]
  },
  {
   "cell_type": "code",
   "execution_count": null,
   "metadata": {
    "pycharm": {
     "name": "#%%\n"
    }
   },
   "outputs": [],
   "source": [
    "sig"
   ]
  },
  {
   "cell_type": "code",
   "execution_count": null,
   "metadata": {
    "pycharm": {
     "name": "#%%\n"
    }
   },
   "outputs": [],
   "source": [
    "annotations = sig.copy()\n",
    "annot = sig<0.05\n",
    "annotations[annot] = 'x'\n",
    "annotations[~annot] = ''\n",
    "\n",
    "# Define two rows for subplots\n",
    "fig, (ax, cax) = plt.subplots(ncols=2, figsize=(2, 5), \n",
    "                              gridspec_kw={\"width_ratios\":[1.0, .1]})\n",
    "\n",
    "# Draw heatmap\n",
    "# sns.heatmap(df, ax=ax, cbar=False)\n",
    "\n",
    "# colorbar\n",
    "\n",
    "g = sns.heatmap(\n",
    "    -1*np.log10(sig),\n",
    "    annot=annotations,\n",
    "    fmt='s',\n",
    "    yticklabels=True,\n",
    "\n",
    "    ax=ax,\n",
    "\n",
    "    cmap='Greens',\n",
    "    linecolor='black',\n",
    "    linewidths=0.01,\n",
    "    cbar_kws={\"orientation\": \"vertical\", \"pad\": 0.05, \"shrink\": .82,\n",
    "              'label':'$-log_{10}$(p-value)', 'use_gridspec':False},\n",
    "    cbar=False,\n",
    "\n",
    ")\n",
    "\n",
    "\n",
    "fig.colorbar(ax.get_children()[0], cax=cax, orientation=\"vertical\",\n",
    "             label='$-log_{10}$(p-value)', pad = .5)\n",
    "\n",
    "plt.savefig('subtype_enrichment.pdf', bbox_inches='tight')\n",
    "plt.savefig('subtype_enrichment.png', bbox_inches='tight', dpi=300)"
   ]
  },
  {
   "cell_type": "code",
   "execution_count": null,
   "metadata": {
    "pycharm": {
     "name": "#%%\n"
    }
   },
   "outputs": [],
   "source": [
    "wes = data.wes"
   ]
  },
  {
   "cell_type": "code",
   "execution_count": null,
   "metadata": {
    "pycharm": {
     "name": "#%%\n"
    }
   },
   "outputs": [],
   "source": [
    "wes.loc[wes.gene_symbol=='FLT3']"
   ]
  },
  {
   "cell_type": "code",
   "execution_count": null,
   "metadata": {
    "pycharm": {
     "name": "#%%\n"
    }
   },
   "outputs": [],
   "source": [
    "flt3_mut = wes.loc[wes.gene_symbol=='FLT3']\n",
    "flt3_mut = flt3_mut.loc[flt3_mut.exp_value.astype(bool)]\n",
    "flt3_mut.pivot(index='sample_id', values=['exp_value'], columns='label')"
   ]
  },
  {
   "cell_type": "code",
   "execution_count": null,
   "metadata": {
    "pycharm": {
     "name": "#%%\n"
    }
   },
   "outputs": [],
   "source": []
  }
 ],
 "metadata": {
  "kernelspec": {
   "display_name": "Python 3 (ipykernel)",
   "language": "python",
   "name": "python3"
  },
  "language_info": {
   "codemirror_mode": {
    "name": "ipython",
    "version": 3
   },
   "file_extension": ".py",
   "mimetype": "text/x-python",
   "name": "python",
   "nbconvert_exporter": "python",
   "pygments_lexer": "ipython3",
   "version": "3.7.12"
  }
 },
 "nbformat": 4,
 "nbformat_minor": 1
}