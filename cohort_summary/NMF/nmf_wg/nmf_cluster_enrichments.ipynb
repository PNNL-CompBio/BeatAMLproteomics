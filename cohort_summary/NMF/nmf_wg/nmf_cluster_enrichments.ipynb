{
 "cells": [
  {
   "cell_type": "code",
   "execution_count": 1,
   "metadata": {
    "pycharm": {
     "name": "#%%\n"
    }
   },
   "outputs": [
    {
     "name": "stdout",
     "output_type": "stream",
     "text": [
      "Welcome, James Pino!\n",
      "\n"
     ]
    }
   ],
   "source": [
    "import pandas as pd\n",
    "import seaborn as sns\n",
    "import matplotlib.pyplot as plt\n",
    "from matplotlib.patches import Patch\n",
    "from pybeataml.load_data_from_synpase import load_file"
   ]
  },
  {
   "cell_type": "code",
   "execution_count": 2,
   "metadata": {
    "pycharm": {
     "name": "#%%\n"
    }
   },
   "outputs": [],
   "source": [
    "import pybeataml.alluvial as alluvial\n",
    "import matplotlib.pyplot as plt\n",
    "import numpy as np"
   ]
  },
  {
   "cell_type": "code",
   "execution_count": 3,
   "metadata": {
    "pycharm": {
     "name": "#%%\n"
    }
   },
   "outputs": [],
   "source": [
    "from scipy.stats import fisher_exact"
   ]
  },
  {
   "cell_type": "code",
   "execution_count": 4,
   "metadata": {
    "pycharm": {
     "name": "#%%\n"
    }
   },
   "outputs": [],
   "source": [
    "import matplotlib\n",
    "matplotlib.rcParams['pdf.fonttype'] = 42\n",
    "# matplotlib.rcParams['ps.fonttype'] = 42\n",
    "\n",
    "matplotlib.rcParams['font.family'] = ['arial']\n",
    "matplotlib.rcParams['font.size'] = 6\n",
    "\n",
    "sns.set_theme(context ='paper',\n",
    "    palette=\"Paired\",\n",
    "    style='white',\n",
    "    font='arial',\n",
    "    font_scale=1.0)"
   ]
  },
  {
   "cell_type": "code",
   "execution_count": 5,
   "metadata": {
    "pycharm": {
     "name": "#%%\n"
    }
   },
   "outputs": [],
   "source": [
    "pd.set_option('display.max_rows', 500)\n",
    "pd.set_option('display.max_columns', 500)\n",
    "pd.set_option('display.width', 1000)"
   ]
  },
  {
   "cell_type": "code",
   "execution_count": 6,
   "metadata": {
    "pycharm": {
     "name": "#%%\n"
    }
   },
   "outputs": [],
   "source": [
    "cluster_labels = pd.read_csv('wg_cluster_assignments.txt', delimiter='\\t')\n"
   ]
  },
  {
   "cell_type": "code",
   "execution_count": 7,
   "metadata": {
    "pycharm": {
     "name": "#%%\n"
    }
   },
   "outputs": [
    {
     "data": {
      "text/html": [
       "<div>\n",
       "<style scoped>\n",
       "    .dataframe tbody tr th:only-of-type {\n",
       "        vertical-align: middle;\n",
       "    }\n",
       "\n",
       "    .dataframe tbody tr th {\n",
       "        vertical-align: top;\n",
       "    }\n",
       "\n",
       "    .dataframe thead th {\n",
       "        text-align: right;\n",
       "    }\n",
       "</style>\n",
       "<table border=\"1\" class=\"dataframe\">\n",
       "  <thead>\n",
       "    <tr style=\"text-align: right;\">\n",
       "      <th></th>\n",
       "      <th>Barcode.ID</th>\n",
       "      <th>k=2</th>\n",
       "      <th>k=3</th>\n",
       "      <th>k=4</th>\n",
       "      <th>k=5</th>\n",
       "      <th>k=6</th>\n",
       "      <th>k=7</th>\n",
       "      <th>k=8</th>\n",
       "      <th>k=9</th>\n",
       "      <th>k=10</th>\n",
       "    </tr>\n",
       "  </thead>\n",
       "  <tbody>\n",
       "    <tr>\n",
       "      <th>C3L.04971</th>\n",
       "      <td>C3L.04971</td>\n",
       "      <td>1</td>\n",
       "      <td>1</td>\n",
       "      <td>1</td>\n",
       "      <td>1</td>\n",
       "      <td>1</td>\n",
       "      <td>1</td>\n",
       "      <td>1</td>\n",
       "      <td>1</td>\n",
       "      <td>1</td>\n",
       "    </tr>\n",
       "    <tr>\n",
       "      <th>C3L.00458</th>\n",
       "      <td>C3L.00458</td>\n",
       "      <td>1</td>\n",
       "      <td>1</td>\n",
       "      <td>1</td>\n",
       "      <td>1</td>\n",
       "      <td>1</td>\n",
       "      <td>1</td>\n",
       "      <td>1</td>\n",
       "      <td>1</td>\n",
       "      <td>1</td>\n",
       "    </tr>\n",
       "    <tr>\n",
       "      <th>C3L.05887</th>\n",
       "      <td>C3L.05887</td>\n",
       "      <td>1</td>\n",
       "      <td>1</td>\n",
       "      <td>1</td>\n",
       "      <td>3</td>\n",
       "      <td>1</td>\n",
       "      <td>3</td>\n",
       "      <td>4</td>\n",
       "      <td>4</td>\n",
       "      <td>4</td>\n",
       "    </tr>\n",
       "    <tr>\n",
       "      <th>C3L.06952</th>\n",
       "      <td>C3L.06952</td>\n",
       "      <td>1</td>\n",
       "      <td>1</td>\n",
       "      <td>1</td>\n",
       "      <td>3</td>\n",
       "      <td>4</td>\n",
       "      <td>3</td>\n",
       "      <td>4</td>\n",
       "      <td>4</td>\n",
       "      <td>4</td>\n",
       "    </tr>\n",
       "    <tr>\n",
       "      <th>C3L.06541</th>\n",
       "      <td>C3L.06541</td>\n",
       "      <td>1</td>\n",
       "      <td>3</td>\n",
       "      <td>4</td>\n",
       "      <td>4</td>\n",
       "      <td>5</td>\n",
       "      <td>6</td>\n",
       "      <td>6</td>\n",
       "      <td>6</td>\n",
       "      <td>8</td>\n",
       "    </tr>\n",
       "  </tbody>\n",
       "</table>\n",
       "</div>"
      ],
      "text/plain": [
       "          Barcode.ID  k=2  k=3  k=4  k=5  k=6  k=7  k=8  k=9  k=10\n",
       "C3L.04971  C3L.04971    1    1    1    1    1    1    1    1     1\n",
       "C3L.00458  C3L.00458    1    1    1    1    1    1    1    1     1\n",
       "C3L.05887  C3L.05887    1    1    1    3    1    3    4    4     4\n",
       "C3L.06952  C3L.06952    1    1    1    3    4    3    4    4     4\n",
       "C3L.06541  C3L.06541    1    3    4    4    5    6    6    6     8"
      ]
     },
     "execution_count": 7,
     "metadata": {},
     "output_type": "execute_result"
    }
   ],
   "source": [
    "cluster_labels.head()"
   ]
  },
  {
   "cell_type": "code",
   "execution_count": 8,
   "metadata": {
    "pycharm": {
     "name": "#%%\n"
    }
   },
   "outputs": [],
   "source": [
    "pd.set_option(\"display.precision\", 3)"
   ]
  },
  {
   "cell_type": "code",
   "execution_count": 9,
   "metadata": {
    "pycharm": {
     "name": "#%%\n"
    }
   },
   "outputs": [],
   "source": [
    "merged_meta = load_file(\"syn52119979\", delimiter='\\t')\n",
    "\n",
    "# meta_info = load_file(\"syn51080395\", delimiter=',')"
   ]
  },
  {
   "cell_type": "code",
   "execution_count": 10,
   "metadata": {
    "pycharm": {
     "name": "#%%\n"
    }
   },
   "outputs": [
    {
     "data": {
      "text/html": [
       "<div>\n",
       "<style scoped>\n",
       "    .dataframe tbody tr th:only-of-type {\n",
       "        vertical-align: middle;\n",
       "    }\n",
       "\n",
       "    .dataframe tbody tr th {\n",
       "        vertical-align: top;\n",
       "    }\n",
       "\n",
       "    .dataframe thead th {\n",
       "        text-align: right;\n",
       "    }\n",
       "</style>\n",
       "<table border=\"1\" class=\"dataframe\">\n",
       "  <thead>\n",
       "    <tr style=\"text-align: right;\">\n",
       "      <th></th>\n",
       "      <th>Participant</th>\n",
       "      <th>Type</th>\n",
       "      <th>Plex</th>\n",
       "      <th>Channel</th>\n",
       "      <th>Parent.Sample</th>\n",
       "      <th>Aliquot.1</th>\n",
       "      <th>Aliquot.2</th>\n",
       "      <th>Analysis</th>\n",
       "      <th>Note</th>\n",
       "      <th>Mixture</th>\n",
       "      <th>Batch</th>\n",
       "      <th>MS.Use</th>\n",
       "      <th>WGS.Normal</th>\n",
       "      <th>WGS.Tumor</th>\n",
       "      <th>WES.Normal</th>\n",
       "      <th>WES.Tumor</th>\n",
       "      <th>WGS.Normal.bamID</th>\n",
       "      <th>WGS.Tumor.bamID</th>\n",
       "      <th>WES.Normal.bamID</th>\n",
       "      <th>WES.Tumor.bamID</th>\n",
       "      <th>RNA.sample</th>\n",
       "      <th>Genomic.Availability</th>\n",
       "      <th>Label</th>\n",
       "      <th>Genomic.Use</th>\n",
       "      <th>Transcriptomic.Use</th>\n",
       "      <th>miRNA.Use</th>\n",
       "      <th>MS.RNA.Match.Use</th>\n",
       "      <th>Metabolomics.Use</th>\n",
       "      <th>Lipidomics.Use</th>\n",
       "      <th>Ploidy</th>\n",
       "      <th>Purity</th>\n",
       "      <th>Consent.sex</th>\n",
       "      <th>Consent.age</th>\n",
       "      <th>Consent.race</th>\n",
       "      <th>Consent.ethnicity</th>\n",
       "      <th>Consent.participant.country</th>\n",
       "      <th>FAB</th>\n",
       "      <th>classification</th>\n",
       "      <th>ELN_classification</th>\n",
       "      <th>ABL1-BCR.mutation.status</th>\n",
       "      <th>ASXL1.mutation.status</th>\n",
       "      <th>BCOR.mutation.status</th>\n",
       "      <th>BCORL1.mutation.status</th>\n",
       "      <th>BRAF.mutation.status</th>\n",
       "      <th>CBFB-MYH11.mutation.status</th>\n",
       "      <th>CBL.mutation.status</th>\n",
       "      <th>CEBPA.mutation.status</th>\n",
       "      <th>CSF3R.mutation.status</th>\n",
       "      <th>CUX1.mutation.status</th>\n",
       "      <th>DEK-NUP214.mutation.status</th>\n",
       "      <th>DNMT3A.mutation.status</th>\n",
       "      <th>ETV6.mutation.status</th>\n",
       "      <th>EZH2.mutation.status</th>\n",
       "      <th>FBXW7.mutation.status</th>\n",
       "      <th>FLT3.mutation.status</th>\n",
       "      <th>FOXP1.mutation.status</th>\n",
       "      <th>GATA2.mutation.status</th>\n",
       "      <th>IDH1.mutation.status</th>\n",
       "      <th>IDH2.mutation.status</th>\n",
       "      <th>IGSF10.mutation.status</th>\n",
       "      <th>JAK2.mutation.status</th>\n",
       "      <th>KIT.mutation.status</th>\n",
       "      <th>KMT2A-Fusions.mutation.status</th>\n",
       "      <th>KMT2A-MLLT3.mutation.status</th>\n",
       "      <th>KRAS.mutation.status</th>\n",
       "      <th>MAML1-MYB.mutation.status</th>\n",
       "      <th>MED12L-start-loss.mutation.status</th>\n",
       "      <th>MLLT10-Other.mutation.status</th>\n",
       "      <th>NF1.mutation.status</th>\n",
       "      <th>NPM1.mutation.status</th>\n",
       "      <th>NRAS.mutation.status</th>\n",
       "      <th>PHF6.mutation.status</th>\n",
       "      <th>PML-RARA.mutation.status</th>\n",
       "      <th>PTEN.mutation.status</th>\n",
       "      <th>PTPN11.mutation.status</th>\n",
       "      <th>RAD21.mutation.status</th>\n",
       "      <th>RUNX1.mutation.status</th>\n",
       "      <th>RUNX1-RUNX1T1.mutation.status</th>\n",
       "      <th>SETBP1.mutation.status</th>\n",
       "      <th>SF3B1.mutation.status</th>\n",
       "      <th>SMC1A.mutation.status</th>\n",
       "      <th>SMC3.mutation.status</th>\n",
       "      <th>SRSF2.mutation.status</th>\n",
       "      <th>STAG2.mutation.status</th>\n",
       "      <th>TET2.mutation.status</th>\n",
       "      <th>TP53.mutation.status</th>\n",
       "      <th>WT1.mutation.status</th>\n",
       "      <th>ZEB2.mutation.status</th>\n",
       "      <th>ZRSR2.mutation.status</th>\n",
       "      <th>FLT3_ITD.mutation.status</th>\n",
       "      <th>FLT3_TKD.mutation.status</th>\n",
       "      <th>NPM1_Subtype</th>\n",
       "      <th>NPM1_Subclonal</th>\n",
       "      <th>RBC_score</th>\n",
       "      <th>isRBCcontam</th>\n",
       "      <th>ABL1-BCR.mutation</th>\n",
       "      <th>ASXL1.mutation</th>\n",
       "      <th>BCOR.mutation</th>\n",
       "      <th>BCORL1.mutation</th>\n",
       "      <th>BRAF.mutation</th>\n",
       "      <th>CBFB-MYH11.mutation</th>\n",
       "      <th>CBL.mutation</th>\n",
       "      <th>CEBPA.mutation</th>\n",
       "      <th>CSF3R.mutation</th>\n",
       "      <th>CUX1.mutation</th>\n",
       "      <th>DEK-NUP214.mutation</th>\n",
       "      <th>DNMT3A.mutation</th>\n",
       "      <th>ETV6.mutation</th>\n",
       "      <th>EZH2.mutation</th>\n",
       "      <th>FBXW7.mutation</th>\n",
       "      <th>FLT3.mutation</th>\n",
       "      <th>FOXP1.mutation</th>\n",
       "      <th>GATA2.mutation</th>\n",
       "      <th>IDH1.mutation</th>\n",
       "      <th>IDH2.mutation</th>\n",
       "      <th>IGSF10.mutation</th>\n",
       "      <th>JAK2.mutation</th>\n",
       "      <th>KIT.mutation</th>\n",
       "      <th>KMT2A-Fusions.mutation</th>\n",
       "      <th>KMT2A-MLLT3.mutation</th>\n",
       "      <th>KRAS.mutation</th>\n",
       "      <th>MAML1-MYB.mutation</th>\n",
       "      <th>MED12L-start-loss.mutation</th>\n",
       "      <th>MLLT10-Other.mutation</th>\n",
       "      <th>NF1.mutation</th>\n",
       "      <th>NPM1.mutation</th>\n",
       "      <th>NRAS.mutation</th>\n",
       "      <th>PHF6.mutation</th>\n",
       "      <th>PML-RARA.mutation</th>\n",
       "      <th>PTEN.mutation</th>\n",
       "      <th>PTPN11.mutation</th>\n",
       "      <th>RAD21.mutation</th>\n",
       "      <th>RUNX1.mutation</th>\n",
       "      <th>RUNX1-RUNX1T1.mutation</th>\n",
       "      <th>SETBP1.mutation</th>\n",
       "      <th>SF3B1.mutation</th>\n",
       "      <th>SMC1A.mutation</th>\n",
       "      <th>SMC3.mutation</th>\n",
       "      <th>SRSF2.mutation</th>\n",
       "      <th>STAG2.mutation</th>\n",
       "      <th>TET2.mutation</th>\n",
       "      <th>TP53.mutation</th>\n",
       "      <th>WT1.mutation</th>\n",
       "      <th>ZEB2.mutation</th>\n",
       "      <th>ZRSR2.mutation</th>\n",
       "      <th>FLT3_ITD.mutation</th>\n",
       "      <th>chr11p.cnv</th>\n",
       "      <th>chr11q.cnv</th>\n",
       "      <th>chr12p.cnv</th>\n",
       "      <th>chr17p.cnv</th>\n",
       "      <th>chr17q.cnv</th>\n",
       "      <th>chr19p.cnv</th>\n",
       "      <th>chr19q.cnv</th>\n",
       "      <th>chr21p.cnv</th>\n",
       "      <th>chr21q.cnv</th>\n",
       "      <th>chr22p.cnv</th>\n",
       "      <th>chr22q.cnv</th>\n",
       "      <th>chr4p.cnv</th>\n",
       "      <th>chr4q.cnv</th>\n",
       "      <th>chr5p.cnv</th>\n",
       "      <th>chr5q.cnv</th>\n",
       "      <th>chr7p.cnv</th>\n",
       "      <th>chr7q.cnv</th>\n",
       "      <th>chr8p.cnv</th>\n",
       "      <th>chr8q.cnv</th>\n",
       "    </tr>\n",
       "  </thead>\n",
       "  <tbody>\n",
       "    <tr>\n",
       "      <th>0</th>\n",
       "      <td>C3L.00458</td>\n",
       "      <td>peripheral blood</td>\n",
       "      <td>1.0</td>\n",
       "      <td>128N</td>\n",
       "      <td>C3L.00458.58</td>\n",
       "      <td>C3L.00458.58</td>\n",
       "      <td>C3L.00458.60</td>\n",
       "      <td>Proteogenomic</td>\n",
       "      <td>NaN</td>\n",
       "      <td>01CPTAC_AML</td>\n",
       "      <td>1.0</td>\n",
       "      <td>True</td>\n",
       "      <td>NaN</td>\n",
       "      <td>NaN</td>\n",
       "      <td>NaN</td>\n",
       "      <td>NaN</td>\n",
       "      <td>NaN</td>\n",
       "      <td>NaN</td>\n",
       "      <td>NaN</td>\n",
       "      <td>NaN</td>\n",
       "      <td>NaN</td>\n",
       "      <td>NaN</td>\n",
       "      <td>C3L.00458.58.PB</td>\n",
       "      <td>False</td>\n",
       "      <td>False</td>\n",
       "      <td>NaN</td>\n",
       "      <td>True</td>\n",
       "      <td>False</td>\n",
       "      <td>False</td>\n",
       "      <td>1.947</td>\n",
       "      <td>0.645</td>\n",
       "      <td>Female</td>\n",
       "      <td>39</td>\n",
       "      <td>NaN</td>\n",
       "      <td>NaN</td>\n",
       "      <td>Russia</td>\n",
       "      <td>M0</td>\n",
       "      <td>sAML1</td>\n",
       "      <td>Adverse</td>\n",
       "      <td>0</td>\n",
       "      <td>0</td>\n",
       "      <td>0</td>\n",
       "      <td>0</td>\n",
       "      <td>0</td>\n",
       "      <td>0</td>\n",
       "      <td>0</td>\n",
       "      <td>0</td>\n",
       "      <td>0</td>\n",
       "      <td>0</td>\n",
       "      <td>0</td>\n",
       "      <td>0</td>\n",
       "      <td>0</td>\n",
       "      <td>0</td>\n",
       "      <td>0</td>\n",
       "      <td>0</td>\n",
       "      <td>0</td>\n",
       "      <td>0</td>\n",
       "      <td>0</td>\n",
       "      <td>0</td>\n",
       "      <td>0</td>\n",
       "      <td>0</td>\n",
       "      <td>0</td>\n",
       "      <td>0</td>\n",
       "      <td>0</td>\n",
       "      <td>0</td>\n",
       "      <td>0</td>\n",
       "      <td>0</td>\n",
       "      <td>0</td>\n",
       "      <td>0</td>\n",
       "      <td>0</td>\n",
       "      <td>0</td>\n",
       "      <td>0</td>\n",
       "      <td>0</td>\n",
       "      <td>0</td>\n",
       "      <td>0</td>\n",
       "      <td>0</td>\n",
       "      <td>0</td>\n",
       "      <td>0</td>\n",
       "      <td>0</td>\n",
       "      <td>1</td>\n",
       "      <td>0</td>\n",
       "      <td>0</td>\n",
       "      <td>0</td>\n",
       "      <td>0</td>\n",
       "      <td>0</td>\n",
       "      <td>0</td>\n",
       "      <td>0</td>\n",
       "      <td>0</td>\n",
       "      <td>0</td>\n",
       "      <td>0</td>\n",
       "      <td>0</td>\n",
       "      <td>other</td>\n",
       "      <td>0</td>\n",
       "      <td>0.341</td>\n",
       "      <td>False</td>\n",
       "      <td>NaN</td>\n",
       "      <td>NaN</td>\n",
       "      <td>NaN</td>\n",
       "      <td>NaN</td>\n",
       "      <td>NaN</td>\n",
       "      <td>NaN</td>\n",
       "      <td>NaN</td>\n",
       "      <td>NaN</td>\n",
       "      <td>NaN</td>\n",
       "      <td>NaN</td>\n",
       "      <td>NaN</td>\n",
       "      <td>NaN</td>\n",
       "      <td>NaN</td>\n",
       "      <td>NaN</td>\n",
       "      <td>NaN</td>\n",
       "      <td>NaN</td>\n",
       "      <td>NaN</td>\n",
       "      <td>NaN</td>\n",
       "      <td>NaN</td>\n",
       "      <td>NaN</td>\n",
       "      <td>NaN</td>\n",
       "      <td>NaN</td>\n",
       "      <td>NaN</td>\n",
       "      <td>NaN</td>\n",
       "      <td>NaN</td>\n",
       "      <td>NaN</td>\n",
       "      <td>NaN</td>\n",
       "      <td>NaN</td>\n",
       "      <td>NaN</td>\n",
       "      <td>NaN</td>\n",
       "      <td>NaN</td>\n",
       "      <td>NaN</td>\n",
       "      <td>NaN</td>\n",
       "      <td>NaN</td>\n",
       "      <td>NaN</td>\n",
       "      <td>NaN</td>\n",
       "      <td>NaN</td>\n",
       "      <td>NaN</td>\n",
       "      <td>NaN</td>\n",
       "      <td>NaN</td>\n",
       "      <td>Missense_Mutation;</td>\n",
       "      <td>NaN</td>\n",
       "      <td>NaN</td>\n",
       "      <td>NaN</td>\n",
       "      <td>NaN</td>\n",
       "      <td>NaN</td>\n",
       "      <td>NaN</td>\n",
       "      <td>NaN</td>\n",
       "      <td>NaN</td>\n",
       "      <td>NaN</td>\n",
       "      <td>NaN</td>\n",
       "      <td>NaN</td>\n",
       "      <td>NaN</td>\n",
       "      <td>NaN</td>\n",
       "      <td>NaN</td>\n",
       "      <td>NaN</td>\n",
       "      <td>NaN</td>\n",
       "      <td>NaN</td>\n",
       "      <td>NaN</td>\n",
       "      <td>NaN</td>\n",
       "      <td>NaN</td>\n",
       "      <td>NaN</td>\n",
       "      <td>NaN</td>\n",
       "      <td>NaN</td>\n",
       "      <td>NaN</td>\n",
       "      <td>NaN</td>\n",
       "      <td>loss;</td>\n",
       "      <td>loss;</td>\n",
       "      <td>NaN</td>\n",
       "      <td>NaN</td>\n",
       "    </tr>\n",
       "    <tr>\n",
       "      <th>1</th>\n",
       "      <td>C3L.03493</td>\n",
       "      <td>bone marrow</td>\n",
       "      <td>1.0</td>\n",
       "      <td>133C</td>\n",
       "      <td>C3L.03493.57</td>\n",
       "      <td>C3L.03493.57</td>\n",
       "      <td>C3L.03493.58</td>\n",
       "      <td>Proteogenomic</td>\n",
       "      <td>NaN</td>\n",
       "      <td>01CPTAC_AML</td>\n",
       "      <td>1.0</td>\n",
       "      <td>True</td>\n",
       "      <td>CPT0201510002</td>\n",
       "      <td>CPT0201410002</td>\n",
       "      <td>CPT0201510002</td>\n",
       "      <td>CPT0201410002</td>\n",
       "      <td>a76f4c04-d156-48ae-a49e-59200fbe2315</td>\n",
       "      <td>690c7e00-d487-4d12-973f-7a0fa1e94eb4</td>\n",
       "      <td>2b57bf62-bfa7-4f9f-a2f5-985fd8b85e32</td>\n",
       "      <td>7833029e-f8e7-4481-9b5d-46141e8ba4b1</td>\n",
       "      <td>bone marrow</td>\n",
       "      <td>Complete</td>\n",
       "      <td>C3L.03493.57.BMA</td>\n",
       "      <td>True</td>\n",
       "      <td>True</td>\n",
       "      <td>False</td>\n",
       "      <td>True</td>\n",
       "      <td>True</td>\n",
       "      <td>True</td>\n",
       "      <td>2.000</td>\n",
       "      <td>0.951</td>\n",
       "      <td>Male</td>\n",
       "      <td>65</td>\n",
       "      <td>NaN</td>\n",
       "      <td>NaN</td>\n",
       "      <td>Russia</td>\n",
       "      <td>M2</td>\n",
       "      <td>WHO2</td>\n",
       "      <td>Adverse</td>\n",
       "      <td>0</td>\n",
       "      <td>0</td>\n",
       "      <td>0</td>\n",
       "      <td>0</td>\n",
       "      <td>0</td>\n",
       "      <td>0</td>\n",
       "      <td>0</td>\n",
       "      <td>1</td>\n",
       "      <td>0</td>\n",
       "      <td>0</td>\n",
       "      <td>0</td>\n",
       "      <td>0</td>\n",
       "      <td>0</td>\n",
       "      <td>0</td>\n",
       "      <td>0</td>\n",
       "      <td>0</td>\n",
       "      <td>0</td>\n",
       "      <td>0</td>\n",
       "      <td>0</td>\n",
       "      <td>0</td>\n",
       "      <td>0</td>\n",
       "      <td>0</td>\n",
       "      <td>0</td>\n",
       "      <td>0</td>\n",
       "      <td>0</td>\n",
       "      <td>0</td>\n",
       "      <td>0</td>\n",
       "      <td>0</td>\n",
       "      <td>0</td>\n",
       "      <td>0</td>\n",
       "      <td>0</td>\n",
       "      <td>0</td>\n",
       "      <td>0</td>\n",
       "      <td>0</td>\n",
       "      <td>0</td>\n",
       "      <td>0</td>\n",
       "      <td>0</td>\n",
       "      <td>0</td>\n",
       "      <td>0</td>\n",
       "      <td>0</td>\n",
       "      <td>0</td>\n",
       "      <td>0</td>\n",
       "      <td>0</td>\n",
       "      <td>0</td>\n",
       "      <td>0</td>\n",
       "      <td>0</td>\n",
       "      <td>0</td>\n",
       "      <td>0</td>\n",
       "      <td>0</td>\n",
       "      <td>0</td>\n",
       "      <td>0</td>\n",
       "      <td>0</td>\n",
       "      <td>committed_like</td>\n",
       "      <td>0</td>\n",
       "      <td>0.625</td>\n",
       "      <td>False</td>\n",
       "      <td>NaN</td>\n",
       "      <td>NaN</td>\n",
       "      <td>NaN</td>\n",
       "      <td>NaN</td>\n",
       "      <td>NaN</td>\n",
       "      <td>NaN</td>\n",
       "      <td>NaN</td>\n",
       "      <td>In_Frame_Ins;</td>\n",
       "      <td>NaN</td>\n",
       "      <td>NaN</td>\n",
       "      <td>NaN</td>\n",
       "      <td>NaN</td>\n",
       "      <td>NaN</td>\n",
       "      <td>NaN</td>\n",
       "      <td>NaN</td>\n",
       "      <td>NaN</td>\n",
       "      <td>NaN</td>\n",
       "      <td>NaN</td>\n",
       "      <td>NaN</td>\n",
       "      <td>NaN</td>\n",
       "      <td>NaN</td>\n",
       "      <td>NaN</td>\n",
       "      <td>NaN</td>\n",
       "      <td>NaN</td>\n",
       "      <td>NaN</td>\n",
       "      <td>NaN</td>\n",
       "      <td>NaN</td>\n",
       "      <td>NaN</td>\n",
       "      <td>NaN</td>\n",
       "      <td>NaN</td>\n",
       "      <td>NaN</td>\n",
       "      <td>NaN</td>\n",
       "      <td>NaN</td>\n",
       "      <td>NaN</td>\n",
       "      <td>NaN</td>\n",
       "      <td>NaN</td>\n",
       "      <td>NaN</td>\n",
       "      <td>NaN</td>\n",
       "      <td>NaN</td>\n",
       "      <td>NaN</td>\n",
       "      <td>NaN</td>\n",
       "      <td>NaN</td>\n",
       "      <td>NaN</td>\n",
       "      <td>NaN</td>\n",
       "      <td>NaN</td>\n",
       "      <td>NaN</td>\n",
       "      <td>NaN</td>\n",
       "      <td>NaN</td>\n",
       "      <td>NaN</td>\n",
       "      <td>NaN</td>\n",
       "      <td>NaN</td>\n",
       "      <td>NaN</td>\n",
       "      <td>NaN</td>\n",
       "      <td>NaN</td>\n",
       "      <td>NaN</td>\n",
       "      <td>NaN</td>\n",
       "      <td>NaN</td>\n",
       "      <td>NaN</td>\n",
       "      <td>NaN</td>\n",
       "      <td>NaN</td>\n",
       "      <td>NaN</td>\n",
       "      <td>NaN</td>\n",
       "      <td>NaN</td>\n",
       "      <td>NaN</td>\n",
       "      <td>NaN</td>\n",
       "      <td>NaN</td>\n",
       "      <td>loss;</td>\n",
       "      <td>loss;</td>\n",
       "      <td>NaN</td>\n",
       "      <td>NaN</td>\n",
       "    </tr>\n",
       "    <tr>\n",
       "      <th>2</th>\n",
       "      <td>C3L.04489</td>\n",
       "      <td>peripheral blood</td>\n",
       "      <td>1.0</td>\n",
       "      <td>134N</td>\n",
       "      <td>C3L.04489.34</td>\n",
       "      <td>C3L.04489.60</td>\n",
       "      <td>NaN</td>\n",
       "      <td>Proteogenomic</td>\n",
       "      <td>NaN</td>\n",
       "      <td>01CPTAC_AML</td>\n",
       "      <td>1.0</td>\n",
       "      <td>True</td>\n",
       "      <td>CPT0299980001</td>\n",
       "      <td>CPT0300020002</td>\n",
       "      <td>CPT0299980001</td>\n",
       "      <td>CPT0300020002</td>\n",
       "      <td>a6625c57-93f4-4c2e-b532-8c887d04f22c</td>\n",
       "      <td>a3d3e92c-ed2b-4a4b-8291-040d062ae556</td>\n",
       "      <td>59561b27-a5e3-420d-9f98-63d191c4e74c</td>\n",
       "      <td>0ac42abf-43ea-46f0-a2e0-1b4c2b810106</td>\n",
       "      <td>peripheral blood</td>\n",
       "      <td>Complete</td>\n",
       "      <td>C3L.04489.34.PB</td>\n",
       "      <td>True</td>\n",
       "      <td>True</td>\n",
       "      <td>False</td>\n",
       "      <td>True</td>\n",
       "      <td>False</td>\n",
       "      <td>False</td>\n",
       "      <td>1.963</td>\n",
       "      <td>0.520</td>\n",
       "      <td>Female</td>\n",
       "      <td>76</td>\n",
       "      <td>NaN</td>\n",
       "      <td>NaN</td>\n",
       "      <td>Bulgaria</td>\n",
       "      <td>M4</td>\n",
       "      <td>TP53_Complex</td>\n",
       "      <td>Adverse</td>\n",
       "      <td>0</td>\n",
       "      <td>0</td>\n",
       "      <td>0</td>\n",
       "      <td>0</td>\n",
       "      <td>0</td>\n",
       "      <td>0</td>\n",
       "      <td>0</td>\n",
       "      <td>0</td>\n",
       "      <td>0</td>\n",
       "      <td>0</td>\n",
       "      <td>0</td>\n",
       "      <td>0</td>\n",
       "      <td>0</td>\n",
       "      <td>0</td>\n",
       "      <td>0</td>\n",
       "      <td>0</td>\n",
       "      <td>1</td>\n",
       "      <td>0</td>\n",
       "      <td>0</td>\n",
       "      <td>0</td>\n",
       "      <td>0</td>\n",
       "      <td>0</td>\n",
       "      <td>0</td>\n",
       "      <td>0</td>\n",
       "      <td>0</td>\n",
       "      <td>0</td>\n",
       "      <td>0</td>\n",
       "      <td>0</td>\n",
       "      <td>0</td>\n",
       "      <td>0</td>\n",
       "      <td>0</td>\n",
       "      <td>0</td>\n",
       "      <td>0</td>\n",
       "      <td>0</td>\n",
       "      <td>0</td>\n",
       "      <td>0</td>\n",
       "      <td>0</td>\n",
       "      <td>1</td>\n",
       "      <td>0</td>\n",
       "      <td>0</td>\n",
       "      <td>0</td>\n",
       "      <td>0</td>\n",
       "      <td>0</td>\n",
       "      <td>0</td>\n",
       "      <td>0</td>\n",
       "      <td>0</td>\n",
       "      <td>1</td>\n",
       "      <td>0</td>\n",
       "      <td>1</td>\n",
       "      <td>0</td>\n",
       "      <td>0</td>\n",
       "      <td>0</td>\n",
       "      <td>committed_like</td>\n",
       "      <td>0</td>\n",
       "      <td>0.666</td>\n",
       "      <td>False</td>\n",
       "      <td>NaN</td>\n",
       "      <td>NaN</td>\n",
       "      <td>NaN</td>\n",
       "      <td>NaN</td>\n",
       "      <td>NaN</td>\n",
       "      <td>NaN</td>\n",
       "      <td>NaN</td>\n",
       "      <td>NaN</td>\n",
       "      <td>NaN</td>\n",
       "      <td>NaN</td>\n",
       "      <td>NaN</td>\n",
       "      <td>NaN</td>\n",
       "      <td>NaN</td>\n",
       "      <td>NaN</td>\n",
       "      <td>NaN</td>\n",
       "      <td>NaN</td>\n",
       "      <td>Truncation;</td>\n",
       "      <td>NaN</td>\n",
       "      <td>NaN</td>\n",
       "      <td>NaN</td>\n",
       "      <td>NaN</td>\n",
       "      <td>NaN</td>\n",
       "      <td>NaN</td>\n",
       "      <td>NaN</td>\n",
       "      <td>NaN</td>\n",
       "      <td>NaN</td>\n",
       "      <td>NaN</td>\n",
       "      <td>NaN</td>\n",
       "      <td>NaN</td>\n",
       "      <td>NaN</td>\n",
       "      <td>NaN</td>\n",
       "      <td>NaN</td>\n",
       "      <td>NaN</td>\n",
       "      <td>NaN</td>\n",
       "      <td>NaN</td>\n",
       "      <td>NaN</td>\n",
       "      <td>NaN</td>\n",
       "      <td>Truncation;</td>\n",
       "      <td>NaN</td>\n",
       "      <td>NaN</td>\n",
       "      <td>NaN</td>\n",
       "      <td>NaN</td>\n",
       "      <td>NaN</td>\n",
       "      <td>NaN</td>\n",
       "      <td>NaN</td>\n",
       "      <td>NaN</td>\n",
       "      <td>Nonsense_Mutation;</td>\n",
       "      <td>NaN</td>\n",
       "      <td>Truncation;</td>\n",
       "      <td>NaN</td>\n",
       "      <td>NaN</td>\n",
       "      <td>NaN</td>\n",
       "      <td>NaN</td>\n",
       "      <td>NaN</td>\n",
       "      <td>NaN</td>\n",
       "      <td>NaN</td>\n",
       "      <td>NaN</td>\n",
       "      <td>NaN</td>\n",
       "      <td>NaN</td>\n",
       "      <td>gain;</td>\n",
       "      <td>NaN</td>\n",
       "      <td>NaN</td>\n",
       "      <td>NaN</td>\n",
       "      <td>NaN</td>\n",
       "      <td>NaN</td>\n",
       "      <td>loss;</td>\n",
       "      <td>NaN</td>\n",
       "      <td>NaN</td>\n",
       "      <td>gain;</td>\n",
       "      <td>gain;</td>\n",
       "    </tr>\n",
       "    <tr>\n",
       "      <th>3</th>\n",
       "      <td>C3L.04971</td>\n",
       "      <td>peripheral blood</td>\n",
       "      <td>1.0</td>\n",
       "      <td>127C</td>\n",
       "      <td>C3L.04971.35</td>\n",
       "      <td>C3L.04971.63</td>\n",
       "      <td>C3L.04971.64</td>\n",
       "      <td>Proteogenomic</td>\n",
       "      <td>NaN</td>\n",
       "      <td>01CPTAC_AML</td>\n",
       "      <td>1.0</td>\n",
       "      <td>True</td>\n",
       "      <td>NaN</td>\n",
       "      <td>CPT0339330002</td>\n",
       "      <td>CPT0343350004</td>\n",
       "      <td>CPT0339330002</td>\n",
       "      <td>NaN</td>\n",
       "      <td>6119cb98-af0c-48a7-836b-2751bfee338c</td>\n",
       "      <td>8af4c3fd-04fd-4e76-bfee-67bb4a62d215</td>\n",
       "      <td>7b8cbab0-baaf-420c-8328-9ed0c99b09ea</td>\n",
       "      <td>peripheral blood</td>\n",
       "      <td>Missing_WGS_Normal</td>\n",
       "      <td>C3L.04971.35.PB</td>\n",
       "      <td>True</td>\n",
       "      <td>True</td>\n",
       "      <td>False</td>\n",
       "      <td>True</td>\n",
       "      <td>True</td>\n",
       "      <td>True</td>\n",
       "      <td>2.000</td>\n",
       "      <td>NaN</td>\n",
       "      <td>Male</td>\n",
       "      <td>42</td>\n",
       "      <td>NaN</td>\n",
       "      <td>NaN</td>\n",
       "      <td>Serbia</td>\n",
       "      <td>M1</td>\n",
       "      <td>WHO2</td>\n",
       "      <td>Adverse</td>\n",
       "      <td>0</td>\n",
       "      <td>0</td>\n",
       "      <td>0</td>\n",
       "      <td>0</td>\n",
       "      <td>0</td>\n",
       "      <td>0</td>\n",
       "      <td>0</td>\n",
       "      <td>0</td>\n",
       "      <td>0</td>\n",
       "      <td>0</td>\n",
       "      <td>0</td>\n",
       "      <td>0</td>\n",
       "      <td>0</td>\n",
       "      <td>0</td>\n",
       "      <td>0</td>\n",
       "      <td>0</td>\n",
       "      <td>1</td>\n",
       "      <td>0</td>\n",
       "      <td>0</td>\n",
       "      <td>0</td>\n",
       "      <td>0</td>\n",
       "      <td>0</td>\n",
       "      <td>0</td>\n",
       "      <td>1</td>\n",
       "      <td>0</td>\n",
       "      <td>0</td>\n",
       "      <td>0</td>\n",
       "      <td>0</td>\n",
       "      <td>1</td>\n",
       "      <td>0</td>\n",
       "      <td>0</td>\n",
       "      <td>1</td>\n",
       "      <td>0</td>\n",
       "      <td>0</td>\n",
       "      <td>0</td>\n",
       "      <td>0</td>\n",
       "      <td>0</td>\n",
       "      <td>0</td>\n",
       "      <td>0</td>\n",
       "      <td>0</td>\n",
       "      <td>0</td>\n",
       "      <td>0</td>\n",
       "      <td>0</td>\n",
       "      <td>0</td>\n",
       "      <td>0</td>\n",
       "      <td>0</td>\n",
       "      <td>0</td>\n",
       "      <td>0</td>\n",
       "      <td>1</td>\n",
       "      <td>0</td>\n",
       "      <td>0</td>\n",
       "      <td>0</td>\n",
       "      <td>primitive_like</td>\n",
       "      <td>0</td>\n",
       "      <td>0.208</td>\n",
       "      <td>False</td>\n",
       "      <td>NaN</td>\n",
       "      <td>NaN</td>\n",
       "      <td>NaN</td>\n",
       "      <td>NaN</td>\n",
       "      <td>NaN</td>\n",
       "      <td>NaN</td>\n",
       "      <td>NaN</td>\n",
       "      <td>NaN</td>\n",
       "      <td>NaN</td>\n",
       "      <td>NaN</td>\n",
       "      <td>NaN</td>\n",
       "      <td>NaN</td>\n",
       "      <td>NaN</td>\n",
       "      <td>NaN</td>\n",
       "      <td>NaN</td>\n",
       "      <td>NaN</td>\n",
       "      <td>Truncation;Truncation;</td>\n",
       "      <td>NaN</td>\n",
       "      <td>NaN</td>\n",
       "      <td>NaN</td>\n",
       "      <td>NaN</td>\n",
       "      <td>NaN</td>\n",
       "      <td>NaN</td>\n",
       "      <td>Fusion;Fusion;Fusion;</td>\n",
       "      <td>NaN</td>\n",
       "      <td>NaN</td>\n",
       "      <td>NaN</td>\n",
       "      <td>NaN</td>\n",
       "      <td>Fusion;</td>\n",
       "      <td>NaN</td>\n",
       "      <td>NaN</td>\n",
       "      <td>Missense_Mutation;</td>\n",
       "      <td>NaN</td>\n",
       "      <td>NaN</td>\n",
       "      <td>NaN</td>\n",
       "      <td>NaN</td>\n",
       "      <td>NaN</td>\n",
       "      <td>NaN</td>\n",
       "      <td>NaN</td>\n",
       "      <td>NaN</td>\n",
       "      <td>NaN</td>\n",
       "      <td>NaN</td>\n",
       "      <td>NaN</td>\n",
       "      <td>NaN</td>\n",
       "      <td>NaN</td>\n",
       "      <td>NaN</td>\n",
       "      <td>NaN</td>\n",
       "      <td>NaN</td>\n",
       "      <td>Truncation;</td>\n",
       "      <td>NaN</td>\n",
       "      <td>NaN</td>\n",
       "      <td>NaN</td>\n",
       "      <td>NaN</td>\n",
       "      <td>NaN</td>\n",
       "      <td>NaN</td>\n",
       "      <td>NaN</td>\n",
       "      <td>NaN</td>\n",
       "      <td>NaN</td>\n",
       "      <td>NaN</td>\n",
       "      <td>NaN</td>\n",
       "      <td>NaN</td>\n",
       "      <td>NaN</td>\n",
       "      <td>NaN</td>\n",
       "      <td>NaN</td>\n",
       "      <td>NaN</td>\n",
       "      <td>NaN</td>\n",
       "      <td>NaN</td>\n",
       "      <td>NaN</td>\n",
       "      <td>NaN</td>\n",
       "      <td>NaN</td>\n",
       "    </tr>\n",
       "    <tr>\n",
       "      <th>4</th>\n",
       "      <td>C3L.05819</td>\n",
       "      <td>peripheral blood</td>\n",
       "      <td>1.0</td>\n",
       "      <td>128C</td>\n",
       "      <td>C3L.05819.34</td>\n",
       "      <td>C3L.05819.56</td>\n",
       "      <td>C3L.05819.57</td>\n",
       "      <td>Proteogenomic</td>\n",
       "      <td>NaN</td>\n",
       "      <td>01CPTAC_AML</td>\n",
       "      <td>1.0</td>\n",
       "      <td>True</td>\n",
       "      <td>CPT0341870002</td>\n",
       "      <td>CPT0341900002</td>\n",
       "      <td>CPT0341870002</td>\n",
       "      <td>CPT0341900002</td>\n",
       "      <td>08e4d192-7b7d-4f5a-859f-7a804bca3ddf</td>\n",
       "      <td>c395cc56-30a7-4f7d-9a6c-33b84e36f2fc</td>\n",
       "      <td>08a8f112-a896-4435-bec0-4f7c3081d5c3</td>\n",
       "      <td>09d2c250-7d1b-4ce1-b341-f22b344cc4ec</td>\n",
       "      <td>peripheral blood</td>\n",
       "      <td>Complete</td>\n",
       "      <td>C3L.05819.34.PB</td>\n",
       "      <td>True</td>\n",
       "      <td>True</td>\n",
       "      <td>False</td>\n",
       "      <td>True</td>\n",
       "      <td>True</td>\n",
       "      <td>True</td>\n",
       "      <td>1.944</td>\n",
       "      <td>0.975</td>\n",
       "      <td>Female</td>\n",
       "      <td>80</td>\n",
       "      <td>NaN</td>\n",
       "      <td>NaN</td>\n",
       "      <td>Romania</td>\n",
       "      <td>M0</td>\n",
       "      <td>TP53_Complex</td>\n",
       "      <td>Adverse</td>\n",
       "      <td>0</td>\n",
       "      <td>0</td>\n",
       "      <td>0</td>\n",
       "      <td>0</td>\n",
       "      <td>0</td>\n",
       "      <td>0</td>\n",
       "      <td>0</td>\n",
       "      <td>0</td>\n",
       "      <td>0</td>\n",
       "      <td>0</td>\n",
       "      <td>0</td>\n",
       "      <td>0</td>\n",
       "      <td>1</td>\n",
       "      <td>0</td>\n",
       "      <td>0</td>\n",
       "      <td>0</td>\n",
       "      <td>1</td>\n",
       "      <td>0</td>\n",
       "      <td>0</td>\n",
       "      <td>0</td>\n",
       "      <td>0</td>\n",
       "      <td>0</td>\n",
       "      <td>0</td>\n",
       "      <td>0</td>\n",
       "      <td>0</td>\n",
       "      <td>0</td>\n",
       "      <td>0</td>\n",
       "      <td>0</td>\n",
       "      <td>0</td>\n",
       "      <td>0</td>\n",
       "      <td>0</td>\n",
       "      <td>1</td>\n",
       "      <td>0</td>\n",
       "      <td>0</td>\n",
       "      <td>1</td>\n",
       "      <td>0</td>\n",
       "      <td>0</td>\n",
       "      <td>0</td>\n",
       "      <td>0</td>\n",
       "      <td>0</td>\n",
       "      <td>0</td>\n",
       "      <td>0</td>\n",
       "      <td>0</td>\n",
       "      <td>0</td>\n",
       "      <td>0</td>\n",
       "      <td>0</td>\n",
       "      <td>1</td>\n",
       "      <td>0</td>\n",
       "      <td>0</td>\n",
       "      <td>0</td>\n",
       "      <td>0</td>\n",
       "      <td>0</td>\n",
       "      <td>primitive_like</td>\n",
       "      <td>0</td>\n",
       "      <td>0.053</td>\n",
       "      <td>False</td>\n",
       "      <td>NaN</td>\n",
       "      <td>NaN</td>\n",
       "      <td>NaN</td>\n",
       "      <td>NaN</td>\n",
       "      <td>NaN</td>\n",
       "      <td>NaN</td>\n",
       "      <td>NaN</td>\n",
       "      <td>NaN</td>\n",
       "      <td>NaN</td>\n",
       "      <td>NaN</td>\n",
       "      <td>NaN</td>\n",
       "      <td>NaN</td>\n",
       "      <td>Truncation;Truncation;</td>\n",
       "      <td>NaN</td>\n",
       "      <td>NaN</td>\n",
       "      <td>NaN</td>\n",
       "      <td>Truncation;</td>\n",
       "      <td>NaN</td>\n",
       "      <td>NaN</td>\n",
       "      <td>NaN</td>\n",
       "      <td>NaN</td>\n",
       "      <td>NaN</td>\n",
       "      <td>NaN</td>\n",
       "      <td>NaN</td>\n",
       "      <td>NaN</td>\n",
       "      <td>NaN</td>\n",
       "      <td>NaN</td>\n",
       "      <td>NaN</td>\n",
       "      <td>NaN</td>\n",
       "      <td>NaN</td>\n",
       "      <td>NaN</td>\n",
       "      <td>Missense_Mutation;</td>\n",
       "      <td>NaN</td>\n",
       "      <td>NaN</td>\n",
       "      <td>Truncation;</td>\n",
       "      <td>NaN</td>\n",
       "      <td>NaN</td>\n",
       "      <td>NaN</td>\n",
       "      <td>NaN</td>\n",
       "      <td>NaN</td>\n",
       "      <td>NaN</td>\n",
       "      <td>NaN</td>\n",
       "      <td>NaN</td>\n",
       "      <td>NaN</td>\n",
       "      <td>NaN</td>\n",
       "      <td>NaN</td>\n",
       "      <td>Nonsense_Mutation;</td>\n",
       "      <td>NaN</td>\n",
       "      <td>NaN</td>\n",
       "      <td>NaN</td>\n",
       "      <td>NaN</td>\n",
       "      <td>NaN</td>\n",
       "      <td>NaN</td>\n",
       "      <td>NaN</td>\n",
       "      <td>loss;</td>\n",
       "      <td>NaN</td>\n",
       "      <td>NaN</td>\n",
       "      <td>NaN</td>\n",
       "      <td>NaN</td>\n",
       "      <td>NaN</td>\n",
       "      <td>NaN</td>\n",
       "      <td>NaN</td>\n",
       "      <td>NaN</td>\n",
       "      <td>NaN</td>\n",
       "      <td>NaN</td>\n",
       "      <td>NaN</td>\n",
       "      <td>NaN</td>\n",
       "      <td>NaN</td>\n",
       "      <td>NaN</td>\n",
       "      <td>NaN</td>\n",
       "    </tr>\n",
       "  </tbody>\n",
       "</table>\n",
       "</div>"
      ],
      "text/plain": [
       "  Participant              Type  Plex Channel Parent.Sample     Aliquot.1     Aliquot.2       Analysis Note      Mixture  Batch  MS.Use     WGS.Normal      WGS.Tumor     WES.Normal      WES.Tumor                      WGS.Normal.bamID                       WGS.Tumor.bamID                      WES.Normal.bamID                       WES.Tumor.bamID        RNA.sample Genomic.Availability             Label  Genomic.Use  Transcriptomic.Use miRNA.Use  MS.RNA.Match.Use  Metabolomics.Use  Lipidomics.Use  Ploidy  Purity Consent.sex  Consent.age Consent.race Consent.ethnicity Consent.participant.country FAB classification ELN_classification  ABL1-BCR.mutation.status  ASXL1.mutation.status  BCOR.mutation.status  BCORL1.mutation.status  BRAF.mutation.status  CBFB-MYH11.mutation.status  CBL.mutation.status  CEBPA.mutation.status  CSF3R.mutation.status  CUX1.mutation.status  DEK-NUP214.mutation.status  DNMT3A.mutation.status  ETV6.mutation.status  EZH2.mutation.status  FBXW7.mutation.status  \\\n",
       "0   C3L.00458  peripheral blood   1.0    128N  C3L.00458.58  C3L.00458.58  C3L.00458.60  Proteogenomic  NaN  01CPTAC_AML    1.0    True            NaN            NaN            NaN            NaN                                   NaN                                   NaN                                   NaN                                   NaN               NaN                  NaN   C3L.00458.58.PB        False               False       NaN              True             False           False   1.947   0.645      Female           39          NaN               NaN                      Russia  M0          sAML1            Adverse                         0                      0                     0                       0                     0                           0                    0                      0                      0                     0                           0                       0                     0                     0                      0   \n",
       "1   C3L.03493       bone marrow   1.0    133C  C3L.03493.57  C3L.03493.57  C3L.03493.58  Proteogenomic  NaN  01CPTAC_AML    1.0    True  CPT0201510002  CPT0201410002  CPT0201510002  CPT0201410002  a76f4c04-d156-48ae-a49e-59200fbe2315  690c7e00-d487-4d12-973f-7a0fa1e94eb4  2b57bf62-bfa7-4f9f-a2f5-985fd8b85e32  7833029e-f8e7-4481-9b5d-46141e8ba4b1       bone marrow             Complete  C3L.03493.57.BMA         True                True     False              True              True            True   2.000   0.951        Male           65          NaN               NaN                      Russia  M2           WHO2            Adverse                         0                      0                     0                       0                     0                           0                    0                      1                      0                     0                           0                       0                     0                     0                      0   \n",
       "2   C3L.04489  peripheral blood   1.0    134N  C3L.04489.34  C3L.04489.60           NaN  Proteogenomic  NaN  01CPTAC_AML    1.0    True  CPT0299980001  CPT0300020002  CPT0299980001  CPT0300020002  a6625c57-93f4-4c2e-b532-8c887d04f22c  a3d3e92c-ed2b-4a4b-8291-040d062ae556  59561b27-a5e3-420d-9f98-63d191c4e74c  0ac42abf-43ea-46f0-a2e0-1b4c2b810106  peripheral blood             Complete   C3L.04489.34.PB         True                True     False              True             False           False   1.963   0.520      Female           76          NaN               NaN                    Bulgaria  M4   TP53_Complex            Adverse                         0                      0                     0                       0                     0                           0                    0                      0                      0                     0                           0                       0                     0                     0                      0   \n",
       "3   C3L.04971  peripheral blood   1.0    127C  C3L.04971.35  C3L.04971.63  C3L.04971.64  Proteogenomic  NaN  01CPTAC_AML    1.0    True            NaN  CPT0339330002  CPT0343350004  CPT0339330002                                   NaN  6119cb98-af0c-48a7-836b-2751bfee338c  8af4c3fd-04fd-4e76-bfee-67bb4a62d215  7b8cbab0-baaf-420c-8328-9ed0c99b09ea  peripheral blood   Missing_WGS_Normal   C3L.04971.35.PB         True                True     False              True              True            True   2.000     NaN        Male           42          NaN               NaN                      Serbia  M1           WHO2            Adverse                         0                      0                     0                       0                     0                           0                    0                      0                      0                     0                           0                       0                     0                     0                      0   \n",
       "4   C3L.05819  peripheral blood   1.0    128C  C3L.05819.34  C3L.05819.56  C3L.05819.57  Proteogenomic  NaN  01CPTAC_AML    1.0    True  CPT0341870002  CPT0341900002  CPT0341870002  CPT0341900002  08e4d192-7b7d-4f5a-859f-7a804bca3ddf  c395cc56-30a7-4f7d-9a6c-33b84e36f2fc  08a8f112-a896-4435-bec0-4f7c3081d5c3  09d2c250-7d1b-4ce1-b341-f22b344cc4ec  peripheral blood             Complete   C3L.05819.34.PB         True                True     False              True              True            True   1.944   0.975      Female           80          NaN               NaN                     Romania  M0   TP53_Complex            Adverse                         0                      0                     0                       0                     0                           0                    0                      0                      0                     0                           0                       0                     1                     0                      0   \n",
       "\n",
       "   FLT3.mutation.status  FOXP1.mutation.status  GATA2.mutation.status  IDH1.mutation.status  IDH2.mutation.status  IGSF10.mutation.status  JAK2.mutation.status  KIT.mutation.status  KMT2A-Fusions.mutation.status  KMT2A-MLLT3.mutation.status  KRAS.mutation.status  MAML1-MYB.mutation.status  MED12L-start-loss.mutation.status  MLLT10-Other.mutation.status  NF1.mutation.status  NPM1.mutation.status  NRAS.mutation.status  PHF6.mutation.status  PML-RARA.mutation.status  PTEN.mutation.status  PTPN11.mutation.status  RAD21.mutation.status  RUNX1.mutation.status  RUNX1-RUNX1T1.mutation.status  SETBP1.mutation.status  SF3B1.mutation.status  SMC1A.mutation.status  SMC3.mutation.status  SRSF2.mutation.status  STAG2.mutation.status  TET2.mutation.status  TP53.mutation.status  WT1.mutation.status  ZEB2.mutation.status  ZRSR2.mutation.status  FLT3_ITD.mutation.status  FLT3_TKD.mutation.status    NPM1_Subtype  NPM1_Subclonal  RBC_score isRBCcontam ABL1-BCR.mutation ASXL1.mutation BCOR.mutation  \\\n",
       "0                     0                      0                      0                     0                     0                       0                     0                    0                              0                            0                     0                          0                                  0                             0                    0                     0                     0                     0                         0                     0                       0                      0                      0                              0                       0                      1                      0                     0                      0                      0                     0                     0                    0                     0                      0                         0                         0           other               0      0.341       False               NaN            NaN           NaN   \n",
       "1                     0                      0                      0                     0                     0                       0                     0                    0                              0                            0                     0                          0                                  0                             0                    0                     0                     0                     0                         0                     0                       0                      0                      0                              0                       0                      0                      0                     0                      0                      0                     0                     0                    0                     0                      0                         0                         0  committed_like               0      0.625       False               NaN            NaN           NaN   \n",
       "2                     0                      1                      0                     0                     0                       0                     0                    0                              0                            0                     0                          0                                  0                             0                    0                     0                     0                     0                         0                     0                       0                      0                      1                              0                       0                      0                      0                     0                      0                      0                     0                     1                    0                     1                      0                         0                         0  committed_like               0      0.666       False               NaN            NaN           NaN   \n",
       "3                     0                      1                      0                     0                     0                       0                     0                    0                              1                            0                     0                          0                                  0                             1                    0                     0                     1                     0                         0                     0                       0                      0                      0                              0                       0                      0                      0                     0                      0                      0                     0                     0                    0                     1                      0                         0                         0  primitive_like               0      0.208       False               NaN            NaN           NaN   \n",
       "4                     0                      1                      0                     0                     0                       0                     0                    0                              0                            0                     0                          0                                  0                             0                    0                     0                     1                     0                         0                     1                       0                      0                      0                              0                       0                      0                      0                     0                      0                      0                     0                     1                    0                     0                      0                         0                         0  primitive_like               0      0.053       False               NaN            NaN           NaN   \n",
       "\n",
       "  BCORL1.mutation BRAF.mutation CBFB-MYH11.mutation CBL.mutation CEBPA.mutation CSF3R.mutation CUX1.mutation DEK-NUP214.mutation DNMT3A.mutation           ETV6.mutation EZH2.mutation FBXW7.mutation FLT3.mutation          FOXP1.mutation GATA2.mutation IDH1.mutation IDH2.mutation IGSF10.mutation JAK2.mutation KIT.mutation KMT2A-Fusions.mutation KMT2A-MLLT3.mutation KRAS.mutation MAML1-MYB.mutation MED12L-start-loss.mutation MLLT10-Other.mutation NF1.mutation NPM1.mutation       NRAS.mutation PHF6.mutation PML-RARA.mutation PTEN.mutation PTPN11.mutation RAD21.mutation RUNX1.mutation RUNX1-RUNX1T1.mutation SETBP1.mutation      SF3B1.mutation SMC1A.mutation SMC3.mutation SRSF2.mutation STAG2.mutation TET2.mutation       TP53.mutation WT1.mutation ZEB2.mutation ZRSR2.mutation FLT3_ITD.mutation chr11p.cnv chr11q.cnv chr12p.cnv chr17p.cnv chr17q.cnv chr19p.cnv chr19q.cnv chr21p.cnv chr21q.cnv chr22p.cnv chr22q.cnv chr4p.cnv chr4q.cnv chr5p.cnv chr5q.cnv chr7p.cnv chr7q.cnv chr8p.cnv  \\\n",
       "0             NaN           NaN                 NaN          NaN            NaN            NaN           NaN                 NaN             NaN                     NaN           NaN            NaN           NaN                     NaN            NaN           NaN           NaN             NaN           NaN          NaN                    NaN                  NaN           NaN                NaN                        NaN                   NaN          NaN           NaN                 NaN           NaN               NaN           NaN             NaN            NaN            NaN                    NaN             NaN  Missense_Mutation;            NaN           NaN            NaN            NaN           NaN                 NaN          NaN           NaN            NaN               NaN        NaN        NaN        NaN        NaN        NaN        NaN        NaN        NaN        NaN        NaN        NaN       NaN       NaN       NaN       NaN     loss;     loss;       NaN   \n",
       "1             NaN           NaN                 NaN          NaN  In_Frame_Ins;            NaN           NaN                 NaN             NaN                     NaN           NaN            NaN           NaN                     NaN            NaN           NaN           NaN             NaN           NaN          NaN                    NaN                  NaN           NaN                NaN                        NaN                   NaN          NaN           NaN                 NaN           NaN               NaN           NaN             NaN            NaN            NaN                    NaN             NaN                 NaN            NaN           NaN            NaN            NaN           NaN                 NaN          NaN           NaN            NaN               NaN        NaN        NaN        NaN        NaN        NaN        NaN        NaN        NaN        NaN        NaN        NaN       NaN       NaN       NaN       NaN     loss;     loss;       NaN   \n",
       "2             NaN           NaN                 NaN          NaN            NaN            NaN           NaN                 NaN             NaN                     NaN           NaN            NaN           NaN             Truncation;            NaN           NaN           NaN             NaN           NaN          NaN                    NaN                  NaN           NaN                NaN                        NaN                   NaN          NaN           NaN                 NaN           NaN               NaN           NaN             NaN            NaN    Truncation;                    NaN             NaN                 NaN            NaN           NaN            NaN            NaN           NaN  Nonsense_Mutation;          NaN   Truncation;            NaN               NaN        NaN        NaN        NaN        NaN        NaN        NaN        NaN        NaN      gain;        NaN        NaN       NaN       NaN       NaN     loss;       NaN       NaN     gain;   \n",
       "3             NaN           NaN                 NaN          NaN            NaN            NaN           NaN                 NaN             NaN                     NaN           NaN            NaN           NaN  Truncation;Truncation;            NaN           NaN           NaN             NaN           NaN          NaN  Fusion;Fusion;Fusion;                  NaN           NaN                NaN                        NaN               Fusion;          NaN           NaN  Missense_Mutation;           NaN               NaN           NaN             NaN            NaN            NaN                    NaN             NaN                 NaN            NaN           NaN            NaN            NaN           NaN                 NaN          NaN   Truncation;            NaN               NaN        NaN        NaN        NaN        NaN        NaN        NaN        NaN        NaN        NaN        NaN        NaN       NaN       NaN       NaN       NaN       NaN       NaN       NaN   \n",
       "4             NaN           NaN                 NaN          NaN            NaN            NaN           NaN                 NaN             NaN  Truncation;Truncation;           NaN            NaN           NaN             Truncation;            NaN           NaN           NaN             NaN           NaN          NaN                    NaN                  NaN           NaN                NaN                        NaN                   NaN          NaN           NaN  Missense_Mutation;           NaN               NaN   Truncation;             NaN            NaN            NaN                    NaN             NaN                 NaN            NaN           NaN            NaN            NaN           NaN  Nonsense_Mutation;          NaN           NaN            NaN               NaN        NaN        NaN        NaN      loss;        NaN        NaN        NaN        NaN        NaN        NaN        NaN       NaN       NaN       NaN       NaN       NaN       NaN       NaN   \n",
       "\n",
       "  chr8q.cnv  \n",
       "0       NaN  \n",
       "1       NaN  \n",
       "2     gain;  \n",
       "3       NaN  \n",
       "4       NaN  "
      ]
     },
     "execution_count": 10,
     "metadata": {},
     "output_type": "execute_result"
    }
   ],
   "source": [
    "merged_meta.head()"
   ]
  },
  {
   "cell_type": "code",
   "execution_count": 11,
   "metadata": {
    "pycharm": {
     "name": "#%%\n"
    }
   },
   "outputs": [],
   "source": [
    "subtypes_merged = merged_meta.set_index('Participant').join(cluster_labels, )\n",
    "subtypes_merged.dropna(subset=['k=8'], inplace=True)\n",
    "mutations_cols = [i for i in subtypes_merged.columns if 'mutation.status' in i]\n",
    "for i in mutations_cols:\n",
    "    subtypes_merged[i] = subtypes_merged[i].astype(bool)"
   ]
  },
  {
   "cell_type": "code",
   "execution_count": 12,
   "metadata": {
    "pycharm": {
     "name": "#%%\n"
    }
   },
   "outputs": [
    {
     "data": {
      "text/plain": [
       "array(['Type', 'Plex', 'Channel', 'Parent.Sample', 'Aliquot.1',\n",
       "       'Aliquot.2', 'Analysis', 'Note', 'Mixture', 'Batch', 'MS.Use',\n",
       "       'WGS.Normal', 'WGS.Tumor', 'WES.Normal', 'WES.Tumor',\n",
       "       'WGS.Normal.bamID', 'WGS.Tumor.bamID', 'WES.Normal.bamID',\n",
       "       'WES.Tumor.bamID', 'RNA.sample', 'Genomic.Availability', 'Label',\n",
       "       'Genomic.Use', 'Transcriptomic.Use', 'miRNA.Use',\n",
       "       'MS.RNA.Match.Use', 'Metabolomics.Use', 'Lipidomics.Use', 'Ploidy',\n",
       "       'Purity', 'Consent.sex', 'Consent.age', 'Consent.race',\n",
       "       'Consent.ethnicity', 'Consent.participant.country', 'FAB',\n",
       "       'classification', 'ELN_classification', 'ABL1-BCR.mutation.status',\n",
       "       'ASXL1.mutation.status', 'BCOR.mutation.status',\n",
       "       'BCORL1.mutation.status', 'BRAF.mutation.status',\n",
       "       'CBFB-MYH11.mutation.status', 'CBL.mutation.status',\n",
       "       'CEBPA.mutation.status', 'CSF3R.mutation.status',\n",
       "       'CUX1.mutation.status', 'DEK-NUP214.mutation.status',\n",
       "       'DNMT3A.mutation.status', 'ETV6.mutation.status',\n",
       "       'EZH2.mutation.status', 'FBXW7.mutation.status',\n",
       "       'FLT3.mutation.status', 'FOXP1.mutation.status',\n",
       "       'GATA2.mutation.status', 'IDH1.mutation.status',\n",
       "       'IDH2.mutation.status', 'IGSF10.mutation.status',\n",
       "       'JAK2.mutation.status', 'KIT.mutation.status',\n",
       "       'KMT2A-Fusions.mutation.status', 'KMT2A-MLLT3.mutation.status',\n",
       "       'KRAS.mutation.status', 'MAML1-MYB.mutation.status',\n",
       "       'MED12L-start-loss.mutation.status',\n",
       "       'MLLT10-Other.mutation.status', 'NF1.mutation.status',\n",
       "       'NPM1.mutation.status', 'NRAS.mutation.status',\n",
       "       'PHF6.mutation.status', 'PML-RARA.mutation.status',\n",
       "       'PTEN.mutation.status', 'PTPN11.mutation.status',\n",
       "       'RAD21.mutation.status', 'RUNX1.mutation.status',\n",
       "       'RUNX1-RUNX1T1.mutation.status', 'SETBP1.mutation.status',\n",
       "       'SF3B1.mutation.status', 'SMC1A.mutation.status',\n",
       "       'SMC3.mutation.status', 'SRSF2.mutation.status',\n",
       "       'STAG2.mutation.status', 'TET2.mutation.status',\n",
       "       'TP53.mutation.status', 'WT1.mutation.status',\n",
       "       'ZEB2.mutation.status', 'ZRSR2.mutation.status',\n",
       "       'FLT3_ITD.mutation.status', 'FLT3_TKD.mutation.status',\n",
       "       'NPM1_Subtype', 'NPM1_Subclonal', 'RBC_score', 'isRBCcontam',\n",
       "       'ABL1-BCR.mutation', 'ASXL1.mutation', 'BCOR.mutation',\n",
       "       'BCORL1.mutation', 'BRAF.mutation', 'CBFB-MYH11.mutation',\n",
       "       'CBL.mutation', 'CEBPA.mutation', 'CSF3R.mutation',\n",
       "       'CUX1.mutation', 'DEK-NUP214.mutation', 'DNMT3A.mutation',\n",
       "       'ETV6.mutation', 'EZH2.mutation', 'FBXW7.mutation',\n",
       "       'FLT3.mutation', 'FOXP1.mutation', 'GATA2.mutation',\n",
       "       'IDH1.mutation', 'IDH2.mutation', 'IGSF10.mutation',\n",
       "       'JAK2.mutation', 'KIT.mutation', 'KMT2A-Fusions.mutation',\n",
       "       'KMT2A-MLLT3.mutation', 'KRAS.mutation', 'MAML1-MYB.mutation',\n",
       "       'MED12L-start-loss.mutation', 'MLLT10-Other.mutation',\n",
       "       'NF1.mutation', 'NPM1.mutation', 'NRAS.mutation', 'PHF6.mutation',\n",
       "       'PML-RARA.mutation', 'PTEN.mutation', 'PTPN11.mutation',\n",
       "       'RAD21.mutation', 'RUNX1.mutation', 'RUNX1-RUNX1T1.mutation',\n",
       "       'SETBP1.mutation', 'SF3B1.mutation', 'SMC1A.mutation',\n",
       "       'SMC3.mutation', 'SRSF2.mutation', 'STAG2.mutation',\n",
       "       'TET2.mutation', 'TP53.mutation', 'WT1.mutation', 'ZEB2.mutation',\n",
       "       'ZRSR2.mutation', 'FLT3_ITD.mutation', 'chr11p.cnv', 'chr11q.cnv',\n",
       "       'chr12p.cnv', 'chr17p.cnv', 'chr17q.cnv', 'chr19p.cnv',\n",
       "       'chr19q.cnv', 'chr21p.cnv', 'chr21q.cnv', 'chr22p.cnv',\n",
       "       'chr22q.cnv', 'chr4p.cnv', 'chr4q.cnv', 'chr5p.cnv', 'chr5q.cnv',\n",
       "       'chr7p.cnv', 'chr7q.cnv', 'chr8p.cnv', 'chr8q.cnv', 'Barcode.ID',\n",
       "       'k=2', 'k=3', 'k=4', 'k=5', 'k=6', 'k=7', 'k=8', 'k=9', 'k=10'],\n",
       "      dtype=object)"
      ]
     },
     "execution_count": 12,
     "metadata": {},
     "output_type": "execute_result"
    }
   ],
   "source": [
    "subtypes_merged.columns.values"
   ]
  },
  {
   "cell_type": "code",
   "execution_count": null,
   "metadata": {
    "pycharm": {
     "name": "#%%\n"
    }
   },
   "outputs": [],
   "source": []
  },
  {
   "cell_type": "code",
   "execution_count": 13,
   "metadata": {
    "pycharm": {
     "name": "#%%\n"
    }
   },
   "outputs": [
    {
     "data": {
      "text/plain": [
       "C3L.00452    2.017\n",
       "C3L.00453    1.987\n",
       "C3L.00455    2.000\n",
       "C3L.00458    1.947\n",
       "C3L.00458    1.947\n",
       "C3L.00459    1.953\n",
       "C3L.00540    1.953\n",
       "C3L.00614    2.000\n",
       "C3L.00810    2.000\n",
       "C3L.01182    1.883\n",
       "C3L.01182    1.883\n",
       "C3L.01187    2.000\n",
       "C3L.01187    2.000\n",
       "C3L.01188    2.000\n",
       "C3L.01201    1.946\n",
       "C3L.01201    1.946\n",
       "C3L.01202    2.050\n",
       "C3L.01291    2.000\n",
       "C3L.01295    2.000\n",
       "C3L.01425    2.000\n",
       "C3L.01425    2.000\n",
       "C3L.01426    1.925\n",
       "C3L.01427    2.231\n",
       "C3L.01694    2.000\n",
       "C3L.01696    2.000\n",
       "C3L.01700    2.000\n",
       "C3L.02135    2.000\n",
       "C3L.02136    2.000\n",
       "C3L.02779    2.000\n",
       "C3L.03303    2.000\n",
       "C3L.03308    1.948\n",
       "C3L.03491    2.000\n",
       "C3L.03493    2.000\n",
       "C3L.03496    2.000\n",
       "C3L.03506    2.000\n",
       "C3L.03506    2.000\n",
       "C3L.03508    1.988\n",
       "C3L.03508    1.988\n",
       "C3L.03510    2.048\n",
       "C3L.03510    2.048\n",
       "C3L.04231    2.000\n",
       "C3L.04231    2.000\n",
       "C3L.04236    2.000\n",
       "C3L.04236    2.000\n",
       "C3L.04242    2.000\n",
       "C3L.04244    2.000\n",
       "C3L.04250    2.000\n",
       "C3L.04263    2.019\n",
       "C3L.04265    1.994\n",
       "C3L.04269    2.000\n",
       "C3L.04269    2.000\n",
       "C3L.04270    1.844\n",
       "C3L.04270    1.844\n",
       "C3L.04483    2.000\n",
       "C3L.04486    2.000\n",
       "C3L.04486    2.000\n",
       "C3L.04489    1.963\n",
       "C3L.04489    1.963\n",
       "C3L.04508    2.014\n",
       "C3L.04761    1.951\n",
       "C3L.04761    1.951\n",
       "C3L.04763    2.019\n",
       "C3L.04766    2.000\n",
       "C3L.04971    2.000\n",
       "C3L.04971    2.000\n",
       "C3L.04976    2.000\n",
       "C3L.05313    2.000\n",
       "C3L.05313    2.000\n",
       "C3L.05315    2.000\n",
       "C3L.05316    2.000\n",
       "C3L.05316    2.000\n",
       "C3L.05317    2.031\n",
       "C3L.05318    2.000\n",
       "C3L.05318    2.000\n",
       "C3L.05320    2.000\n",
       "C3L.05325    2.049\n",
       "C3L.05326    2.000\n",
       "C3L.05329    2.000\n",
       "C3L.05329    2.000\n",
       "C3L.05331    2.048\n",
       "C3L.05334    2.000\n",
       "C3L.05335    2.000\n",
       "C3L.05335    2.000\n",
       "C3L.05338    1.928\n",
       "C3L.05386    2.000\n",
       "C3L.05387    4.000\n",
       "C3L.05678    2.000\n",
       "C3L.05811    2.000\n",
       "C3L.05815    1.881\n",
       "C3L.05816    2.000\n",
       "C3L.05818    2.000\n",
       "C3L.05819    1.944\n",
       "C3L.05861    2.000\n",
       "C3L.05861    2.000\n",
       "C3L.05861    2.000\n",
       "C3L.05862    2.000\n",
       "C3L.05865    2.209\n",
       "C3L.05865    2.209\n",
       "C3L.05866    2.000\n",
       "C3L.05866    2.000\n",
       "C3L.05867    2.000\n",
       "C3L.05870    2.078\n",
       "C3L.05872    2.021\n",
       "C3L.05874    2.000\n",
       "C3L.05874    2.000\n",
       "C3L.05874    2.000\n",
       "C3L.05877    1.935\n",
       "C3L.05877    1.935\n",
       "C3L.05880    2.000\n",
       "C3L.05880    2.000\n",
       "C3L.05884    2.000\n",
       "C3L.05884    2.000\n",
       "C3L.05887    2.000\n",
       "C3L.05887    2.000\n",
       "C3L.05888    2.000\n",
       "C3L.05888    2.000\n",
       "C3L.05889    2.000\n",
       "C3L.05889    2.000\n",
       "C3L.05891    2.058\n",
       "C3L.05891    2.058\n",
       "C3L.05892    2.000\n",
       "C3L.05892    2.000\n",
       "C3L.05894    2.000\n",
       "C3L.05894    2.000\n",
       "C3L.05896    2.046\n",
       "C3L.05896    2.046\n",
       "C3L.05898    2.000\n",
       "C3L.05898    2.000\n",
       "C3L.05905    2.000\n",
       "C3L.05905    2.000\n",
       "C3L.05907    2.078\n",
       "C3L.05908    2.000\n",
       "C3L.06061    1.869\n",
       "C3L.06063    2.000\n",
       "C3L.06064    2.070\n",
       "C3L.06066    2.000\n",
       "C3L.06067    2.157\n",
       "C3L.06068    2.098\n",
       "C3L.06069    2.000\n",
       "C3L.06070    2.000\n",
       "C3L.06070    2.000\n",
       "C3L.06072    2.000\n",
       "C3L.06073    2.000\n",
       "C3L.06073    2.000\n",
       "C3L.06074    2.000\n",
       "C3L.06075    2.000\n",
       "C3L.06075    2.000\n",
       "C3L.06081    1.996\n",
       "C3L.06081    1.996\n",
       "C3L.06082    2.000\n",
       "C3L.06082    2.000\n",
       "C3L.06087    2.000\n",
       "C3L.06089    2.000\n",
       "C3L.06090    2.000\n",
       "C3L.06352    2.084\n",
       "C3L.06356    2.000\n",
       "C3L.06356    2.000\n",
       "C3L.06357    1.932\n",
       "C3L.06357    1.932\n",
       "C3L.06361    3.964\n",
       "C3L.06361    3.964\n",
       "C3L.06364    2.000\n",
       "C3L.06364    2.000\n",
       "C3L.06367    2.000\n",
       "C3L.06367    2.000\n",
       "C3L.06368    2.000\n",
       "C3L.06368    2.000\n",
       "C3L.06369    2.000\n",
       "C3L.06369    2.000\n",
       "C3L.06374    2.000\n",
       "C3L.06374    2.000\n",
       "C3L.06386    1.939\n",
       "C3L.06386    1.939\n",
       "C3L.06534    2.000\n",
       "C3L.06537    2.000\n",
       "C3L.06538    2.000\n",
       "C3L.06539    2.000\n",
       "C3L.06540    1.947\n",
       "C3L.06541    2.584\n",
       "C3L.06542    2.000\n",
       "C3L.06543    2.000\n",
       "C3L.06801    2.000\n",
       "C3L.06801    2.000\n",
       "C3L.06803    2.000\n",
       "C3L.06806    2.000\n",
       "C3L.06807    2.048\n",
       "C3L.06809    1.935\n",
       "C3L.06951    1.886\n",
       "C3L.06952    2.120\n",
       "C3L.06953    1.966\n",
       "C3L.06954    2.000\n",
       "C3L.06956    2.000\n",
       "C3L.06960    2.097\n",
       "C3L.06981    2.000\n",
       "C3L.06982    2.000\n",
       "C3L.06983    1.984\n",
       "C3L.06984    2.000\n",
       "C3L.07012    2.000\n",
       "C3L.07013    2.000\n",
       "C3L.07437    2.000\n",
       "C3L.07439    2.000\n",
       "C3L.07490    1.878\n",
       "C3L.07490    1.878\n",
       "C3N.00466    2.000\n",
       "C3N.00651    2.000\n",
       "C3N.00656    2.000\n",
       "C3N.00659    2.007\n",
       "C3N.00660    2.000\n",
       "C3N.00681    2.000\n",
       "C3N.00682    2.000\n",
       "C3N.00689    2.000\n",
       "Name: Ploidy, dtype: float64"
      ]
     },
     "execution_count": 13,
     "metadata": {},
     "output_type": "execute_result"
    }
   ],
   "source": [
    "subtypes_merged['Ploidy']"
   ]
  },
  {
   "cell_type": "code",
   "execution_count": 14,
   "metadata": {
    "pycharm": {
     "name": "#%%\n"
    }
   },
   "outputs": [
    {
     "data": {
      "text/plain": [
       "['ELN_classification', 'Consent.participant.country']"
      ]
     },
     "execution_count": 14,
     "metadata": {},
     "output_type": "execute_result"
    }
   ],
   "source": [
    "['ELN_classification', 'Consent.participant.country']"
   ]
  },
  {
   "cell_type": "code",
   "execution_count": 15,
   "metadata": {
    "pycharm": {
     "name": "#%%\n"
    }
   },
   "outputs": [
    {
     "data": {
      "image/png": "[encoded data removed]",
      "text/plain": [
       "<Figure size 1200x1200 with 4 Axes>"
      ]
     },
     "metadata": {},
     "output_type": "display_data"
    }
   ],
   "source": [
    "cl = cluster_labels.drop('Barcode.ID', axis=1).copy()\n",
    "sns.clustermap(\n",
    "    cl.sort_values('k=9'),\n",
    "    figsize=(12,12),\n",
    "    col_cluster=False,\n",
    "    row_cluster=True,\n",
    "    method='ward',\n",
    "    cmap='tab10',\n",
    "#     metric='hamming',\n",
    "    cbar_kws={\"ticks\":range(2, 10)},\n",
    "    cbar_pos=(1., .2, .03, .4),\n",
    "    yticklabels=False,\n",
    ");\n",
    "plt.savefig(\"subtype_reoccurs_wg.png\", dpi=300, bbox_inches='tight')"
   ]
  },
  {
   "cell_type": "code",
   "execution_count": 16,
   "metadata": {
    "pycharm": {
     "name": "#%%\n"
    }
   },
   "outputs": [
    {
     "data": {
      "image/png": "[encoded data removed]",
      "text/plain": [
       "<Figure size 1200x1200 with 4 Axes>"
      ]
     },
     "metadata": {},
     "output_type": "display_data"
    }
   ],
   "source": [
    "sns.clustermap(\n",
    "    cl[['k=4', 'k=8']].sort_values(['k=4', 'k=8']),\n",
    "    figsize=(12,12),\n",
    "    col_cluster=False,\n",
    "    row_cluster=False,\n",
    "    method='ward',\n",
    "    cmap='tab10',\n",
    "    metric='hamming',\n",
    "    cbar_kws={\"ticks\":range(2, 10)},\n",
    "    cbar_pos=(1., .2, .03, .4),\n",
    "    yticklabels=False,\n",
    ");\n",
    "plt.savefig(\"subtype_reoccurs_wg_4_8.png\", dpi=300, bbox_inches='tight')"
   ]
  },
  {
   "cell_type": "code",
   "execution_count": 17,
   "metadata": {
    "pycharm": {
     "name": "#%%\n"
    }
   },
   "outputs": [],
   "source": [
    "\n",
    "\n",
    "counts = {}\n",
    "for i, df in cl[['k=4', 'k=8']].groupby(['k=4'], sort=True):\n",
    "    df['k1=8'] = 'c8_'+ df['k=8'].astype(str)\n",
    "    counts['c4_'+str(i)] = df['k1=8'].value_counts().to_dict()\n"
   ]
  },
  {
   "cell_type": "code",
   "execution_count": 18,
   "metadata": {
    "pycharm": {
     "name": "#%%\n"
    }
   },
   "outputs": [
    {
     "data": {
      "text/html": [
       "<div>\n",
       "<style scoped>\n",
       "    .dataframe tbody tr th:only-of-type {\n",
       "        vertical-align: middle;\n",
       "    }\n",
       "\n",
       "    .dataframe tbody tr th {\n",
       "        vertical-align: top;\n",
       "    }\n",
       "\n",
       "    .dataframe thead th {\n",
       "        text-align: right;\n",
       "    }\n",
       "</style>\n",
       "<table border=\"1\" class=\"dataframe\">\n",
       "  <thead>\n",
       "    <tr style=\"text-align: right;\">\n",
       "      <th></th>\n",
       "      <th>source</th>\n",
       "      <th>target</th>\n",
       "      <th>count</th>\n",
       "    </tr>\n",
       "  </thead>\n",
       "  <tbody>\n",
       "    <tr>\n",
       "      <th>0</th>\n",
       "      <td>0</td>\n",
       "      <td>3</td>\n",
       "      <td>29</td>\n",
       "    </tr>\n",
       "    <tr>\n",
       "      <th>1</th>\n",
       "      <td>0</td>\n",
       "      <td>7</td>\n",
       "      <td>14</td>\n",
       "    </tr>\n",
       "    <tr>\n",
       "      <th>2</th>\n",
       "      <td>0</td>\n",
       "      <td>5</td>\n",
       "      <td>5</td>\n",
       "    </tr>\n",
       "    <tr>\n",
       "      <th>3</th>\n",
       "      <td>0</td>\n",
       "      <td>6</td>\n",
       "      <td>1</td>\n",
       "    </tr>\n",
       "    <tr>\n",
       "      <th>4</th>\n",
       "      <td>1</td>\n",
       "      <td>4</td>\n",
       "      <td>29</td>\n",
       "    </tr>\n",
       "    <tr>\n",
       "      <th>5</th>\n",
       "      <td>1</td>\n",
       "      <td>7</td>\n",
       "      <td>17</td>\n",
       "    </tr>\n",
       "    <tr>\n",
       "      <th>6</th>\n",
       "      <td>1</td>\n",
       "      <td>5</td>\n",
       "      <td>13</td>\n",
       "    </tr>\n",
       "    <tr>\n",
       "      <th>7</th>\n",
       "      <td>1</td>\n",
       "      <td>6</td>\n",
       "      <td>1</td>\n",
       "    </tr>\n",
       "    <tr>\n",
       "      <th>8</th>\n",
       "      <td>2</td>\n",
       "      <td>6</td>\n",
       "      <td>27</td>\n",
       "    </tr>\n",
       "    <tr>\n",
       "      <th>9</th>\n",
       "      <td>2</td>\n",
       "      <td>5</td>\n",
       "      <td>17</td>\n",
       "    </tr>\n",
       "    <tr>\n",
       "      <th>10</th>\n",
       "      <td>2</td>\n",
       "      <td>4</td>\n",
       "      <td>2</td>\n",
       "    </tr>\n",
       "    <tr>\n",
       "      <th>11</th>\n",
       "      <td>2</td>\n",
       "      <td>7</td>\n",
       "      <td>1</td>\n",
       "    </tr>\n",
       "    <tr>\n",
       "      <th>12</th>\n",
       "      <td>3</td>\n",
       "      <td>8</td>\n",
       "      <td>22</td>\n",
       "    </tr>\n",
       "    <tr>\n",
       "      <th>13</th>\n",
       "      <td>3</td>\n",
       "      <td>14</td>\n",
       "      <td>2</td>\n",
       "    </tr>\n",
       "    <tr>\n",
       "      <th>14</th>\n",
       "      <td>3</td>\n",
       "      <td>15</td>\n",
       "      <td>2</td>\n",
       "    </tr>\n",
       "    <tr>\n",
       "      <th>15</th>\n",
       "      <td>3</td>\n",
       "      <td>9</td>\n",
       "      <td>1</td>\n",
       "    </tr>\n",
       "    <tr>\n",
       "      <th>16</th>\n",
       "      <td>3</td>\n",
       "      <td>13</td>\n",
       "      <td>1</td>\n",
       "    </tr>\n",
       "    <tr>\n",
       "      <th>17</th>\n",
       "      <td>3</td>\n",
       "      <td>10</td>\n",
       "      <td>1</td>\n",
       "    </tr>\n",
       "    <tr>\n",
       "      <th>18</th>\n",
       "      <td>4</td>\n",
       "      <td>10</td>\n",
       "      <td>22</td>\n",
       "    </tr>\n",
       "    <tr>\n",
       "      <th>19</th>\n",
       "      <td>4</td>\n",
       "      <td>12</td>\n",
       "      <td>5</td>\n",
       "    </tr>\n",
       "    <tr>\n",
       "      <th>20</th>\n",
       "      <td>4</td>\n",
       "      <td>9</td>\n",
       "      <td>3</td>\n",
       "    </tr>\n",
       "    <tr>\n",
       "      <th>21</th>\n",
       "      <td>4</td>\n",
       "      <td>15</td>\n",
       "      <td>1</td>\n",
       "    </tr>\n",
       "    <tr>\n",
       "      <th>22</th>\n",
       "      <td>5</td>\n",
       "      <td>11</td>\n",
       "      <td>23</td>\n",
       "    </tr>\n",
       "    <tr>\n",
       "      <th>23</th>\n",
       "      <td>5</td>\n",
       "      <td>9</td>\n",
       "      <td>8</td>\n",
       "    </tr>\n",
       "    <tr>\n",
       "      <th>24</th>\n",
       "      <td>5</td>\n",
       "      <td>12</td>\n",
       "      <td>3</td>\n",
       "    </tr>\n",
       "    <tr>\n",
       "      <th>25</th>\n",
       "      <td>5</td>\n",
       "      <td>10</td>\n",
       "      <td>1</td>\n",
       "    </tr>\n",
       "    <tr>\n",
       "      <th>26</th>\n",
       "      <td>6</td>\n",
       "      <td>13</td>\n",
       "      <td>19</td>\n",
       "    </tr>\n",
       "    <tr>\n",
       "      <th>27</th>\n",
       "      <td>6</td>\n",
       "      <td>9</td>\n",
       "      <td>5</td>\n",
       "    </tr>\n",
       "    <tr>\n",
       "      <th>28</th>\n",
       "      <td>6</td>\n",
       "      <td>12</td>\n",
       "      <td>5</td>\n",
       "    </tr>\n",
       "    <tr>\n",
       "      <th>29</th>\n",
       "      <td>7</td>\n",
       "      <td>14</td>\n",
       "      <td>15</td>\n",
       "    </tr>\n",
       "    <tr>\n",
       "      <th>30</th>\n",
       "      <td>7</td>\n",
       "      <td>15</td>\n",
       "      <td>15</td>\n",
       "    </tr>\n",
       "    <tr>\n",
       "      <th>31</th>\n",
       "      <td>7</td>\n",
       "      <td>11</td>\n",
       "      <td>1</td>\n",
       "    </tr>\n",
       "    <tr>\n",
       "      <th>32</th>\n",
       "      <td>7</td>\n",
       "      <td>10</td>\n",
       "      <td>1</td>\n",
       "    </tr>\n",
       "  </tbody>\n",
       "</table>\n",
       "</div>"
      ],
      "text/plain": [
       "    source  target  count\n",
       "0        0       3     29\n",
       "1        0       7     14\n",
       "2        0       5      5\n",
       "3        0       6      1\n",
       "4        1       4     29\n",
       "5        1       7     17\n",
       "6        1       5     13\n",
       "7        1       6      1\n",
       "8        2       6     27\n",
       "9        2       5     17\n",
       "10       2       4      2\n",
       "11       2       7      1\n",
       "12       3       8     22\n",
       "13       3      14      2\n",
       "14       3      15      2\n",
       "15       3       9      1\n",
       "16       3      13      1\n",
       "17       3      10      1\n",
       "18       4      10     22\n",
       "19       4      12      5\n",
       "20       4       9      3\n",
       "21       4      15      1\n",
       "22       5      11     23\n",
       "23       5       9      8\n",
       "24       5      12      3\n",
       "25       5      10      1\n",
       "26       6      13     19\n",
       "27       6       9      5\n",
       "28       6      12      5\n",
       "29       7      14     15\n",
       "30       7      15     15\n",
       "31       7      11      1\n",
       "32       7      10      1"
      ]
     },
     "execution_count": 18,
     "metadata": {},
     "output_type": "execute_result"
    }
   ],
   "source": [
    "counts_flat = []\n",
    "for i, df in cl[['k=3', 'k=5']].groupby(['k=3'], sort=True):    \n",
    "    i-=1\n",
    "    for key, value in df['k=5'].value_counts().to_dict().items():\n",
    "        counts_flat.append([i, key-1+3, value])\n",
    "        \n",
    "for i, df in cl[['k=5', 'k=8']].groupby(['k=5'], sort=True):\n",
    "    i-=1\n",
    "    for key, value in df['k=8'].value_counts().to_dict().items():\n",
    "        counts_flat.append([i+3, key-1+3+5, value])\n",
    "        \n",
    "counts_flat = pd.DataFrame(counts_flat, columns=['source', 'target', 'count'])\n",
    "counts_flat"
   ]
  },
  {
   "cell_type": "code",
   "execution_count": null,
   "metadata": {
    "pycharm": {
     "name": "#%%\n"
    }
   },
   "outputs": [],
   "source": [
    "labels = []\n",
    "for i in range(1, 4):\n",
    "    labels.append(f'c3_{i}')\n",
    "for i in range(1, 6):\n",
    "    labels.append(f'c5_{i}')\n",
    "for i in range(1, 9):\n",
    "    labels.append(f'c8_{i}')"
   ]
  },
  {
   "cell_type": "code",
   "execution_count": 22,
   "metadata": {
    "pycharm": {
     "name": "#%%\n"
    }
   },
   "outputs": [
    {
     "data": {
      "text/html": [
       "<div>\n",
       "<style scoped>\n",
       "    .dataframe tbody tr th:only-of-type {\n",
       "        vertical-align: middle;\n",
       "    }\n",
       "\n",
       "    .dataframe tbody tr th {\n",
       "        vertical-align: top;\n",
       "    }\n",
       "\n",
       "    .dataframe thead th {\n",
       "        text-align: right;\n",
       "    }\n",
       "</style>\n",
       "<table border=\"1\" class=\"dataframe\">\n",
       "  <thead>\n",
       "    <tr style=\"text-align: right;\">\n",
       "      <th></th>\n",
       "      <th>source</th>\n",
       "      <th>target</th>\n",
       "      <th>count</th>\n",
       "    </tr>\n",
       "  </thead>\n",
       "  <tbody>\n",
       "    <tr>\n",
       "      <th>0</th>\n",
       "      <td>0</td>\n",
       "      <td>3</td>\n",
       "      <td>29</td>\n",
       "    </tr>\n",
       "    <tr>\n",
       "      <th>1</th>\n",
       "      <td>0</td>\n",
       "      <td>7</td>\n",
       "      <td>14</td>\n",
       "    </tr>\n",
       "    <tr>\n",
       "      <th>2</th>\n",
       "      <td>0</td>\n",
       "      <td>5</td>\n",
       "      <td>5</td>\n",
       "    </tr>\n",
       "    <tr>\n",
       "      <th>3</th>\n",
       "      <td>0</td>\n",
       "      <td>6</td>\n",
       "      <td>1</td>\n",
       "    </tr>\n",
       "    <tr>\n",
       "      <th>4</th>\n",
       "      <td>1</td>\n",
       "      <td>4</td>\n",
       "      <td>29</td>\n",
       "    </tr>\n",
       "    <tr>\n",
       "      <th>5</th>\n",
       "      <td>1</td>\n",
       "      <td>7</td>\n",
       "      <td>17</td>\n",
       "    </tr>\n",
       "    <tr>\n",
       "      <th>6</th>\n",
       "      <td>1</td>\n",
       "      <td>5</td>\n",
       "      <td>13</td>\n",
       "    </tr>\n",
       "    <tr>\n",
       "      <th>7</th>\n",
       "      <td>1</td>\n",
       "      <td>6</td>\n",
       "      <td>1</td>\n",
       "    </tr>\n",
       "    <tr>\n",
       "      <th>8</th>\n",
       "      <td>2</td>\n",
       "      <td>6</td>\n",
       "      <td>27</td>\n",
       "    </tr>\n",
       "    <tr>\n",
       "      <th>9</th>\n",
       "      <td>2</td>\n",
       "      <td>5</td>\n",
       "      <td>17</td>\n",
       "    </tr>\n",
       "    <tr>\n",
       "      <th>10</th>\n",
       "      <td>2</td>\n",
       "      <td>4</td>\n",
       "      <td>2</td>\n",
       "    </tr>\n",
       "    <tr>\n",
       "      <th>11</th>\n",
       "      <td>2</td>\n",
       "      <td>7</td>\n",
       "      <td>1</td>\n",
       "    </tr>\n",
       "    <tr>\n",
       "      <th>12</th>\n",
       "      <td>3</td>\n",
       "      <td>8</td>\n",
       "      <td>22</td>\n",
       "    </tr>\n",
       "    <tr>\n",
       "      <th>13</th>\n",
       "      <td>3</td>\n",
       "      <td>14</td>\n",
       "      <td>2</td>\n",
       "    </tr>\n",
       "    <tr>\n",
       "      <th>14</th>\n",
       "      <td>3</td>\n",
       "      <td>15</td>\n",
       "      <td>2</td>\n",
       "    </tr>\n",
       "    <tr>\n",
       "      <th>15</th>\n",
       "      <td>3</td>\n",
       "      <td>9</td>\n",
       "      <td>1</td>\n",
       "    </tr>\n",
       "    <tr>\n",
       "      <th>16</th>\n",
       "      <td>3</td>\n",
       "      <td>13</td>\n",
       "      <td>1</td>\n",
       "    </tr>\n",
       "    <tr>\n",
       "      <th>17</th>\n",
       "      <td>3</td>\n",
       "      <td>10</td>\n",
       "      <td>1</td>\n",
       "    </tr>\n",
       "    <tr>\n",
       "      <th>18</th>\n",
       "      <td>4</td>\n",
       "      <td>10</td>\n",
       "      <td>22</td>\n",
       "    </tr>\n",
       "    <tr>\n",
       "      <th>19</th>\n",
       "      <td>4</td>\n",
       "      <td>12</td>\n",
       "      <td>5</td>\n",
       "    </tr>\n",
       "    <tr>\n",
       "      <th>20</th>\n",
       "      <td>4</td>\n",
       "      <td>9</td>\n",
       "      <td>3</td>\n",
       "    </tr>\n",
       "    <tr>\n",
       "      <th>21</th>\n",
       "      <td>4</td>\n",
       "      <td>15</td>\n",
       "      <td>1</td>\n",
       "    </tr>\n",
       "    <tr>\n",
       "      <th>22</th>\n",
       "      <td>5</td>\n",
       "      <td>11</td>\n",
       "      <td>23</td>\n",
       "    </tr>\n",
       "    <tr>\n",
       "      <th>23</th>\n",
       "      <td>5</td>\n",
       "      <td>9</td>\n",
       "      <td>8</td>\n",
       "    </tr>\n",
       "    <tr>\n",
       "      <th>24</th>\n",
       "      <td>5</td>\n",
       "      <td>12</td>\n",
       "      <td>3</td>\n",
       "    </tr>\n",
       "    <tr>\n",
       "      <th>25</th>\n",
       "      <td>5</td>\n",
       "      <td>10</td>\n",
       "      <td>1</td>\n",
       "    </tr>\n",
       "    <tr>\n",
       "      <th>26</th>\n",
       "      <td>6</td>\n",
       "      <td>13</td>\n",
       "      <td>19</td>\n",
       "    </tr>\n",
       "    <tr>\n",
       "      <th>27</th>\n",
       "      <td>6</td>\n",
       "      <td>9</td>\n",
       "      <td>5</td>\n",
       "    </tr>\n",
       "    <tr>\n",
       "      <th>28</th>\n",
       "      <td>6</td>\n",
       "      <td>12</td>\n",
       "      <td>5</td>\n",
       "    </tr>\n",
       "    <tr>\n",
       "      <th>29</th>\n",
       "      <td>7</td>\n",
       "      <td>14</td>\n",
       "      <td>15</td>\n",
       "    </tr>\n",
       "    <tr>\n",
       "      <th>30</th>\n",
       "      <td>7</td>\n",
       "      <td>15</td>\n",
       "      <td>15</td>\n",
       "    </tr>\n",
       "    <tr>\n",
       "      <th>31</th>\n",
       "      <td>7</td>\n",
       "      <td>11</td>\n",
       "      <td>1</td>\n",
       "    </tr>\n",
       "    <tr>\n",
       "      <th>32</th>\n",
       "      <td>7</td>\n",
       "      <td>10</td>\n",
       "      <td>1</td>\n",
       "    </tr>\n",
       "  </tbody>\n",
       "</table>\n",
       "</div>"
      ],
      "text/plain": [
       "    source  target  count\n",
       "0        0       3     29\n",
       "1        0       7     14\n",
       "2        0       5      5\n",
       "3        0       6      1\n",
       "4        1       4     29\n",
       "5        1       7     17\n",
       "6        1       5     13\n",
       "7        1       6      1\n",
       "8        2       6     27\n",
       "9        2       5     17\n",
       "10       2       4      2\n",
       "11       2       7      1\n",
       "12       3       8     22\n",
       "13       3      14      2\n",
       "14       3      15      2\n",
       "15       3       9      1\n",
       "16       3      13      1\n",
       "17       3      10      1\n",
       "18       4      10     22\n",
       "19       4      12      5\n",
       "20       4       9      3\n",
       "21       4      15      1\n",
       "22       5      11     23\n",
       "23       5       9      8\n",
       "24       5      12      3\n",
       "25       5      10      1\n",
       "26       6      13     19\n",
       "27       6       9      5\n",
       "28       6      12      5\n",
       "29       7      14     15\n",
       "30       7      15     15\n",
       "31       7      11      1\n",
       "32       7      10      1"
      ]
     },
     "execution_count": 22,
     "metadata": {},
     "output_type": "execute_result"
    }
   ],
   "source": []
  },
  {
   "cell_type": "code",
   "execution_count": 24,
   "metadata": {
    "pycharm": {
     "name": "#%%\n"
    }
   },
   "outputs": [
    {
     "data": {
      "application/vnd.plotly.v1+json": {
       "config": {
        "plotlyServerURL": "https://plot.ly"
       },
       "data": [
        {
         "link": {
          "label": [
           29,
           14,
           5,
           1,
           29,
           17,
           13,
           1,
           27,
           17,
           2,
           1,
           22,
           2,
           2,
           1,
           1,
           1,
           22,
           5,
           3,
           1,
           23,
           8,
           3,
           1,
           19,
           5,
           5,
           15,
           15,
           1,
           1
          ],
          "source": [
           0,
           0,
           0,
           0,
           1,
           1,
           1,
           1,
           2,
           2,
           2,
           2,
           3,
           3,
           3,
           3,
           3,
           3,
           4,
           4,
           4,
           4,
           5,
           5,
           5,
           5,
           6,
           6,
           6,
           7,
           7,
           7,
           7
          ],
          "target": [
           3,
           7,
           5,
           6,
           4,
           7,
           5,
           6,
           6,
           5,
           4,
           7,
           8,
           14,
           15,
           9,
           13,
           10,
           10,
           12,
           9,
           15,
           11,
           9,
           12,
           10,
           13,
           9,
           12,
           14,
           15,
           11,
           10
          ],
          "value": [
           29,
           14,
           5,
           1,
           29,
           17,
           13,
           1,
           27,
           17,
           2,
           1,
           22,
           2,
           2,
           1,
           1,
           1,
           22,
           5,
           3,
           1,
           23,
           8,
           3,
           1,
           19,
           5,
           5,
           15,
           15,
           1,
           1
          ]
         },
         "node": {
          "label": [
           "c3_1",
           "c3_2",
           "c3_3",
           "c5_1",
           "c5_2",
           "c5_3",
           "c5_4",
           "c5_5",
           "c8_1",
           "c8_2",
           "c8_3",
           "c8_4",
           "c8_5",
           "c8_6",
           "c8_7",
           "c8_8"
          ],
          "line": {
           "color": "black",
           "width": 0.5
          },
          "pad": 15,
          "thickness": 20
         },
         "type": "sankey"
        }
       ],
       "layout": {
        "font": {
         "size": 10
        },
        "template": {
         "data": {
          "bar": [
           {
            "error_x": {
             "color": "#2a3f5f"
            },
            "error_y": {
             "color": "#2a3f5f"
            },
            "marker": {
             "line": {
              "color": "#E5ECF6",
              "width": 0.5
             },
             "pattern": {
              "fillmode": "overlay",
              "size": 10,
              "solidity": 0.2
             }
            },
            "type": "bar"
           }
          ],
          "barpolar": [
           {
            "marker": {
             "line": {
              "color": "#E5ECF6",
              "width": 0.5
             },
             "pattern": {
              "fillmode": "overlay",
              "size": 10,
              "solidity": 0.2
             }
            },
            "type": "barpolar"
           }
          ],
          "carpet": [
           {
            "aaxis": {
             "endlinecolor": "#2a3f5f",
             "gridcolor": "white",
             "linecolor": "white",
             "minorgridcolor": "white",
             "startlinecolor": "#2a3f5f"
            },
            "baxis": {
             "endlinecolor": "#2a3f5f",
             "gridcolor": "white",
             "linecolor": "white",
             "minorgridcolor": "white",
             "startlinecolor": "#2a3f5f"
            },
            "type": "carpet"
           }
          ],
          "choropleth": [
           {
            "colorbar": {
             "outlinewidth": 0,
             "ticks": ""
            },
            "type": "choropleth"
           }
          ],
          "contour": [
           {
            "colorbar": {
             "outlinewidth": 0,
             "ticks": ""
            },
            "colorscale": [
             [
              0,
              "#0d0887"
             ],
             [
              0.1111111111111111,
              "#46039f"
             ],
             [
              0.2222222222222222,
              "#7201a8"
             ],
             [
              0.3333333333333333,
              "#9c179e"
             ],
             [
              0.4444444444444444,
              "#bd3786"
             ],
             [
              0.5555555555555556,
              "#d8576b"
             ],
             [
              0.6666666666666666,
              "#ed7953"
             ],
             [
              0.7777777777777778,
              "#fb9f3a"
             ],
             [
              0.8888888888888888,
              "#fdca26"
             ],
             [
              1,
              "#f0f921"
             ]
            ],
            "type": "contour"
           }
          ],
          "contourcarpet": [
           {
            "colorbar": {
             "outlinewidth": 0,
             "ticks": ""
            },
            "type": "contourcarpet"
           }
          ],
          "heatmap": [
           {
            "colorbar": {
             "outlinewidth": 0,
             "ticks": ""
            },
            "colorscale": [
             [
              0,
              "#0d0887"
             ],
             [
              0.1111111111111111,
              "#46039f"
             ],
             [
              0.2222222222222222,
              "#7201a8"
             ],
             [
              0.3333333333333333,
              "#9c179e"
             ],
             [
              0.4444444444444444,
              "#bd3786"
             ],
             [
              0.5555555555555556,
              "#d8576b"
             ],
             [
              0.6666666666666666,
              "#ed7953"
             ],
             [
              0.7777777777777778,
              "#fb9f3a"
             ],
             [
              0.8888888888888888,
              "#fdca26"
             ],
             [
              1,
              "#f0f921"
             ]
            ],
            "type": "heatmap"
           }
          ],
          "heatmapgl": [
           {
            "colorbar": {
             "outlinewidth": 0,
             "ticks": ""
            },
            "colorscale": [
             [
              0,
              "#0d0887"
             ],
             [
              0.1111111111111111,
              "#46039f"
             ],
             [
              0.2222222222222222,
              "#7201a8"
             ],
             [
              0.3333333333333333,
              "#9c179e"
             ],
             [
              0.4444444444444444,
              "#bd3786"
             ],
             [
              0.5555555555555556,
              "#d8576b"
             ],
             [
              0.6666666666666666,
              "#ed7953"
             ],
             [
              0.7777777777777778,
              "#fb9f3a"
             ],
             [
              0.8888888888888888,
              "#fdca26"
             ],
             [
              1,
              "#f0f921"
             ]
            ],
            "type": "heatmapgl"
           }
          ],
          "histogram": [
           {
            "marker": {
             "pattern": {
              "fillmode": "overlay",
              "size": 10,
              "solidity": 0.2
             }
            },
            "type": "histogram"
           }
          ],
          "histogram2d": [
           {
            "colorbar": {
             "outlinewidth": 0,
             "ticks": ""
            },
            "colorscale": [
             [
              0,
              "#0d0887"
             ],
             [
              0.1111111111111111,
              "#46039f"
             ],
             [
              0.2222222222222222,
              "#7201a8"
             ],
             [
              0.3333333333333333,
              "#9c179e"
             ],
             [
              0.4444444444444444,
              "#bd3786"
             ],
             [
              0.5555555555555556,
              "#d8576b"
             ],
             [
              0.6666666666666666,
              "#ed7953"
             ],
             [
              0.7777777777777778,
              "#fb9f3a"
             ],
             [
              0.8888888888888888,
              "#fdca26"
             ],
             [
              1,
              "#f0f921"
             ]
            ],
            "type": "histogram2d"
           }
          ],
          "histogram2dcontour": [
           {
            "colorbar": {
             "outlinewidth": 0,
             "ticks": ""
            },
            "colorscale": [
             [
              0,
              "#0d0887"
             ],
             [
              0.1111111111111111,
              "#46039f"
             ],
             [
              0.2222222222222222,
              "#7201a8"
             ],
             [
              0.3333333333333333,
              "#9c179e"
             ],
             [
              0.4444444444444444,
              "#bd3786"
             ],
             [
              0.5555555555555556,
              "#d8576b"
             ],
             [
              0.6666666666666666,
              "#ed7953"
             ],
             [
              0.7777777777777778,
              "#fb9f3a"
             ],
             [
              0.8888888888888888,
              "#fdca26"
             ],
             [
              1,
              "#f0f921"
             ]
            ],
            "type": "histogram2dcontour"
           }
          ],
          "mesh3d": [
           {
            "colorbar": {
             "outlinewidth": 0,
             "ticks": ""
            },
            "type": "mesh3d"
           }
          ],
          "parcoords": [
           {
            "line": {
             "colorbar": {
              "outlinewidth": 0,
              "ticks": ""
             }
            },
            "type": "parcoords"
           }
          ],
          "pie": [
           {
            "automargin": true,
            "type": "pie"
           }
          ],
          "scatter": [
           {
            "fillpattern": {
             "fillmode": "overlay",
             "size": 10,
             "solidity": 0.2
            },
            "type": "scatter"
           }
          ],
          "scatter3d": [
           {
            "line": {
             "colorbar": {
              "outlinewidth": 0,
              "ticks": ""
             }
            },
            "marker": {
             "colorbar": {
              "outlinewidth": 0,
              "ticks": ""
             }
            },
            "type": "scatter3d"
           }
          ],
          "scattercarpet": [
           {
            "marker": {
             "colorbar": {
              "outlinewidth": 0,
              "ticks": ""
             }
            },
            "type": "scattercarpet"
           }
          ],
          "scattergeo": [
           {
            "marker": {
             "colorbar": {
              "outlinewidth": 0,
              "ticks": ""
             }
            },
            "type": "scattergeo"
           }
          ],
          "scattergl": [
           {
            "marker": {
             "colorbar": {
              "outlinewidth": 0,
              "ticks": ""
             }
            },
            "type": "scattergl"
           }
          ],
          "scattermapbox": [
           {
            "marker": {
             "colorbar": {
              "outlinewidth": 0,
              "ticks": ""
             }
            },
            "type": "scattermapbox"
           }
          ],
          "scatterpolar": [
           {
            "marker": {
             "colorbar": {
              "outlinewidth": 0,
              "ticks": ""
             }
            },
            "type": "scatterpolar"
           }
          ],
          "scatterpolargl": [
           {
            "marker": {
             "colorbar": {
              "outlinewidth": 0,
              "ticks": ""
             }
            },
            "type": "scatterpolargl"
           }
          ],
          "scatterternary": [
           {
            "marker": {
             "colorbar": {
              "outlinewidth": 0,
              "ticks": ""
             }
            },
            "type": "scatterternary"
           }
          ],
          "surface": [
           {
            "colorbar": {
             "outlinewidth": 0,
             "ticks": ""
            },
            "colorscale": [
             [
              0,
              "#0d0887"
             ],
             [
              0.1111111111111111,
              "#46039f"
             ],
             [
              0.2222222222222222,
              "#7201a8"
             ],
             [
              0.3333333333333333,
              "#9c179e"
             ],
             [
              0.4444444444444444,
              "#bd3786"
             ],
             [
              0.5555555555555556,
              "#d8576b"
             ],
             [
              0.6666666666666666,
              "#ed7953"
             ],
             [
              0.7777777777777778,
              "#fb9f3a"
             ],
             [
              0.8888888888888888,
              "#fdca26"
             ],
             [
              1,
              "#f0f921"
             ]
            ],
            "type": "surface"
           }
          ],
          "table": [
           {
            "cells": {
             "fill": {
              "color": "#EBF0F8"
             },
             "line": {
              "color": "white"
             }
            },
            "header": {
             "fill": {
              "color": "#C8D4E3"
             },
             "line": {
              "color": "white"
             }
            },
            "type": "table"
           }
          ]
         },
         "layout": {
          "annotationdefaults": {
           "arrowcolor": "#2a3f5f",
           "arrowhead": 0,
           "arrowwidth": 1
          },
          "autotypenumbers": "strict",
          "coloraxis": {
           "colorbar": {
            "outlinewidth": 0,
            "ticks": ""
           }
          },
          "colorscale": {
           "diverging": [
            [
             0,
             "#8e0152"
            ],
            [
             0.1,
             "#c51b7d"
            ],
            [
             0.2,
             "#de77ae"
            ],
            [
             0.3,
             "#f1b6da"
            ],
            [
             0.4,
             "#fde0ef"
            ],
            [
             0.5,
             "#f7f7f7"
            ],
            [
             0.6,
             "#e6f5d0"
            ],
            [
             0.7,
             "#b8e186"
            ],
            [
             0.8,
             "#7fbc41"
            ],
            [
             0.9,
             "#4d9221"
            ],
            [
             1,
             "#276419"
            ]
           ],
           "sequential": [
            [
             0,
             "#0d0887"
            ],
            [
             0.1111111111111111,
             "#46039f"
            ],
            [
             0.2222222222222222,
             "#7201a8"
            ],
            [
             0.3333333333333333,
             "#9c179e"
            ],
            [
             0.4444444444444444,
             "#bd3786"
            ],
            [
             0.5555555555555556,
             "#d8576b"
            ],
            [
             0.6666666666666666,
             "#ed7953"
            ],
            [
             0.7777777777777778,
             "#fb9f3a"
            ],
            [
             0.8888888888888888,
             "#fdca26"
            ],
            [
             1,
             "#f0f921"
            ]
           ],
           "sequentialminus": [
            [
             0,
             "#0d0887"
            ],
            [
             0.1111111111111111,
             "#46039f"
            ],
            [
             0.2222222222222222,
             "#7201a8"
            ],
            [
             0.3333333333333333,
             "#9c179e"
            ],
            [
             0.4444444444444444,
             "#bd3786"
            ],
            [
             0.5555555555555556,
             "#d8576b"
            ],
            [
             0.6666666666666666,
             "#ed7953"
            ],
            [
             0.7777777777777778,
             "#fb9f3a"
            ],
            [
             0.8888888888888888,
             "#fdca26"
            ],
            [
             1,
             "#f0f921"
            ]
           ]
          },
          "colorway": [
           "#636efa",
           "#EF553B",
           "#00cc96",
           "#ab63fa",
           "#FFA15A",
           "#19d3f3",
           "#FF6692",
           "#B6E880",
           "#FF97FF",
           "#FECB52"
          ],
          "font": {
           "color": "#2a3f5f"
          },
          "geo": {
           "bgcolor": "white",
           "lakecolor": "white",
           "landcolor": "#E5ECF6",
           "showlakes": true,
           "showland": true,
           "subunitcolor": "white"
          },
          "hoverlabel": {
           "align": "left"
          },
          "hovermode": "closest",
          "mapbox": {
           "style": "light"
          },
          "paper_bgcolor": "white",
          "plot_bgcolor": "#E5ECF6",
          "polar": {
           "angularaxis": {
            "gridcolor": "white",
            "linecolor": "white",
            "ticks": ""
           },
           "bgcolor": "#E5ECF6",
           "radialaxis": {
            "gridcolor": "white",
            "linecolor": "white",
            "ticks": ""
           }
          },
          "scene": {
           "xaxis": {
            "backgroundcolor": "#E5ECF6",
            "gridcolor": "white",
            "gridwidth": 2,
            "linecolor": "white",
            "showbackground": true,
            "ticks": "",
            "zerolinecolor": "white"
           },
           "yaxis": {
            "backgroundcolor": "#E5ECF6",
            "gridcolor": "white",
            "gridwidth": 2,
            "linecolor": "white",
            "showbackground": true,
            "ticks": "",
            "zerolinecolor": "white"
           },
           "zaxis": {
            "backgroundcolor": "#E5ECF6",
            "gridcolor": "white",
            "gridwidth": 2,
            "linecolor": "white",
            "showbackground": true,
            "ticks": "",
            "zerolinecolor": "white"
           }
          },
          "shapedefaults": {
           "line": {
            "color": "#2a3f5f"
           }
          },
          "ternary": {
           "aaxis": {
            "gridcolor": "white",
            "linecolor": "white",
            "ticks": ""
           },
           "baxis": {
            "gridcolor": "white",
            "linecolor": "white",
            "ticks": ""
           },
           "bgcolor": "#E5ECF6",
           "caxis": {
            "gridcolor": "white",
            "linecolor": "white",
            "ticks": ""
           }
          },
          "title": {
           "x": 0.05
          },
          "xaxis": {
           "automargin": true,
           "gridcolor": "white",
           "linecolor": "white",
           "ticks": "",
           "title": {
            "standoff": 15
           },
           "zerolinecolor": "white",
           "zerolinewidth": 2
          },
          "yaxis": {
           "automargin": true,
           "gridcolor": "white",
           "linecolor": "white",
           "ticks": "",
           "title": {
            "standoff": 15
           },
           "zerolinecolor": "white",
           "zerolinewidth": 2
          }
         }
        },
        "title": {
         "text": "Subtype tracking"
        }
       }
      },
      "text/html": [
       "<div>                            <div id=\"fec1a463-888c-4c28-9080-6fc85aea2dab\" class=\"plotly-graph-div\" style=\"height:525px; width:100%;\"></div>            <script type=\"text/javascript\">                require([\"plotly\"], function(Plotly) {                    window.PLOTLYENV=window.PLOTLYENV || {};                                    if (document.getElementById(\"fec1a463-888c-4c28-9080-6fc85aea2dab\")) {                    Plotly.newPlot(                        \"fec1a463-888c-4c28-9080-6fc85aea2dab\",                        [{\"link\":{\"label\":[29,14,5,1,29,17,13,1,27,17,2,1,22,2,2,1,1,1,22,5,3,1,23,8,3,1,19,5,5,15,15,1,1],\"source\":[0,0,0,0,1,1,1,1,2,2,2,2,3,3,3,3,3,3,4,4,4,4,5,5,5,5,6,6,6,7,7,7,7],\"target\":[3,7,5,6,4,7,5,6,6,5,4,7,8,14,15,9,13,10,10,12,9,15,11,9,12,10,13,9,12,14,15,11,10],\"value\":[29,14,5,1,29,17,13,1,27,17,2,1,22,2,2,1,1,1,22,5,3,1,23,8,3,1,19,5,5,15,15,1,1]},\"node\":{\"label\":[\"c3_1\",\"c3_2\",\"c3_3\",\"c5_1\",\"c5_2\",\"c5_3\",\"c5_4\",\"c5_5\",\"c8_1\",\"c8_2\",\"c8_3\",\"c8_4\",\"c8_5\",\"c8_6\",\"c8_7\",\"c8_8\"],\"line\":{\"color\":\"black\",\"width\":0.5},\"pad\":15,\"thickness\":20},\"type\":\"sankey\"}],                        {\"template\":{\"data\":{\"histogram2dcontour\":[{\"type\":\"histogram2dcontour\",\"colorbar\":{\"outlinewidth\":0,\"ticks\":\"\"},\"colorscale\":[[0.0,\"#0d0887\"],[0.1111111111111111,\"#46039f\"],[0.2222222222222222,\"#7201a8\"],[0.3333333333333333,\"#9c179e\"],[0.4444444444444444,\"#bd3786\"],[0.5555555555555556,\"#d8576b\"],[0.6666666666666666,\"#ed7953\"],[0.7777777777777778,\"#fb9f3a\"],[0.8888888888888888,\"#fdca26\"],[1.0,\"#f0f921\"]]}],\"choropleth\":[{\"type\":\"choropleth\",\"colorbar\":{\"outlinewidth\":0,\"ticks\":\"\"}}],\"histogram2d\":[{\"type\":\"histogram2d\",\"colorbar\":{\"outlinewidth\":0,\"ticks\":\"\"},\"colorscale\":[[0.0,\"#0d0887\"],[0.1111111111111111,\"#46039f\"],[0.2222222222222222,\"#7201a8\"],[0.3333333333333333,\"#9c179e\"],[0.4444444444444444,\"#bd3786\"],[0.5555555555555556,\"#d8576b\"],[0.6666666666666666,\"#ed7953\"],[0.7777777777777778,\"#fb9f3a\"],[0.8888888888888888,\"#fdca26\"],[1.0,\"#f0f921\"]]}],\"heatmap\":[{\"type\":\"heatmap\",\"colorbar\":{\"outlinewidth\":0,\"ticks\":\"\"},\"colorscale\":[[0.0,\"#0d0887\"],[0.1111111111111111,\"#46039f\"],[0.2222222222222222,\"#7201a8\"],[0.3333333333333333,\"#9c179e\"],[0.4444444444444444,\"#bd3786\"],[0.5555555555555556,\"#d8576b\"],[0.6666666666666666,\"#ed7953\"],[0.7777777777777778,\"#fb9f3a\"],[0.8888888888888888,\"#fdca26\"],[1.0,\"#f0f921\"]]}],\"heatmapgl\":[{\"type\":\"heatmapgl\",\"colorbar\":{\"outlinewidth\":0,\"ticks\":\"\"},\"colorscale\":[[0.0,\"#0d0887\"],[0.1111111111111111,\"#46039f\"],[0.2222222222222222,\"#7201a8\"],[0.3333333333333333,\"#9c179e\"],[0.4444444444444444,\"#bd3786\"],[0.5555555555555556,\"#d8576b\"],[0.6666666666666666,\"#ed7953\"],[0.7777777777777778,\"#fb9f3a\"],[0.8888888888888888,\"#fdca26\"],[1.0,\"#f0f921\"]]}],\"contourcarpet\":[{\"type\":\"contourcarpet\",\"colorbar\":{\"outlinewidth\":0,\"ticks\":\"\"}}],\"contour\":[{\"type\":\"contour\",\"colorbar\":{\"outlinewidth\":0,\"ticks\":\"\"},\"colorscale\":[[0.0,\"#0d0887\"],[0.1111111111111111,\"#46039f\"],[0.2222222222222222,\"#7201a8\"],[0.3333333333333333,\"#9c179e\"],[0.4444444444444444,\"#bd3786\"],[0.5555555555555556,\"#d8576b\"],[0.6666666666666666,\"#ed7953\"],[0.7777777777777778,\"#fb9f3a\"],[0.8888888888888888,\"#fdca26\"],[1.0,\"#f0f921\"]]}],\"surface\":[{\"type\":\"surface\",\"colorbar\":{\"outlinewidth\":0,\"ticks\":\"\"},\"colorscale\":[[0.0,\"#0d0887\"],[0.1111111111111111,\"#46039f\"],[0.2222222222222222,\"#7201a8\"],[0.3333333333333333,\"#9c179e\"],[0.4444444444444444,\"#bd3786\"],[0.5555555555555556,\"#d8576b\"],[0.6666666666666666,\"#ed7953\"],[0.7777777777777778,\"#fb9f3a\"],[0.8888888888888888,\"#fdca26\"],[1.0,\"#f0f921\"]]}],\"mesh3d\":[{\"type\":\"mesh3d\",\"colorbar\":{\"outlinewidth\":0,\"ticks\":\"\"}}],\"scatter\":[{\"fillpattern\":{\"fillmode\":\"overlay\",\"size\":10,\"solidity\":0.2},\"type\":\"scatter\"}],\"parcoords\":[{\"type\":\"parcoords\",\"line\":{\"colorbar\":{\"outlinewidth\":0,\"ticks\":\"\"}}}],\"scatterpolargl\":[{\"type\":\"scatterpolargl\",\"marker\":{\"colorbar\":{\"outlinewidth\":0,\"ticks\":\"\"}}}],\"bar\":[{\"error_x\":{\"color\":\"#2a3f5f\"},\"error_y\":{\"color\":\"#2a3f5f\"},\"marker\":{\"line\":{\"color\":\"#E5ECF6\",\"width\":0.5},\"pattern\":{\"fillmode\":\"overlay\",\"size\":10,\"solidity\":0.2}},\"type\":\"bar\"}],\"scattergeo\":[{\"type\":\"scattergeo\",\"marker\":{\"colorbar\":{\"outlinewidth\":0,\"ticks\":\"\"}}}],\"scatterpolar\":[{\"type\":\"scatterpolar\",\"marker\":{\"colorbar\":{\"outlinewidth\":0,\"ticks\":\"\"}}}],\"histogram\":[{\"marker\":{\"pattern\":{\"fillmode\":\"overlay\",\"size\":10,\"solidity\":0.2}},\"type\":\"histogram\"}],\"scattergl\":[{\"type\":\"scattergl\",\"marker\":{\"colorbar\":{\"outlinewidth\":0,\"ticks\":\"\"}}}],\"scatter3d\":[{\"type\":\"scatter3d\",\"line\":{\"colorbar\":{\"outlinewidth\":0,\"ticks\":\"\"}},\"marker\":{\"colorbar\":{\"outlinewidth\":0,\"ticks\":\"\"}}}],\"scattermapbox\":[{\"type\":\"scattermapbox\",\"marker\":{\"colorbar\":{\"outlinewidth\":0,\"ticks\":\"\"}}}],\"scatterternary\":[{\"type\":\"scatterternary\",\"marker\":{\"colorbar\":{\"outlinewidth\":0,\"ticks\":\"\"}}}],\"scattercarpet\":[{\"type\":\"scattercarpet\",\"marker\":{\"colorbar\":{\"outlinewidth\":0,\"ticks\":\"\"}}}],\"carpet\":[{\"aaxis\":{\"endlinecolor\":\"#2a3f5f\",\"gridcolor\":\"white\",\"linecolor\":\"white\",\"minorgridcolor\":\"white\",\"startlinecolor\":\"#2a3f5f\"},\"baxis\":{\"endlinecolor\":\"#2a3f5f\",\"gridcolor\":\"white\",\"linecolor\":\"white\",\"minorgridcolor\":\"white\",\"startlinecolor\":\"#2a3f5f\"},\"type\":\"carpet\"}],\"table\":[{\"cells\":{\"fill\":{\"color\":\"#EBF0F8\"},\"line\":{\"color\":\"white\"}},\"header\":{\"fill\":{\"color\":\"#C8D4E3\"},\"line\":{\"color\":\"white\"}},\"type\":\"table\"}],\"barpolar\":[{\"marker\":{\"line\":{\"color\":\"#E5ECF6\",\"width\":0.5},\"pattern\":{\"fillmode\":\"overlay\",\"size\":10,\"solidity\":0.2}},\"type\":\"barpolar\"}],\"pie\":[{\"automargin\":true,\"type\":\"pie\"}]},\"layout\":{\"autotypenumbers\":\"strict\",\"colorway\":[\"#636efa\",\"#EF553B\",\"#00cc96\",\"#ab63fa\",\"#FFA15A\",\"#19d3f3\",\"#FF6692\",\"#B6E880\",\"#FF97FF\",\"#FECB52\"],\"font\":{\"color\":\"#2a3f5f\"},\"hovermode\":\"closest\",\"hoverlabel\":{\"align\":\"left\"},\"paper_bgcolor\":\"white\",\"plot_bgcolor\":\"#E5ECF6\",\"polar\":{\"bgcolor\":\"#E5ECF6\",\"angularaxis\":{\"gridcolor\":\"white\",\"linecolor\":\"white\",\"ticks\":\"\"},\"radialaxis\":{\"gridcolor\":\"white\",\"linecolor\":\"white\",\"ticks\":\"\"}},\"ternary\":{\"bgcolor\":\"#E5ECF6\",\"aaxis\":{\"gridcolor\":\"white\",\"linecolor\":\"white\",\"ticks\":\"\"},\"baxis\":{\"gridcolor\":\"white\",\"linecolor\":\"white\",\"ticks\":\"\"},\"caxis\":{\"gridcolor\":\"white\",\"linecolor\":\"white\",\"ticks\":\"\"}},\"coloraxis\":{\"colorbar\":{\"outlinewidth\":0,\"ticks\":\"\"}},\"colorscale\":{\"sequential\":[[0.0,\"#0d0887\"],[0.1111111111111111,\"#46039f\"],[0.2222222222222222,\"#7201a8\"],[0.3333333333333333,\"#9c179e\"],[0.4444444444444444,\"#bd3786\"],[0.5555555555555556,\"#d8576b\"],[0.6666666666666666,\"#ed7953\"],[0.7777777777777778,\"#fb9f3a\"],[0.8888888888888888,\"#fdca26\"],[1.0,\"#f0f921\"]],\"sequentialminus\":[[0.0,\"#0d0887\"],[0.1111111111111111,\"#46039f\"],[0.2222222222222222,\"#7201a8\"],[0.3333333333333333,\"#9c179e\"],[0.4444444444444444,\"#bd3786\"],[0.5555555555555556,\"#d8576b\"],[0.6666666666666666,\"#ed7953\"],[0.7777777777777778,\"#fb9f3a\"],[0.8888888888888888,\"#fdca26\"],[1.0,\"#f0f921\"]],\"diverging\":[[0,\"#8e0152\"],[0.1,\"#c51b7d\"],[0.2,\"#de77ae\"],[0.3,\"#f1b6da\"],[0.4,\"#fde0ef\"],[0.5,\"#f7f7f7\"],[0.6,\"#e6f5d0\"],[0.7,\"#b8e186\"],[0.8,\"#7fbc41\"],[0.9,\"#4d9221\"],[1,\"#276419\"]]},\"xaxis\":{\"gridcolor\":\"white\",\"linecolor\":\"white\",\"ticks\":\"\",\"title\":{\"standoff\":15},\"zerolinecolor\":\"white\",\"automargin\":true,\"zerolinewidth\":2},\"yaxis\":{\"gridcolor\":\"white\",\"linecolor\":\"white\",\"ticks\":\"\",\"title\":{\"standoff\":15},\"zerolinecolor\":\"white\",\"automargin\":true,\"zerolinewidth\":2},\"scene\":{\"xaxis\":{\"backgroundcolor\":\"#E5ECF6\",\"gridcolor\":\"white\",\"linecolor\":\"white\",\"showbackground\":true,\"ticks\":\"\",\"zerolinecolor\":\"white\",\"gridwidth\":2},\"yaxis\":{\"backgroundcolor\":\"#E5ECF6\",\"gridcolor\":\"white\",\"linecolor\":\"white\",\"showbackground\":true,\"ticks\":\"\",\"zerolinecolor\":\"white\",\"gridwidth\":2},\"zaxis\":{\"backgroundcolor\":\"#E5ECF6\",\"gridcolor\":\"white\",\"linecolor\":\"white\",\"showbackground\":true,\"ticks\":\"\",\"zerolinecolor\":\"white\",\"gridwidth\":2}},\"shapedefaults\":{\"line\":{\"color\":\"#2a3f5f\"}},\"annotationdefaults\":{\"arrowcolor\":\"#2a3f5f\",\"arrowhead\":0,\"arrowwidth\":1},\"geo\":{\"bgcolor\":\"white\",\"landcolor\":\"#E5ECF6\",\"subunitcolor\":\"white\",\"showland\":true,\"showlakes\":true,\"lakecolor\":\"white\"},\"title\":{\"x\":0.05},\"mapbox\":{\"style\":\"light\"}}},\"title\":{\"text\":\"Subtype tracking\"},\"font\":{\"size\":10}},                        {\"responsive\": true}                    ).then(function(){\n",
       "                            \n",
       "var gd = document.getElementById('fec1a463-888c-4c28-9080-6fc85aea2dab');\n",
       "var x = new MutationObserver(function (mutations, observer) {{\n",
       "        var display = window.getComputedStyle(gd).display;\n",
       "        if (!display || display === 'none') {{\n",
       "            console.log([gd, 'removed!']);\n",
       "            Plotly.purge(gd);\n",
       "            observer.disconnect();\n",
       "        }}\n",
       "}});\n",
       "\n",
       "// Listen for the removal of the full notebook cells\n",
       "var notebookContainer = gd.closest('#notebook-container');\n",
       "if (notebookContainer) {{\n",
       "    x.observe(notebookContainer, {childList: true});\n",
       "}}\n",
       "\n",
       "// Listen for the clearing of the current output cell\n",
       "var outputEl = gd.closest('.output');\n",
       "if (outputEl) {{\n",
       "    x.observe(outputEl, {childList: true});\n",
       "}}\n",
       "\n",
       "                        })                };                });            </script>        </div>"
      ]
     },
     "metadata": {},
     "output_type": "display_data"
    }
   ],
   "source": [
    "import plotly.graph_objects as go\n",
    "\n",
    "fig = go.Figure(\n",
    "    data=[go.Sankey(\n",
    "        node = dict(\n",
    "            pad = 15,\n",
    "            thickness = 20,\n",
    "            line = dict(color = \"black\", width = 0.5),\n",
    "            label = labels,\n",
    "            #       color = \"blue\"\n",
    "        ),\n",
    "        link = dict(\n",
    "            source = counts_flat['source'], \n",
    "            target =counts_flat['target'],\n",
    "            value = counts_flat['count'],\n",
    "            label = counts_flat['count']\n",
    "        )\n",
    "    )\n",
    "         ]\n",
    ")\n",
    "\n",
    "fig.update_layout(title_text=\"Subtype tracking\", font_size=10)\n",
    "# fig.write_image(\"cluster_tracking.png\") \n",
    "#fig.show()"
   ]
  },
  {
   "cell_type": "code",
   "execution_count": 21,
   "metadata": {
    "pycharm": {
     "name": "#%%\n"
    }
   },
   "outputs": [
    {
     "data": {
      "image/png": "[encoded data removed]",
      "text/plain": [
       "<Figure size 500x500 with 1 Axes>"
      ]
     },
     "metadata": {},
     "output_type": "display_data"
    }
   ],
   "source": [
    "ax = alluvial.plot(counts)\n",
    "fig = ax.get_figure()\n",
    "fig.set_size_inches(5,5)\n",
    "plt.savefig('alluvial_grouped_4_8.png', bbox_inches='tight', dpi=300)"
   ]
  },
  {
   "cell_type": "code",
   "execution_count": 22,
   "metadata": {
    "pycharm": {
     "name": "#%%\n"
    }
   },
   "outputs": [
    {
     "name": "stdout",
     "output_type": "stream",
     "text": [
      "{1: 22, 4: 8, 8: 3, 2: 2, 7: 2, 3: 1}\n",
      "{7: 15, 8: 14, 3: 9, 2: 1}\n",
      "{4: 15, 3: 15, 5: 10, 2: 9, 8: 1}\n",
      "{6: 20, 2: 5, 5: 3, 4: 1}\n"
     ]
    },
    {
     "data": {
      "image/png": "[encoded data removed]",
      "text/plain": [
       "<Figure size 500x500 with 1 Axes>"
      ]
     },
     "metadata": {},
     "output_type": "display_data"
    }
   ],
   "source": [
    "\n",
    "\n",
    "counts = {}\n",
    "for i, df in cl[['k=4', 'k=8']].groupby(['k=4'], sort=True):\n",
    "    print(df['k=8'].value_counts().to_dict())\n",
    "    df['k=8'] = 'c8_'+ df['k=8'].astype(str)\n",
    "    counts['c4_'+str(i)] = df['k=8'].value_counts().to_dict()\n",
    "\n",
    "ax = alluvial.plot(counts)\n",
    "fig = ax.get_figure()\n",
    "fig.set_size_inches(5,5)\n",
    "plt.savefig('alluvial_grouped_4_8.png', bbox_inches='tight', dpi=300)\n",
    "plt.show()"
   ]
  },
  {
   "cell_type": "code",
   "execution_count": 23,
   "metadata": {
    "pycharm": {
     "name": "#%%\n"
    }
   },
   "outputs": [
    {
     "name": "stdout",
     "output_type": "stream",
     "text": [
      "{1: 29, 5: 14, 3: 5, 4: 1}\n",
      "{2: 29, 5: 17, 3: 13, 4: 1}\n",
      "{4: 27, 3: 17, 2: 2, 5: 1}\n",
      "{1: 22, 7: 2, 8: 2, 2: 1, 6: 1, 3: 1}\n",
      "{3: 22, 5: 5, 2: 3, 8: 1}\n",
      "{4: 23, 2: 8, 5: 3, 3: 1}\n",
      "{6: 19, 2: 5, 5: 5}\n",
      "{7: 15, 8: 15, 4: 1, 3: 1}\n"
     ]
    },
    {
     "data": {
      "text/plain": [
       "{'c3_1': {'c5_1': 29, 'c5_5': 14, 'c5_3': 5, 'c5_4': 1},\n",
       " 'c3_2': {'c5_2': 29, 'c5_5': 17, 'c5_3': 13, 'c5_4': 1},\n",
       " 'c3_3': {'c5_4': 27, 'c5_3': 17, 'c5_2': 2, 'c5_5': 1},\n",
       " 'c5_1': {'c8_1': 22, 'c8_7': 2, 'c8_8': 2, 'c8_2': 1, 'c8_6': 1, 'c8_3': 1},\n",
       " 'c5_2': {'c8_3': 22, 'c8_5': 5, 'c8_2': 3, 'c8_8': 1},\n",
       " 'c5_3': {'c8_4': 23, 'c8_2': 8, 'c8_5': 3, 'c8_3': 1},\n",
       " 'c5_4': {'c8_6': 19, 'c8_2': 5, 'c8_5': 5},\n",
       " 'c5_5': {'c8_7': 15, 'c8_8': 15, 'c8_4': 1, 'c8_3': 1}}"
      ]
     },
     "execution_count": 23,
     "metadata": {},
     "output_type": "execute_result"
    }
   ],
   "source": [
    "counts = {}\n",
    "\n",
    "for i, df in cl[['k=3', 'k=5']].groupby(['k=3'], sort=True):\n",
    "    print(df['k=5'].value_counts().to_dict())\n",
    "    df['k=5'] = 'c5_'+ df['k=5'].astype(str)\n",
    "    counts['c3_'+str(i)] = df['k=5'].value_counts().to_dict()\n",
    "    \n",
    "for i, df in cl[['k=5', 'k=8']].groupby(['k=5'], sort=True):\n",
    "    print(df['k=8'].value_counts().to_dict())\n",
    "    df['k=8'] = 'c8_'+ df['k=8'].astype(str)\n",
    "    counts['c5_'+str(i)] = df['k=8'].value_counts().to_dict()\n",
    "counts"
   ]
  },
  {
   "cell_type": "code",
   "execution_count": 24,
   "metadata": {
    "pycharm": {
     "name": "#%%\n"
    }
   },
   "outputs": [
    {
     "data": {
      "image/png": "[encoded data removed]",
      "text/plain": [
       "<Figure size 500x500 with 1 Axes>"
      ]
     },
     "metadata": {},
     "output_type": "display_data"
    }
   ],
   "source": [
    "ax = alluvial.plot(counts)\n",
    "fig = ax.get_figure()\n",
    "fig.set_size_inches(5,5)\n",
    "plt.savefig('alluvial_grouped_5_8.png', bbox_inches='tight', dpi=300)\n",
    "plt.show()"
   ]
  },
  {
   "cell_type": "code",
   "execution_count": 25,
   "metadata": {
    "pycharm": {
     "name": "#%%\n"
    }
   },
   "outputs": [
    {
     "name": "stdout",
     "output_type": "stream",
     "text": [
      "{1: 29, 5: 15, 4: 11, 3: 10}\n",
      "{2: 31, 3: 25, 4: 18, 5: 17}\n"
     ]
    },
    {
     "data": {
      "image/png": "[encoded data removed]",
      "text/plain": [
       "<Figure size 500x500 with 1 Axes>"
      ]
     },
     "metadata": {},
     "output_type": "display_data"
    }
   ],
   "source": [
    "counts = {}\n",
    "for i, df in cl[['k=2', 'k=5']].groupby(['k=2'], sort=True):\n",
    "    print(df['k=5'].value_counts().to_dict())\n",
    "    df['k=5'] = 'c5_'+ df['k=5'].astype(str)\n",
    "    counts['c2_'+str(i)] = df['k=5'].value_counts().to_dict()\n",
    "counts\n",
    "ax = alluvial.plot(counts)\n",
    "fig = ax.get_figure()\n",
    "fig.set_size_inches(5,5)\n",
    "plt.savefig('alluvial_grouped_2_5.png', bbox_inches='tight', dpi=300)\n",
    "plt.show()"
   ]
  },
  {
   "cell_type": "code",
   "execution_count": 26,
   "metadata": {
    "pycharm": {
     "name": "#%%\n"
    }
   },
   "outputs": [],
   "source": [
    "\n",
    "def cat_enrichment(cluster_num_index, subtype_number, dataset, subtype, non_subtype,  variable_col):\n",
    "    variables_to_check = dataset[variable_col].unique()\n",
    "    results = []\n",
    "    for i in variables_to_check:\n",
    "        pos_for_subtype = subtype.loc[subtype[variable_col] == i].shape[0]\n",
    "        total_for_subtype =  subtype.shape[0]\n",
    "        pos_for_non_subtype = non_subtype.loc[non_subtype[variable_col]==i].shape[0]\n",
    "        total_for_non_subtype = non_subtype.shape[0]\n",
    "\n",
    "        table = [[pos_for_subtype, pos_for_non_subtype],\n",
    "                 [total_for_subtype, total_for_non_subtype]]\n",
    "        table = np.array(table)\n",
    "        stat, p_val = fisher_exact(table, alternative='less')\n",
    "        results.append([cluster_num_index, subtype_number, variable_col+'_'+str(i), stat, p_val])\n",
    "    results = pd.DataFrame(results, columns=['cluster_num_index', 'subtype_number','variable_name', 'enrichment', 'p_value'])\n",
    "    return results\n",
    "\n",
    "def calculate_enrichment(cluster_num_index, subtype_number, variable_name):\n",
    "\n",
    "    subset_to_check = subtypes_merged[[cluster_num_index, variable_name]].dropna(subset=[variable_name]).copy()\n",
    "\n",
    "    if subset_to_check.shape[0] < 50:\n",
    "        return pd.DataFrame()\n",
    "    # print(subset_to_check.head())\n",
    "    subtype = subset_to_check.loc[subset_to_check[cluster_num_index] ==subtype_number]\n",
    "    non_subtype = subset_to_check.loc[subset_to_check[cluster_num_index] !=subtype_number]\n",
    "    col_type = subtype[variable_name].dtype\n",
    "\n",
    "    if col_type == bool:\n",
    "        pos_for_subtype = subtype[subtype[variable_name]].shape[0]\n",
    "        total_for_subtype =  subtype.shape[0]\n",
    "        pos_for_non_subtype = non_subtype[non_subtype[variable_name]].shape[0]\n",
    "        total_for_non_subtype = non_subtype.shape[0]\n",
    "\n",
    "        table = [[pos_for_subtype, pos_for_non_subtype],\n",
    "                 [total_for_subtype, total_for_non_subtype]]\n",
    "        table = np.array(table)\n",
    "        stat, pval = fisher_exact(table, alternative='less')\n",
    "        return pd.DataFrame([[cluster_num_index, subtype_number, variable_name, stat, pval,]],\n",
    "                            columns=['cluster_num_index', 'subtype_number', 'variable_name', 'enrichment', 'p_value'])\n",
    "\n",
    "    elif pd.api.types.is_string_dtype(col_type):\n",
    "        return cat_enrichment(cluster_num_index, subtype_number, subset_to_check, subtype, non_subtype, variable_name)\n",
    "    else:\n",
    "        print(variable_name)\n",
    "        return pd.DataFrame()\n",
    "\n",
    "def calculate_for_cluster_size(cluster_size, variable_name):\n",
    "    results = []\n",
    "    for i in subtypes_merged[cluster_size].unique():\n",
    "        res_df = calculate_enrichment(cluster_size, i, variable_name)\n",
    "        results.append(res_df)\n",
    "    return pd.concat(results, ignore_index=True)\n",
    "\n",
    "def gather_enrichment(variables):\n",
    "    results = pd.DataFrame()\n",
    "    for i in range(2, 10):\n",
    "        k = f'k={i}'\n",
    "        results_storage = [results]\n",
    "        for var in variables:\n",
    "            r1 = calculate_for_cluster_size(k, var)\n",
    "            results_storage.append(r1)\n",
    "\n",
    "        results = pd.concat(results_storage, ignore_index=True)\n",
    "    return results\n"
   ]
  },
  {
   "cell_type": "code",
   "execution_count": 27,
   "metadata": {
    "pycharm": {
     "name": "#%%\n"
    }
   },
   "outputs": [],
   "source": [
    "cols_of_interest = ['classification', 'Consent.participant.country', 'ELN_classification', 'FAB']\n",
    "cols_of_interest += mutations_cols\n",
    "\n",
    "results = gather_enrichment(variables=cols_of_interest)"
   ]
  },
  {
   "cell_type": "code",
   "execution_count": 28,
   "metadata": {
    "pycharm": {
     "name": "#%%\n"
    }
   },
   "outputs": [
    {
     "data": {
      "text/html": [
       "<div>\n",
       "<style scoped>\n",
       "    .dataframe tbody tr th:only-of-type {\n",
       "        vertical-align: middle;\n",
       "    }\n",
       "\n",
       "    .dataframe tbody tr th {\n",
       "        vertical-align: top;\n",
       "    }\n",
       "\n",
       "    .dataframe thead th {\n",
       "        text-align: right;\n",
       "    }\n",
       "</style>\n",
       "<table border=\"1\" class=\"dataframe\">\n",
       "  <thead>\n",
       "    <tr style=\"text-align: right;\">\n",
       "      <th></th>\n",
       "      <th>cluster_num_index</th>\n",
       "      <th>subtype_number</th>\n",
       "      <th>variable_name</th>\n",
       "      <th>enrichment</th>\n",
       "      <th>p_value</th>\n",
       "    </tr>\n",
       "  </thead>\n",
       "  <tbody>\n",
       "    <tr>\n",
       "      <th>0</th>\n",
       "      <td>k=2</td>\n",
       "      <td>1.0</td>\n",
       "      <td>classification_WHO1</td>\n",
       "      <td>1.494</td>\n",
       "      <td>0.956</td>\n",
       "    </tr>\n",
       "    <tr>\n",
       "      <th>1</th>\n",
       "      <td>k=2</td>\n",
       "      <td>1.0</td>\n",
       "      <td>classification_sAML1</td>\n",
       "      <td>0.566</td>\n",
       "      <td>0.222</td>\n",
       "    </tr>\n",
       "    <tr>\n",
       "      <th>2</th>\n",
       "      <td>k=2</td>\n",
       "      <td>1.0</td>\n",
       "      <td>classification_WHO2</td>\n",
       "      <td>0.524</td>\n",
       "      <td>0.101</td>\n",
       "    </tr>\n",
       "    <tr>\n",
       "      <th>3</th>\n",
       "      <td>k=2</td>\n",
       "      <td>1.0</td>\n",
       "      <td>classification_mNOS</td>\n",
       "      <td>0.113</td>\n",
       "      <td>0.011</td>\n",
       "    </tr>\n",
       "    <tr>\n",
       "      <th>4</th>\n",
       "      <td>k=2</td>\n",
       "      <td>1.0</td>\n",
       "      <td>classification_No</td>\n",
       "      <td>0.934</td>\n",
       "      <td>0.621</td>\n",
       "    </tr>\n",
       "    <tr>\n",
       "      <th>...</th>\n",
       "      <td>...</td>\n",
       "      <td>...</td>\n",
       "      <td>...</td>\n",
       "      <td>...</td>\n",
       "      <td>...</td>\n",
       "    </tr>\n",
       "    <tr>\n",
       "      <th>3603</th>\n",
       "      <td>k=9</td>\n",
       "      <td>6.0</td>\n",
       "      <td>FLT3_TKD.mutation.status</td>\n",
       "      <td>1.420</td>\n",
       "      <td>0.831</td>\n",
       "    </tr>\n",
       "    <tr>\n",
       "      <th>3604</th>\n",
       "      <td>k=9</td>\n",
       "      <td>9.0</td>\n",
       "      <td>FLT3_TKD.mutation.status</td>\n",
       "      <td>0.605</td>\n",
       "      <td>0.392</td>\n",
       "    </tr>\n",
       "    <tr>\n",
       "      <th>3605</th>\n",
       "      <td>k=9</td>\n",
       "      <td>2.0</td>\n",
       "      <td>FLT3_TKD.mutation.status</td>\n",
       "      <td>1.044</td>\n",
       "      <td>0.674</td>\n",
       "    </tr>\n",
       "    <tr>\n",
       "      <th>3606</th>\n",
       "      <td>k=9</td>\n",
       "      <td>5.0</td>\n",
       "      <td>FLT3_TKD.mutation.status</td>\n",
       "      <td>1.317</td>\n",
       "      <td>0.791</td>\n",
       "    </tr>\n",
       "    <tr>\n",
       "      <th>3607</th>\n",
       "      <td>k=9</td>\n",
       "      <td>8.0</td>\n",
       "      <td>FLT3_TKD.mutation.status</td>\n",
       "      <td>1.489</td>\n",
       "      <td>0.835</td>\n",
       "    </tr>\n",
       "  </tbody>\n",
       "</table>\n",
       "<p>3608 rows × 5 columns</p>\n",
       "</div>"
      ],
      "text/plain": [
       "     cluster_num_index  subtype_number             variable_name  enrichment  p_value\n",
       "0                  k=2             1.0       classification_WHO1       1.494    0.956\n",
       "1                  k=2             1.0      classification_sAML1       0.566    0.222\n",
       "2                  k=2             1.0       classification_WHO2       0.524    0.101\n",
       "3                  k=2             1.0       classification_mNOS       0.113    0.011\n",
       "4                  k=2             1.0         classification_No       0.934    0.621\n",
       "...                ...             ...                       ...         ...      ...\n",
       "3603               k=9             6.0  FLT3_TKD.mutation.status       1.420    0.831\n",
       "3604               k=9             9.0  FLT3_TKD.mutation.status       0.605    0.392\n",
       "3605               k=9             2.0  FLT3_TKD.mutation.status       1.044    0.674\n",
       "3606               k=9             5.0  FLT3_TKD.mutation.status       1.317    0.791\n",
       "3607               k=9             8.0  FLT3_TKD.mutation.status       1.489    0.835\n",
       "\n",
       "[3608 rows x 5 columns]"
      ]
     },
     "execution_count": 28,
     "metadata": {},
     "output_type": "execute_result"
    }
   ],
   "source": [
    "results"
   ]
  },
  {
   "cell_type": "code",
   "execution_count": 29,
   "metadata": {
    "pycharm": {
     "name": "#%%\n"
    }
   },
   "outputs": [],
   "source": [
    "results['variable_name'] = results.variable_name.str.split('.mutation').str.get(0)"
   ]
  },
  {
   "cell_type": "code",
   "execution_count": null,
   "metadata": {
    "pycharm": {
     "name": "#%%\n"
    }
   },
   "outputs": [],
   "source": []
  },
  {
   "cell_type": "code",
   "execution_count": 30,
   "metadata": {
    "pycharm": {
     "name": "#%%\n"
    }
   },
   "outputs": [
    {
     "name": "stdout",
     "output_type": "stream",
     "text": [
      "     cluster_num_index  subtype_number                    variable_name    p_value\n",
      "2394               k=8             1.0                           FAB_M2  3.500e-02\n",
      "2699               k=8             2.0                             NPM1  4.914e-03\n",
      "2383               k=8             2.0  ELN_classification_Intermediate  5.819e-03\n",
      "2266               k=8             2.0              classification_WHO2  4.140e-02\n",
      "2619               k=8             2.0                           IGSF10  1.401e-02\n",
      "2701               k=8             3.0                             NPM1  1.326e-04\n",
      "2284               k=8             3.0              classification_WHO1  2.438e-02\n",
      "2861               k=8             3.0                         FLT3_ITD  3.365e-03\n",
      "2449               k=8             3.0                           FAB_M5  1.431e-02\n",
      "2695               k=8             4.0                             NPM1  3.667e-05\n",
      "2226               k=8             4.0              classification_WHO2  1.192e-02\n",
      "2224               k=8             4.0              classification_WHO1  3.701e-05\n",
      "2369               k=8             4.0     ELN_classification_Favorable  8.943e-04\n",
      "2855               k=8             4.0                         FLT3_ITD  4.141e-02\n",
      "2615               k=8             4.0                           IGSF10  2.648e-03\n",
      "2551               k=8             4.0                             ETV6  3.458e-02\n",
      "2617               k=8             6.0                           IGSF10  9.738e-03\n",
      "2250               k=8             6.0             classification_sAML2  4.535e-02\n",
      "2609               k=8             6.0                             IDH2  4.016e-02\n",
      "2414               k=8             6.0                           FAB_M1  2.268e-02\n",
      "2418               k=8             6.0                           FAB_M2  4.210e-02\n",
      "2840               k=8             7.0                             ZEB2  2.402e-02\n",
      "2379               k=8             8.0       ELN_classification_Adverse  1.875e-02\n",
      "2546               k=8             8.0                           DNMT3A  1.821e-02\n",
      "2424               k=8             8.0                           FAB_M4  1.700e-03\n"
     ]
    }
   ],
   "source": [
    "for i, df in results.sort_values('cluster_num_index').groupby('cluster_num_index'):\n",
    "    df = df.loc[df.p_value<0.05]\n",
    "    if df.shape[0]>0:\n",
    "        # print(df.sort_values('subtype_number')[['cluster_num_index', 'subtype_number', 'variable_name', 'p_value']])\n",
    "        # print(i, df.shape[0])\n",
    "        if i == 'k=8':\n",
    "            print(df.sort_values('subtype_number')[['cluster_num_index', 'subtype_number', 'variable_name', 'p_value']])"
   ]
  },
  {
   "cell_type": "code",
   "execution_count": 32,
   "metadata": {
    "pycharm": {
     "name": "#%%\n"
    }
   },
   "outputs": [],
   "source": [
    "piv_results = results.loc[results.cluster_num_index == 'k=4'].pivot(index='variable_name', columns='subtype_number', values='p_value').astype(float)\n",
    "annotations = piv_results.copy()\n",
    "annot = piv_results<0.05\n",
    "annotations[annot] = '+'\n",
    "annotations[~annot] = ''"
   ]
  },
  {
   "cell_type": "code",
   "execution_count": 33,
   "metadata": {
    "pycharm": {
     "name": "#%%\n"
    }
   },
   "outputs": [
    {
     "data": {
      "text/plain": [
       "<seaborn.matrix.ClusterGrid at 0x23514cef408>"
      ]
     },
     "execution_count": 33,
     "metadata": {},
     "output_type": "execute_result"
    },
    {
     "data": {
      "image/png": "[encoded data removed]",
      "text/plain": [
       "<Figure size 400x1200 with 4 Axes>"
      ]
     },
     "metadata": {},
     "output_type": "display_data"
    }
   ],
   "source": [
    "sns.clustermap(\n",
    "    -1*np.log10(piv_results),\n",
    "    annot=annotations,\n",
    "    fmt='s',\n",
    "    col_cluster=False,\n",
    "    yticklabels=True,\n",
    "    figsize=(4, 12),\n",
    "    metric='correlation',\n",
    "    cmap='Greens',\n",
    "    linecolor='black',\n",
    "    linewidths=0.003,\n",
    "    cbar_kws=dict( label='$-log_{10}$(p-value)', use_gridspec=False,)\n",
    ")"
   ]
  },
  {
   "cell_type": "code",
   "execution_count": 38,
   "metadata": {
    "pycharm": {
     "name": "#%%\n"
    }
   },
   "outputs": [
    {
     "data": {
      "text/plain": [
       "array([1., 2., 3., 4.])"
      ]
     },
     "execution_count": 38,
     "metadata": {},
     "output_type": "execute_result"
    }
   ],
   "source": [
    "piv_results.columns.values"
   ]
  },
  {
   "cell_type": "code",
   "execution_count": null,
   "metadata": {
    "pycharm": {
     "name": "#%%\n"
    }
   },
   "outputs": [],
   "source": [
    "from statsmodels.stats.multitest import fdrcorrection\n",
    "results['fdr_bh_sig'], results['fdr_bh'] = fdrcorrection(results.p_value)"
   ]
  },
  {
   "cell_type": "code",
   "execution_count": 71,
   "metadata": {
    "pycharm": {
     "name": "#%%\n"
    }
   },
   "outputs": [
    {
     "data": {
      "text/html": [
       "<div>\n",
       "<style scoped>\n",
       "    .dataframe tbody tr th:only-of-type {\n",
       "        vertical-align: middle;\n",
       "    }\n",
       "\n",
       "    .dataframe tbody tr th {\n",
       "        vertical-align: top;\n",
       "    }\n",
       "\n",
       "    .dataframe thead th {\n",
       "        text-align: right;\n",
       "    }\n",
       "</style>\n",
       "<table border=\"1\" class=\"dataframe\">\n",
       "  <thead>\n",
       "    <tr style=\"text-align: right;\">\n",
       "      <th></th>\n",
       "      <th>cluster_num_index</th>\n",
       "      <th>subtype_number</th>\n",
       "      <th>variable_name</th>\n",
       "      <th>enrichment</th>\n",
       "      <th>p_value</th>\n",
       "      <th>fdr_bh_sig</th>\n",
       "      <th>fdr_bh</th>\n",
       "    </tr>\n",
       "  </thead>\n",
       "  <tbody>\n",
       "    <tr>\n",
       "      <th>74</th>\n",
       "      <td>k=2</td>\n",
       "      <td>1.0</td>\n",
       "      <td>CEBPA</td>\n",
       "      <td>0.000</td>\n",
       "      <td>1.295e-04</td>\n",
       "      <td>True</td>\n",
       "      <td>3.109e-02</td>\n",
       "    </tr>\n",
       "    <tr>\n",
       "      <th>316</th>\n",
       "      <td>k=3</td>\n",
       "      <td>3.0</td>\n",
       "      <td>IGSF10</td>\n",
       "      <td>0.000</td>\n",
       "      <td>6.934e-06</td>\n",
       "      <td>True</td>\n",
       "      <td>6.254e-03</td>\n",
       "    </tr>\n",
       "    <tr>\n",
       "      <th>420</th>\n",
       "      <td>k=4</td>\n",
       "      <td>3.0</td>\n",
       "      <td>classification_WHO1</td>\n",
       "      <td>0.262</td>\n",
       "      <td>9.597e-05</td>\n",
       "      <td>True</td>\n",
       "      <td>2.664e-02</td>\n",
       "    </tr>\n",
       "    <tr>\n",
       "      <th>651</th>\n",
       "      <td>k=4</td>\n",
       "      <td>3.0</td>\n",
       "      <td>NPM1</td>\n",
       "      <td>0.070</td>\n",
       "      <td>2.275e-07</td>\n",
       "      <td>True</td>\n",
       "      <td>4.243e-04</td>\n",
       "    </tr>\n",
       "    <tr>\n",
       "      <th>1042</th>\n",
       "      <td>k=5</td>\n",
       "      <td>2.0</td>\n",
       "      <td>NPM1</td>\n",
       "      <td>0.070</td>\n",
       "      <td>1.569e-04</td>\n",
       "      <td>True</td>\n",
       "      <td>3.329e-02</td>\n",
       "    </tr>\n",
       "    <tr>\n",
       "      <th>748</th>\n",
       "      <td>k=5</td>\n",
       "      <td>3.0</td>\n",
       "      <td>classification_WHO1</td>\n",
       "      <td>0.117</td>\n",
       "      <td>6.082e-06</td>\n",
       "      <td>True</td>\n",
       "      <td>6.254e-03</td>\n",
       "    </tr>\n",
       "    <tr>\n",
       "      <th>989</th>\n",
       "      <td>k=5</td>\n",
       "      <td>3.0</td>\n",
       "      <td>IGSF10</td>\n",
       "      <td>0.000</td>\n",
       "      <td>1.379e-04</td>\n",
       "      <td>True</td>\n",
       "      <td>3.109e-02</td>\n",
       "    </tr>\n",
       "    <tr>\n",
       "      <th>1039</th>\n",
       "      <td>k=5</td>\n",
       "      <td>3.0</td>\n",
       "      <td>NPM1</td>\n",
       "      <td>0.000</td>\n",
       "      <td>2.352e-07</td>\n",
       "      <td>True</td>\n",
       "      <td>4.243e-04</td>\n",
       "    </tr>\n",
       "    <tr>\n",
       "      <th>1158</th>\n",
       "      <td>k=6</td>\n",
       "      <td>4.0</td>\n",
       "      <td>classification_WHO1</td>\n",
       "      <td>0.058</td>\n",
       "      <td>2.548e-05</td>\n",
       "      <td>True</td>\n",
       "      <td>1.366e-02</td>\n",
       "    </tr>\n",
       "    <tr>\n",
       "      <th>1509</th>\n",
       "      <td>k=6</td>\n",
       "      <td>4.0</td>\n",
       "      <td>NPM1</td>\n",
       "      <td>0.000</td>\n",
       "      <td>2.650e-05</td>\n",
       "      <td>True</td>\n",
       "      <td>1.366e-02</td>\n",
       "    </tr>\n",
       "    <tr>\n",
       "      <th>1650</th>\n",
       "      <td>k=7</td>\n",
       "      <td>3.0</td>\n",
       "      <td>classification_WHO1</td>\n",
       "      <td>0.062</td>\n",
       "      <td>5.362e-05</td>\n",
       "      <td>True</td>\n",
       "      <td>1.759e-02</td>\n",
       "    </tr>\n",
       "    <tr>\n",
       "      <th>2061</th>\n",
       "      <td>k=7</td>\n",
       "      <td>3.0</td>\n",
       "      <td>NPM1</td>\n",
       "      <td>0.000</td>\n",
       "      <td>5.069e-05</td>\n",
       "      <td>True</td>\n",
       "      <td>1.759e-02</td>\n",
       "    </tr>\n",
       "    <tr>\n",
       "      <th>2701</th>\n",
       "      <td>k=8</td>\n",
       "      <td>3.0</td>\n",
       "      <td>NPM1</td>\n",
       "      <td>0.000</td>\n",
       "      <td>1.326e-04</td>\n",
       "      <td>True</td>\n",
       "      <td>3.109e-02</td>\n",
       "    </tr>\n",
       "    <tr>\n",
       "      <th>2224</th>\n",
       "      <td>k=8</td>\n",
       "      <td>4.0</td>\n",
       "      <td>classification_WHO1</td>\n",
       "      <td>0.060</td>\n",
       "      <td>3.701e-05</td>\n",
       "      <td>True</td>\n",
       "      <td>1.484e-02</td>\n",
       "    </tr>\n",
       "    <tr>\n",
       "      <th>2695</th>\n",
       "      <td>k=8</td>\n",
       "      <td>4.0</td>\n",
       "      <td>NPM1</td>\n",
       "      <td>0.000</td>\n",
       "      <td>3.667e-05</td>\n",
       "      <td>True</td>\n",
       "      <td>1.484e-02</td>\n",
       "    </tr>\n",
       "    <tr>\n",
       "      <th>2880</th>\n",
       "      <td>k=9</td>\n",
       "      <td>4.0</td>\n",
       "      <td>classification_WHO1</td>\n",
       "      <td>0.109</td>\n",
       "      <td>8.220e-05</td>\n",
       "      <td>True</td>\n",
       "      <td>2.471e-02</td>\n",
       "    </tr>\n",
       "    <tr>\n",
       "      <th>3411</th>\n",
       "      <td>k=9</td>\n",
       "      <td>4.0</td>\n",
       "      <td>NPM1</td>\n",
       "      <td>0.000</td>\n",
       "      <td>1.376e-05</td>\n",
       "      <td>True</td>\n",
       "      <td>9.932e-03</td>\n",
       "    </tr>\n",
       "  </tbody>\n",
       "</table>\n",
       "</div>"
      ],
      "text/plain": [
       "     cluster_num_index  subtype_number        variable_name  enrichment    p_value  fdr_bh_sig     fdr_bh\n",
       "74                 k=2             1.0                CEBPA       0.000  1.295e-04        True  3.109e-02\n",
       "316                k=3             3.0               IGSF10       0.000  6.934e-06        True  6.254e-03\n",
       "420                k=4             3.0  classification_WHO1       0.262  9.597e-05        True  2.664e-02\n",
       "651                k=4             3.0                 NPM1       0.070  2.275e-07        True  4.243e-04\n",
       "1042               k=5             2.0                 NPM1       0.070  1.569e-04        True  3.329e-02\n",
       "748                k=5             3.0  classification_WHO1       0.117  6.082e-06        True  6.254e-03\n",
       "989                k=5             3.0               IGSF10       0.000  1.379e-04        True  3.109e-02\n",
       "1039               k=5             3.0                 NPM1       0.000  2.352e-07        True  4.243e-04\n",
       "1158               k=6             4.0  classification_WHO1       0.058  2.548e-05        True  1.366e-02\n",
       "1509               k=6             4.0                 NPM1       0.000  2.650e-05        True  1.366e-02\n",
       "1650               k=7             3.0  classification_WHO1       0.062  5.362e-05        True  1.759e-02\n",
       "2061               k=7             3.0                 NPM1       0.000  5.069e-05        True  1.759e-02\n",
       "2701               k=8             3.0                 NPM1       0.000  1.326e-04        True  3.109e-02\n",
       "2224               k=8             4.0  classification_WHO1       0.060  3.701e-05        True  1.484e-02\n",
       "2695               k=8             4.0                 NPM1       0.000  3.667e-05        True  1.484e-02\n",
       "2880               k=9             4.0  classification_WHO1       0.109  8.220e-05        True  2.471e-02\n",
       "3411               k=9             4.0                 NPM1       0.000  1.376e-05        True  9.932e-03"
      ]
     },
     "execution_count": 71,
     "metadata": {},
     "output_type": "execute_result"
    }
   ],
   "source": [
    "results.loc[results.fdr_bh_sig].sort_values(['cluster_num_index', 'subtype_number'])"
   ]
  },
  {
   "cell_type": "code",
   "execution_count": 96,
   "metadata": {
    "pycharm": {
     "name": "#%%\n"
    }
   },
   "outputs": [],
   "source": [
    "def create_plot(k=8):\n",
    "    piv_results = results.loc[results.cluster_num_index == f'k={k}'].pivot(\n",
    "        index='variable_name', columns='subtype_number', values='p_value').astype(float)\n",
    "    print(piv_results.head())\n",
    "    to_keep = piv_results[piv_results<0.05].count(axis=1)\n",
    "    to_keep = to_keep[to_keep>0]\n",
    "    print(to_keep)\n",
    "    sig = piv_results.loc[to_keep.index]\n",
    "    order_cols = piv_results.columns.values\n",
    "    ordered_set = []\n",
    "    for i in order_cols:\n",
    "        tmp = sig[i].sort_values()\n",
    "        for j in tmp[tmp<0.05].index:\n",
    "            if j not in ordered_set:\n",
    "                ordered_set.append(j)\n",
    "                \n",
    "    sig = sig.loc[ordered_set]\n",
    "    sig.columns = sig.columns.astype(int)\n",
    "\n",
    "    annotations = sig.copy()\n",
    "    annot = sig<0.05\n",
    "    annotations[~annot] = ''\n",
    "    annotations[annot] = 'x'\n",
    "    \n",
    "\n",
    "    # Define two rows for subplots\n",
    "    fig, (ax, cax) = plt.subplots(ncols=2, figsize=(2, 5), \n",
    "                                  gridspec_kw={\"width_ratios\":[1.0, .1]})\n",
    "\n",
    "\n",
    "    g = sns.heatmap(\n",
    "        -1*np.log10(sig),\n",
    "        annot=annotations,\n",
    "        fmt='s',\n",
    "        yticklabels=True,\n",
    "\n",
    "        ax=ax,\n",
    "\n",
    "        cmap='Greens',\n",
    "        linecolor='black',\n",
    "        linewidths=0.01,\n",
    "        cbar_kws={\"orientation\": \"vertical\", \"pad\": 0.05, \"shrink\": .82,\n",
    "                  'label':'$-log_{10}$(p-value)', 'use_gridspec':False},\n",
    "        cbar=False,\n",
    "\n",
    "    )\n",
    "\n",
    "\n",
    "    fig.colorbar(ax.get_children()[0], cax=cax, orientation=\"vertical\",\n",
    "                 label='$-log_{10}$(p-value)', pad = .5)\n",
    "    ax.set_title(f'k={k}')\n",
    "    plt.savefig(f'subtype_{k}_enrichment.pdf', bbox_inches='tight')\n",
    "    plt.savefig(f'subtype_{k}_enrichment.png', bbox_inches='tight', dpi=300)"
   ]
  },
  {
   "cell_type": "code",
   "execution_count": 97,
   "metadata": {
    "pycharm": {
     "name": "#%%\n"
    }
   },
   "outputs": [
    {
     "name": "stdout",
     "output_type": "stream",
     "text": [
      "subtype_number    1.0    2.0    3.0\n",
      "variable_name                      \n",
      "ABL1-BCR        0.813  0.224  0.874\n",
      "ASXL1           0.830  0.280  0.670\n",
      "BCOR            0.437  0.870  0.911\n",
      "BCORL1          0.437  0.413  1.000\n",
      "BRAF            0.437  1.000  0.495\n",
      "variable_name\n",
      "CEBPA                                        1\n",
      "Consent.participant.country_United States    1\n",
      "FAB_M1                                       1\n",
      "FAB_M2                                       1\n",
      "FAB_M4                                       1\n",
      "IGSF10                                       1\n",
      "NPM1                                         1\n",
      "SRSF2                                        1\n",
      "WT1                                          1\n",
      "ZEB2                                         1\n",
      "classification_mNOS                          1\n",
      "dtype: int64\n"
     ]
    },
    {
     "name": "stderr",
     "output_type": "stream",
     "text": [
      "meta NOT subset; don't know how to subset; dropped\n"
     ]
    },
    {
     "data": {
      "image/png": "[encoded data removed]",
      "text/plain": [
       "<Figure size 200x500 with 2 Axes>"
      ]
     },
     "metadata": {},
     "output_type": "display_data"
    }
   ],
   "source": [
    "create_plot(k=3)"
   ]
  },
  {
   "cell_type": "code",
   "execution_count": 98,
   "metadata": {},
   "outputs": [
    {
     "name": "stdout",
     "output_type": "stream",
     "text": [
      "subtype_number    1.0    2.0    3.0    4.0    5.0\n",
      "variable_name                                    \n",
      "ABL1-BCR        0.218  0.267  0.990  0.256  0.956\n",
      "ASXL1           0.927  0.342  0.993  0.323  0.013\n",
      "BCOR            0.644  0.969  0.946  0.674  0.621\n",
      "BCORL1          0.644  0.682  1.000  0.674  0.621\n",
      "BRAF            0.644  0.682  0.592  0.674  1.000\n",
      "variable_name\n",
      "ASXL1                                        1\n",
      "CEBPA                                        2\n",
      "Consent.participant.country_Bulgaria         1\n",
      "Consent.participant.country_Turkey           1\n",
      "Consent.participant.country_United States    1\n",
      "DNMT3A                                       1\n",
      "ELN_classification_Adverse                   1\n",
      "ELN_classification_Favorable                 1\n",
      "ELN_classification_Intermediate              1\n",
      "ETV6                                         1\n",
      "FAB_M1                                       1\n",
      "FAB_M4                                       1\n",
      "FAB_M5                                       1\n",
      "FLT3_ITD                                     2\n",
      "FLT3_TKD                                     1\n",
      "IGSF10                                       2\n",
      "MED12L-start-loss                            1\n",
      "NPM1                                         2\n",
      "SRSF2                                        1\n",
      "TP53                                         1\n",
      "WT1                                          1\n",
      "ZEB2                                         1\n",
      "classification_TP53_Complex                  1\n",
      "classification_WHO1                          1\n",
      "classification_WHO2                          1\n",
      "classification_sAML2                         1\n",
      "dtype: int64\n"
     ]
    },
    {
     "name": "stderr",
     "output_type": "stream",
     "text": [
      "meta NOT subset; don't know how to subset; dropped\n"
     ]
    },
    {
     "data": {
      "image/png": "[encoded data removed]",
      "text/plain": [
       "<Figure size 200x500 with 2 Axes>"
      ]
     },
     "metadata": {},
     "output_type": "display_data"
    }
   ],
   "source": [
    "create_plot(k=5)"
   ]
  },
  {
   "cell_type": "code",
   "execution_count": 99,
   "metadata": {},
   "outputs": [
    {
     "name": "stdout",
     "output_type": "stream",
     "text": [
      "subtype_number    1.0    2.0    3.0    4.0    5.0    6.0    7.0    8.0\n",
      "variable_name                                                         \n",
      "ABL1-BCR        0.311  0.958  0.349  1.000  0.603  0.391  0.470  0.421\n",
      "ASXL1           0.975  0.610  0.062  0.998  0.611  0.561  0.136  0.102\n",
      "BCOR            0.714  0.986  0.738  0.706  0.995  0.762  0.804  0.779\n",
      "BCORL1          0.714  1.000  0.738  0.706  0.864  0.762  0.804  0.779\n",
      "BRAF            0.714  0.779  0.738  0.706  0.864  0.762  0.804  1.000\n",
      "variable_name\n",
      "DNMT3A                             1\n",
      "ELN_classification_Adverse         1\n",
      "ELN_classification_Favorable       1\n",
      "ELN_classification_Intermediate    1\n",
      "ETV6                               1\n",
      "FAB_M1                             1\n",
      "FAB_M2                             2\n",
      "FAB_M4                             1\n",
      "FAB_M5                             1\n",
      "FLT3_ITD                           2\n",
      "IDH2                               1\n",
      "IGSF10                             3\n",
      "NPM1                               3\n",
      "ZEB2                               1\n",
      "classification_WHO1                2\n",
      "classification_WHO2                2\n",
      "classification_sAML2               1\n",
      "dtype: int64\n"
     ]
    },
    {
     "name": "stderr",
     "output_type": "stream",
     "text": [
      "meta NOT subset; don't know how to subset; dropped\n"
     ]
    },
    {
     "data": {
      "image/png": "[encoded data removed]",
      "text/plain": [
       "<Figure size 200x500 with 2 Axes>"
      ]
     },
     "metadata": {},
     "output_type": "display_data"
    }
   ],
   "source": [
    "create_plot(k=8)"
   ]
  },
  {
   "cell_type": "code",
   "execution_count": null,
   "metadata": {},
   "outputs": [],
   "source": []
  },
  {
   "cell_type": "code",
   "execution_count": null,
   "metadata": {},
   "outputs": [],
   "source": []
  }
 ],
 "metadata": {
  "kernelspec": {
   "display_name": "Python 3 (ipykernel)",
   "language": "python",
   "name": "python3"
  },
  "language_info": {
   "codemirror_mode": {
    "name": "ipython",
    "version": 3
   },
   "file_extension": ".py",
   "mimetype": "text/x-python",
   "name": "python",
   "nbconvert_exporter": "python",
   "pygments_lexer": "ipython3",
   "version": "3.7.12"
  }
 },
 "nbformat": 4,
 "nbformat_minor": 1
}
