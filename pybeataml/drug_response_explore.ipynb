{
 "cells": [
  {
   "cell_type": "code",
   "execution_count": null,
   "id": "44a1b1ac",
   "metadata": {
    "pycharm": {
     "name": "#%%\n"
    }
   },
   "outputs": [],
   "source": [
    "import warnings\n",
    "warnings.simplefilter(action='ignore', category=FutureWarning)\n",
    "import pandas as pd\n",
    "import numpy as np\n",
    "from matplotlib.patches import Patch\n",
    "\n",
    "import matplotlib.pyplot as plt\n",
    "import seaborn as sns\n",
    "from scipy.stats import pearsonr, spearmanr\n",
    "import pickle\n",
    "from itertools import combinations\n",
    "import scikit_posthocs as sp\n",
    "\n",
    "from statannotations.Annotator import Annotator\n",
    "from itertools import combinations\n",
    "from scipy.stats import ttest_ind\n",
    "from statsmodels.stats.multitest import fdrcorrection\n",
    "from itertools import combinations"
   ]
  },
  {
   "cell_type": "code",
   "execution_count": null,
   "id": "cf939bc8",
   "metadata": {
    "pycharm": {
     "name": "#%%\n"
    }
   },
   "outputs": [],
   "source": [
    "# formatting figures for paper\n",
    "\n",
    "import matplotlib\n",
    "matplotlib.rcParams['pdf.fonttype'] = 42\n",
    "matplotlib.rcParams['font.family'] = ['arial']\n",
    "matplotlib.rcParams['font.size'] = 6\n",
    "\n",
    "sns.set_theme(\n",
    "    context ='paper', \n",
    "    palette=\"Paired\", \n",
    "    style='white',\n",
    "    font='arial',\n",
    "    font_scale=1.0\n",
    ")"
   ]
  },
  {
   "cell_type": "code",
   "execution_count": null,
   "id": "40fe428b",
   "metadata": {
    "pycharm": {
     "name": "#%%\n"
    }
   },
   "outputs": [],
   "source": [
    "from load_data import AMLData, load_drug_response, cluster_colors, data_colors\n",
    "from load_data import drug_response_id, load_table"
   ]
  },
  {
   "cell_type": "code",
   "execution_count": null,
   "id": "c6a2c9b4",
   "metadata": {
    "pycharm": {
     "name": "#%%\n"
    }
   },
   "outputs": [],
   "source": [
    "data = AMLData()"
   ]
  },
  {
   "cell_type": "code",
   "execution_count": null,
   "id": "32cb9412",
   "metadata": {
    "pycharm": {
     "name": "#%%\n"
    }
   },
   "outputs": [],
   "source": [
    "data.auc_table"
   ]
  },
  {
   "cell_type": "code",
   "execution_count": null,
   "id": "9a3edda5",
   "metadata": {
    "pycharm": {
     "name": "#%%\n"
    }
   },
   "outputs": [],
   "source": [
    "data.wes.sample_id.unique()"
   ]
  },
  {
   "cell_type": "code",
   "execution_count": null,
   "id": "c7228136",
   "metadata": {
    "pycharm": {
     "name": "#%%\n"
    }
   },
   "outputs": [],
   "source": [
    "data.drug_names"
   ]
  },
  {
   "cell_type": "code",
   "execution_count": null,
   "id": "2e328ad9",
   "metadata": {
    "pycharm": {
     "name": "#%%\n"
    }
   },
   "outputs": [],
   "source": [
    "# removes combo drugs\n",
    "drug_names = [i for i in data.drug_names if ' - ' not in i]"
   ]
  },
  {
   "cell_type": "code",
   "execution_count": null,
   "id": "98e493db",
   "metadata": {
    "pycharm": {
     "name": "#%%\n"
    }
   },
   "outputs": [],
   "source": [
    "data.auc_table['Cytarabine']"
   ]
  },
  {
   "cell_type": "markdown",
   "id": "d1d4d772",
   "metadata": {
    "pycharm": {
     "name": "#%% md\n"
    }
   },
   "source": [
    "## Heatmaps of AUC values\n"
   ]
  },
  {
   "cell_type": "code",
   "execution_count": null,
   "id": "d7a1a37a",
   "metadata": {
    "pycharm": {
     "name": "#%%\n"
    }
   },
   "outputs": [],
   "source": [
    "# format to patient vs drug matrix from long form\n",
    "table = data.auc_table[drug_names].copy()\n",
    "table.head()"
   ]
  },
  {
   "cell_type": "code",
   "execution_count": null,
   "id": "2b81f2e0",
   "metadata": {
    "pycharm": {
     "name": "#%%\n"
    }
   },
   "outputs": [],
   "source": [
    "def plot_and_save(\n",
    "    matrix,\n",
    "    save_name,\n",
    "    yticklabels=False,\n",
    "    xticklabels=False,\n",
    "    use_predicted_cluster=False):\n",
    "    \n",
    "    # use clusters of 159 or with predicted\n",
    "    if use_predicted_cluster:\n",
    "        k = 'Cluster'    \n",
    "    else:\n",
    "        k = 'k=4'\n",
    "        \n",
    "    node_labels = data.auc_table[k]\n",
    "    node_labels.dropna(inplace=True)\n",
    "    node_labels = node_labels.astype(int)\n",
    "\n",
    "    node_lut = dict(zip(sorted(node_labels.unique()), cluster_colors))\n",
    "    node_colors = pd.Series(node_labels, index=data.meta.index.values, name='Subtype').map(node_lut)\n",
    "    handles = [Patch(facecolor=node_lut[name]) for name in node_lut]\n",
    "    \n",
    "    matrix = matrix.T\n",
    "    cmap = sns.color_palette(\"rocket\", as_cmap=True, n_colors=7)\n",
    "        \n",
    "    g = sns.clustermap(\n",
    "        matrix.fillna(100),\n",
    "        yticklabels=yticklabels,\n",
    "        xticklabels=xticklabels,\n",
    "        row_cluster=True,\n",
    "        col_cluster=True,\n",
    "        method='ward',\n",
    "#         metric='correlation',\n",
    "        col_colors= node_colors,\n",
    "        mask=matrix.isnull(),\n",
    "        cmap=cmap,\n",
    "        figsize = (5, 5)\n",
    "    );\n",
    "    \n",
    "    plt.legend(\n",
    "        handles, node_lut, title='Subtype',\n",
    "        bbox_to_anchor=(1.1, .8),\n",
    "        bbox_transform=plt.gcf().transFigure,\n",
    "        loc='upper right'\n",
    "    )\n",
    "    g.ax_heatmap.set_ylabel('drug')\n",
    "    g.ax_heatmap.set_yticklabels(\n",
    "        g.ax_heatmap.get_yticklabels(), \n",
    "        size = 6\n",
    "    )\n",
    "#     plt.savefig(f\"figures/drug_response_by_cluster/{save_name}_{k}.pdf\", bbox_inches='tight')\n",
    "#     plt.savefig(f\"figures/drug_response_by_cluster/{save_name}_{k}.png\", bbox_inches='tight')"
   ]
  },
  {
   "cell_type": "code",
   "execution_count": null,
   "id": "5ef1e133",
   "metadata": {
    "pycharm": {
     "name": "#%%\n"
    }
   },
   "outputs": [],
   "source": [
    "plot_and_save(\n",
    "    table, \n",
    "    'AUC_heatmap', \n",
    "    yticklabels=False\n",
    ")"
   ]
  },
  {
   "cell_type": "markdown",
   "id": "16849a4c",
   "metadata": {
    "pycharm": {
     "name": "#%% md\n"
    }
   },
   "source": [
    "s"
   ]
  },
  {
   "cell_type": "code",
   "execution_count": null,
   "id": "85a25893",
   "metadata": {
    "pycharm": {
     "name": "#%%\n"
    }
   },
   "outputs": [],
   "source": [
    "drug_counts = table.describe().T['count']\n",
    "drug_counts.sort_values().tail(5)"
   ]
  },
  {
   "cell_type": "code",
   "execution_count": null,
   "id": "9928bb37",
   "metadata": {
    "pycharm": {
     "name": "#%%\n"
    }
   },
   "outputs": [],
   "source": [
    "sns.displot(drug_counts, bins=100, kind='hist');\n",
    "plt.title(\"# samples per drug\")\n",
    "plt.savefig(\"n_drug_count_by_sample.png\", bbox_inches='tight')\n",
    "plt.close()"
   ]
  },
  {
   "cell_type": "code",
   "execution_count": null,
   "id": "fd5d1537",
   "metadata": {
    "pycharm": {
     "name": "#%%\n"
    }
   },
   "outputs": [],
   "source": [
    "high_occ_drugs = drug_counts[drug_counts>=100].index.values\n",
    "plot_and_save(\n",
    "    table[high_occ_drugs], \n",
    "    'AUC_remove_low_drug_occ', \n",
    "    yticklabels=False, \n",
    "    xticklabels=False\n",
    ")\n"
   ]
  },
  {
   "cell_type": "markdown",
   "id": "c4a73a0a",
   "metadata": {
    "pycharm": {
     "name": "#%% md\n"
    }
   },
   "source": [
    "# Drugs that have AUC values less than 100 in at least 20 samples"
   ]
  },
  {
   "cell_type": "code",
   "execution_count": null,
   "id": "a11ff6b1",
   "metadata": {
    "pycharm": {
     "name": "#%%\n"
    }
   },
   "outputs": [],
   "source": [
    "high_occ_drugs"
   ]
  },
  {
   "cell_type": "code",
   "execution_count": null,
   "id": "3fe87d82",
   "metadata": {
    "pycharm": {
     "name": "#%%\n"
    }
   },
   "outputs": [],
   "source": [
    "low_auc_counts = table[table <= 100].count().sort_values()\n",
    "drugs = low_auc_counts[low_auc_counts >= 10].index.values\n",
    "len(drugs)"
   ]
  },
  {
   "cell_type": "code",
   "execution_count": null,
   "id": "d2da8857",
   "metadata": {
    "pycharm": {
     "name": "#%%\n"
    }
   },
   "outputs": [],
   "source": [
    "good_drugs = set(drugs).intersection(high_occ_drugs)"
   ]
  },
  {
   "cell_type": "code",
   "execution_count": null,
   "id": "536fa052",
   "metadata": {
    "pycharm": {
     "name": "#%%\n"
    }
   },
   "outputs": [],
   "source": [
    "good_drugs"
   ]
  },
  {
   "cell_type": "code",
   "execution_count": null,
   "id": "527ac91e",
   "metadata": {
    "pycharm": {
     "name": "#%%\n"
    }
   },
   "outputs": [],
   "source": [
    "final_table = []\n",
    "final_df = table[good_drugs].copy()\n",
    "final_table.append(final_df.count())\n",
    "final_table.append(final_df[final_df<=100].count())\n",
    "final_table = pd.DataFrame(final_table).T\n",
    "final_table.rename({0 : 'samples', 1: 'sens_samples'}, axis=1, inplace=True)"
   ]
  },
  {
   "cell_type": "code",
   "execution_count": null,
   "id": "5d56e56b",
   "metadata": {
    "pycharm": {
     "name": "#%%\n"
    }
   },
   "outputs": [],
   "source": [
    "final_table.to_csv('number_patients_per_drug.csv')"
   ]
  },
  {
   "cell_type": "code",
   "execution_count": null,
   "id": "fc1d04aa",
   "metadata": {
    "pycharm": {
     "name": "#%%\n"
    }
   },
   "outputs": [],
   "source": [
    "final_table.sort_values('sens_samples')"
   ]
  },
  {
   "cell_type": "code",
   "execution_count": null,
   "id": "3f80df70",
   "metadata": {
    "pycharm": {
     "name": "#%%\n"
    }
   },
   "outputs": [],
   "source": [
    "plot_and_save(\n",
    "    final_df,\n",
    "    'AUC_final_table',\n",
    "    yticklabels=True, \n",
    "    xticklabels=False\n",
    ")"
   ]
  },
  {
   "cell_type": "code",
   "execution_count": null,
   "id": "660d5cb5",
   "metadata": {
    "pycharm": {
     "name": "#%%\n"
    }
   },
   "outputs": [],
   "source": [
    "plot_and_save(\n",
    "    final_df,\n",
    "    'AUC_final_table_with_predicted_clusters',\n",
    "    yticklabels=True, \n",
    "    xticklabels=False, \n",
    "    use_predicted_cluster=True\n",
    ")"
   ]
  },
  {
   "cell_type": "markdown",
   "id": "ebac1ed1",
   "metadata": {
    "pycharm": {
     "name": "#%% md\n"
    }
   },
   "source": [
    "## Look at individual drugs"
   ]
  },
  {
   "cell_type": "code",
   "execution_count": null,
   "id": "756a6070",
   "metadata": {
    "pycharm": {
     "name": "#%%\n"
    }
   },
   "outputs": [],
   "source": [
    "mutation_table = pd.pivot_table(\n",
    "    data.wes.loc[data.wes.source=='wes'],\n",
    "    columns='label', \n",
    "    index='sample_id', \n",
    "    values='exp_value',\n",
    "    fill_value=False\n",
    ").astype(bool)\n",
    "mutation_table = mutation_table.loc[:, (mutation_table.sum() > 4)].copy()\n",
    "mutation_cols = set(mutation_table.columns.values)"
   ]
  },
  {
   "cell_type": "code",
   "execution_count": null,
   "id": "d6c64215",
   "metadata": {
    "pycharm": {
     "name": "#%%\n"
    }
   },
   "outputs": [],
   "source": [
    "mutation_table.sum().sort_values()"
   ]
  },
  {
   "cell_type": "code",
   "execution_count": null,
   "id": "20abb517",
   "metadata": {
    "pycharm": {
     "name": "#%%\n"
    }
   },
   "outputs": [],
   "source": [
    "cp = data.meta.copy()\n",
    "# cp['Cluster'] = cp['k=8']"
   ]
  },
  {
   "cell_type": "code",
   "execution_count": null,
   "id": "5f58de23",
   "metadata": {
    "pycharm": {
     "name": "#%%\n"
    }
   },
   "outputs": [],
   "source": [
    "subset_joined = final_df.join(cp).join(mutation_table).reset_index()\n",
    "subset_joined"
   ]
  },
  {
   "cell_type": "code",
   "execution_count": null,
   "id": "5ac6dd25",
   "metadata": {
    "pycharm": {
     "name": "#%%\n"
    }
   },
   "outputs": [],
   "source": [
    "drug_vals = subset_joined.melt(\n",
    "    id_vars=['sample_id', 'Cluster', 'NPM1calls', 'FLT3-ITDcalls']+list(mutation_cols),\n",
    "    value_vars=final_df.columns.values,\n",
    "    var_name='inhibitor', \n",
    "    value_name='auc'\n",
    ")\n",
    "\n",
    "drug_vals.head()"
   ]
  },
  {
   "cell_type": "code",
   "execution_count": null,
   "id": "9f0ff61f",
   "metadata": {
    "pycharm": {
     "name": "#%%\n"
    }
   },
   "outputs": [],
   "source": [
    "mutation_drug_df = final_df.join(mutation_table).join(cp)\n",
    "mutation_drug_df.head()"
   ]
  },
  {
   "cell_type": "code",
   "execution_count": null,
   "id": "d20825fc",
   "metadata": {
    "pycharm": {
     "name": "#%%\n"
    }
   },
   "outputs": [],
   "source": [
    "drug_vals.dropna(subset=['Cluster'], inplace=True)"
   ]
  },
  {
   "cell_type": "code",
   "execution_count": null,
   "id": "cf83aa57",
   "metadata": {
    "pycharm": {
     "name": "#%%\n"
    },
    "scrolled": true
   },
   "outputs": [],
   "source": [
    "def create_groupby_plot_horizontal(drug_name):\n",
    "    subset = data.auc_table[[drug_name, 'Cluster']].dropna().copy()\n",
    "    \n",
    "    plt.figure(figsize=(1.5, 3))\n",
    "    ax = sns.kdeplot(\n",
    "        data=subset,\n",
    "#         vertical =True,\n",
    "        y=drug_name,\n",
    "        hue='Cluster',\n",
    "        clip=(1, 300),\n",
    "        bw_adjust=1.3,\n",
    "        palette=cluster_colors,\n",
    "        warn_singular=False,\n",
    "        common_norm=True, \n",
    "        common_grid=True,\n",
    "        gridsize =100,\n",
    "        legend=False\n",
    "        \n",
    "    )\n",
    "    ax.yaxis.set_label_position(\"right\")\n",
    "    ax.yaxis.tick_right()\n",
    "    ax.legend([], frameon=False)\n",
    "\n",
    "    plt.ylabel('AUC')\n",
    "    plt.ylim(-20,400)\n",
    "    plt.savefig(f'figures/drug_response_by_cluster/{drug_name}_kde.png',\n",
    "                bbox_inches='tight', dpi=300)\n",
    "    plt.show()\n",
    "\n",
    "create_groupby_plot_horizontal('Venetoclax')\n",
    "create_groupby_plot_horizontal('Panobinostat')\n",
    "create_groupby_plot_horizontal('Sorafenib')\n",
    "create_groupby_plot_horizontal('Venetoclax - Panobinostat')\n",
    "create_groupby_plot_horizontal('Sorafenib - Panobinostat')"
   ]
  },
  {
   "cell_type": "markdown",
   "id": "3780f4b9",
   "metadata": {
    "pycharm": {
     "name": "#%% md\n"
    }
   },
   "source": [
    "## Find drugs based on subtype response"
   ]
  },
  {
   "cell_type": "code",
   "execution_count": null,
   "id": "b7824c2e",
   "metadata": {
    "pycharm": {
     "name": "#%%\n"
    }
   },
   "outputs": [],
   "source": [
    "import scikit_posthocs as sp\n",
    "\n",
    "\n",
    "combos = list(combinations(range(1, int(drug_vals.Cluster.max())+1), 2))\n",
    "\n",
    "def get_flat_row(matrix_dict):\n",
    "    out_dict = {}\n",
    "    for i, j in combos:\n",
    "        out_dict[f'{i}_{j}'] = matrix_dict[i][j]\n",
    "    return out_dict\n",
    "\n",
    "\n",
    "cluster_drug_response = {}\n",
    "sig_diff_drug_clusters = []\n",
    "for i, d in drug_vals.groupby('inhibitor'):\n",
    "    d = d.dropna(subset=['auc']).copy()    \n",
    "    r = sp.posthoc_ttest(\n",
    "        d, \n",
    "        val_col='auc',\n",
    "        equal_var = False, #False\n",
    "        pool_sd = False, #True\n",
    "        group_col='Cluster', \n",
    "        p_adjust = 'fdr_bh', #fdr_bh\n",
    "        sort=True\n",
    "    )\n",
    "    cluster_drug_response[i] = get_flat_row(r.to_dict())\n",
    "    if (r <= .01).sum().max()>2:\n",
    "        print(i)\n",
    "        print(r)\n",
    "        sig_diff_drug_clusters.append(i)"
   ]
  },
  {
   "cell_type": "code",
   "execution_count": null,
   "id": "86a3e40f",
   "metadata": {
    "pycharm": {
     "name": "#%%\n"
    }
   },
   "outputs": [],
   "source": [
    "cluster_drug_response"
   ]
  },
  {
   "cell_type": "code",
   "execution_count": null,
   "id": "c581b4fb",
   "metadata": {
    "pycharm": {
     "name": "#%%\n"
    }
   },
   "outputs": [],
   "source": [
    "cluster_pvalues = pd.DataFrame(cluster_drug_response).T\n",
    "# cluster_pvalues.to_csv('drug_response_cluster_pvalue.csv', )"
   ]
  },
  {
   "cell_type": "code",
   "execution_count": null,
   "id": "1eceabf7",
   "metadata": {
    "pycharm": {
     "name": "#%%\n"
    }
   },
   "outputs": [],
   "source": [
    "def plot_subtype_mutation( drug_name, use_prior_stats=False, save=False,hue='FLT3-ITDcalls'):\n",
    "    \n",
    "    subset = mutation_drug_df[[drug_name, 'Cluster', hue ]].dropna().copy()\n",
    "    cluster_size = int(mutation_drug_df.Cluster.max()+1)\n",
    "    order = list(range(1, cluster_size))\n",
    "    \n",
    "    fig = plt.figure(figsize=(5, 3))\n",
    "    ax = plt.subplot(111)\n",
    "  \n",
    "    ax = sns.violinplot(\n",
    "        data=subset,\n",
    "        x='Cluster', \n",
    "        y=drug_name,\n",
    "#         palette=cluster_colors,\n",
    "        split=True,\n",
    "        hue=hue,\n",
    "        palette=['grey', 'darkred'],\n",
    "        cut=0,\n",
    "        label=False,\n",
    "        ax=ax\n",
    "    )\n",
    "    \n",
    "\n",
    "    \n",
    "    pairs2 = [[(i, True), (i, False)] for i in range(1, cluster_size)]\n",
    "    \n",
    "    annotator = Annotator(\n",
    "        ax,\n",
    "        pairs2, \n",
    "        data=subset, \n",
    "        x='Cluster', \n",
    "        hue=hue,\n",
    "        y=drug_name, \n",
    "        order=order,\n",
    "        verbose=0\n",
    "    )\n",
    "\n",
    "    annotator.configure(\n",
    "        test='t-test_welch',\n",
    "        comparisons_correction=\"BH\", \n",
    "        correction_format=\"replace\",\n",
    "#         text_format='simple', \n",
    "        text_format='star', \n",
    "        loc='inside',\n",
    "        line_offset=.05,\n",
    "        line_height=.01,\n",
    "        text_offset=0,\n",
    "        line_offset_to_group=.5,\n",
    "        use_fixed_offset=True,\n",
    "        verbose=0\n",
    "    )\n",
    "    annotator.apply_and_annotate()\n",
    "    \n",
    "    if use_prior_stats:\n",
    "        pairs = []\n",
    "        for pval in cluster_drug_response[drug_name]:\n",
    "            if cluster_drug_response[drug_name][pval] <=0.05:\n",
    "                n,m = pval.split('_')\n",
    "                val = (int(n), int(m))\n",
    "                pairs.append(val)\n",
    "    else:\n",
    "        pairs = list(combinations(range(1, cluster_size), 2))\n",
    "        \n",
    "    if len(pairs):\n",
    "        annotator = Annotator(\n",
    "            ax,\n",
    "            pairs, \n",
    "            data=subset, \n",
    "            x='Cluster', \n",
    "            y=drug_name, \n",
    "            order=order,\n",
    "            verbose=0\n",
    "        )\n",
    "\n",
    "        annotator.configure(\n",
    "            test='t-test_welch',\n",
    "            comparisons_correction=\"BH\", \n",
    "            correction_format=\"replace\",\n",
    "#             text_format='star', \n",
    "            loc='outside',\n",
    "            line_offset=.05,\n",
    "            line_height=.01,\n",
    "            text_offset=0,\n",
    "            line_offset_to_group=.5,\n",
    "            use_fixed_offset=False,\n",
    "            verbose=0\n",
    "        )\n",
    "        annotator.apply_and_annotate()\n",
    "        \n",
    "   \n",
    "    p = sns.stripplot(\n",
    "        data=subset,\n",
    "        order=order,\n",
    "        x='Cluster', \n",
    "        y=drug_name,\n",
    "        dodge=True,\n",
    "        color='black',\n",
    "        edgecolor='black',\n",
    "        hue=hue,\n",
    "        palette=['black', 'red'],\n",
    "        alpha=.7,\n",
    "        size=8,\n",
    "        label=False\n",
    "    )\n",
    "    \n",
    "    handles = p.legend_.legendHandles\n",
    "    labels = [text.get_text() for text in p.legend_.texts]\n",
    "    \n",
    "    plt.title(drug_name)\n",
    "    plt.ylabel(\"AUC\")\n",
    "    plt.xlabel(\"Subtype\")\n",
    "    # Put the legend out of the figure\n",
    "    plt.legend(handles[-2:], labels[-2:], title=hue, \n",
    "               bbox_to_anchor=(1.05, 1), loc=2, borderaxespad=0.)\n",
    "    \n",
    "    if save:\n",
    "        i = drug_name.replace(\"/\", '')\n",
    "        plt.savefig(f'figures/drug_response_by_cluster/violin_plot_split_{i}_{hue}.png', dpi=150, bbox_inches='tight')\n",
    "        plt.savefig(f'figures/drug_response_by_cluster/violin_plot_split_{i}_{hue}.pdf', dpi=150, bbox_inches='tight')\n",
    "    \n",
    "    "
   ]
  },
  {
   "cell_type": "code",
   "execution_count": null,
   "id": "b6c862c2",
   "metadata": {
    "pycharm": {
     "name": "#%%\n"
    }
   },
   "outputs": [],
   "source": [
    "\n",
    "plot_subtype_mutation(\n",
    "    'Pelitinib (EKB-569)',\n",
    "    use_prior_stats=False,\n",
    "    save=False,\n",
    "    hue='FLT3-ITDcalls'\n",
    ")\n",
    "plt.show()"
   ]
  },
  {
   "cell_type": "code",
   "execution_count": null,
   "id": "c9b22aa5",
   "metadata": {
    "pycharm": {
     "name": "#%%\n"
    }
   },
   "outputs": [],
   "source": [
    "plot_subtype_mutation(\n",
    "    'A-674563',\n",
    "    use_prior_stats=True,\n",
    "    save=False,\n",
    "    hue='NPM1calls'\n",
    ")\n",
    "plt.show()"
   ]
  },
  {
   "cell_type": "code",
   "execution_count": null,
   "id": "a8a436c6",
   "metadata": {
    "pycharm": {
     "name": "#%%\n"
    }
   },
   "outputs": [],
   "source": [
    "plot_subtype_mutation(\n",
    "    'Sorafenib',\n",
    "    use_prior_stats=True,\n",
    "    save=False,\n",
    "    hue='FLT3-ITDcalls'\n",
    ")\n",
    "plt.show()"
   ]
  },
  {
   "cell_type": "code",
   "execution_count": null,
   "id": "b3a9cdab",
   "metadata": {
    "pycharm": {
     "name": "#%%\n"
    }
   },
   "outputs": [],
   "source": [
    "plot_subtype_mutation('Elesclomol', use_prior_stats=True, save=False)\n"
   ]
  },
  {
   "cell_type": "code",
   "execution_count": null,
   "id": "429aacc0",
   "metadata": {
    "pycharm": {
     "name": "#%%\n"
    }
   },
   "outputs": [],
   "source": [
    "plot_subtype_mutation(\n",
    "    'JAK Inhibitor I',\n",
    "    use_prior_stats=True,\n",
    "    save=False\n",
    ")"
   ]
  },
  {
   "cell_type": "code",
   "execution_count": null,
   "id": "9878b576",
   "metadata": {
    "pycharm": {
     "name": "#%%\n"
    }
   },
   "outputs": [],
   "source": [
    "plot_subtype_mutation('Sorafenib', use_prior_stats=True, save=False, hue='FLT3-ITDcalls')"
   ]
  },
  {
   "cell_type": "code",
   "execution_count": null,
   "id": "6357c337",
   "metadata": {
    "pycharm": {
     "name": "#%%\n"
    }
   },
   "outputs": [],
   "source": [
    "plot_subtype_mutation(\n",
    "    'Foretinib (XL880)',\n",
    "    use_prior_stats=True,\n",
    "    save=False\n",
    ")"
   ]
  },
  {
   "cell_type": "code",
   "execution_count": null,
   "id": "7cb219b2",
   "metadata": {
    "pycharm": {
     "name": "#%%\n"
    },
    "scrolled": true
   },
   "outputs": [],
   "source": [
    "# for i in list(good_drugs):\n",
    "#     plot_subtype_mutation(\n",
    "#         i, use_prior_stats=True, save=True, \n",
    "#         hue='NPM1calls'\n",
    "#     )\n",
    "#     plt.close()"
   ]
  },
  {
   "cell_type": "code",
   "execution_count": null,
   "id": "5e12356d",
   "metadata": {
    "pycharm": {
     "name": "#%%\n"
    }
   },
   "outputs": [],
   "source": [
    "# for i in list(good_drugs):\n",
    "#     plot_subtype_mutation(i, use_prior_stats=True, save=True)\n",
    "#     plt.close()"
   ]
  },
  {
   "cell_type": "code",
   "execution_count": null,
   "id": "a898e280",
   "metadata": {
    "pycharm": {
     "name": "#%%\n"
    },
    "scrolled": true
   },
   "outputs": [],
   "source": [
    "for i in sig_diff_drug_clusters:\n",
    "    plot_subtype_mutation(i, use_prior_stats=True, save=False, hue='NPM1calls')\n",
    "    plt.close()"
   ]
  },
  {
   "cell_type": "code",
   "execution_count": null,
   "id": "75a7c32c",
   "metadata": {
    "pycharm": {
     "name": "#%%\n"
    }
   },
   "outputs": [],
   "source": [
    "def plot_subtype(drug_name, use_prior_stats=False, save=False, apply_annot=True):\n",
    "    \n",
    "    subset = mutation_drug_df[[drug_name, 'Cluster']].dropna().copy()\n",
    "    \n",
    "    cluster_size = int(subset.Cluster.max()+1)\n",
    "    \n",
    "    \n",
    "    \n",
    "    fig = plt.figure(figsize=(4, 3))\n",
    "    ax = plt.subplot(111)\n",
    "    g = sns.violinplot(\n",
    "        data=subset,\n",
    "        x='Cluster', \n",
    "        y=drug_name,\n",
    "        palette=cluster_colors,\n",
    "        cut=0,\n",
    "        label=None,\n",
    "        ax=ax\n",
    "    )\n",
    "    \n",
    "    if use_prior_stats:\n",
    "        pairs = []\n",
    "        for pval in cluster_drug_response[drug_name]:\n",
    "            if cluster_drug_response[drug_name][pval] <=0.05:\n",
    "                n,m = pval.split('_')\n",
    "                val = (int(n), int(m))\n",
    "                pairs.append(val)\n",
    "    else:\n",
    "        pairs = list(combinations(range(1, cluster_size), 2))\n",
    "    \n",
    "    subset['Cluster'] = subset['Cluster'].astype(int).astype(str)\n",
    "    \n",
    "    pairs = [(str(i), str(j)) for i,j in pairs]\n",
    "    order = [str(i) for i in range(1, cluster_size)]\n",
    "    \n",
    "    if apply_annot:\n",
    "        annotator = Annotator(\n",
    "            ax,\n",
    "            pairs, \n",
    "            data=subset, \n",
    "            x='Cluster', \n",
    "            y=drug_name, \n",
    "            order=order,\n",
    "            verbose=0\n",
    "        )\n",
    "\n",
    "        annotator.configure(\n",
    "            test='t-test_welch',\n",
    "            comparisons_correction=None, \n",
    "            correction_format=\"replace\",\n",
    "    #         text_format='simple', \n",
    "            text_format='star', \n",
    "            loc='inside',\n",
    "            line_offset=.01,\n",
    "            line_height=.01,\n",
    "            text_offset=0.01,\n",
    "            line_offset_to_group=0.1,\n",
    "            verbose=0\n",
    "        )\n",
    "        annotator.apply_and_annotate()\n",
    "    \n",
    "    p = sns.stripplot(\n",
    "        data=subset,\n",
    "        order=order,\n",
    "        x='Cluster', \n",
    "        y=drug_name,\n",
    "        color='black',\n",
    "        alpha=.7,\n",
    "        label=None,\n",
    "        ax=ax\n",
    "    )\n",
    "    \n",
    "    ax.set_yticks(range(0, 351, 50), fontsize=12)\n",
    "    ax.set_xticklabels(ax.get_xticklabels(), fontsize=12)\n",
    "    \n",
    "    ax.set_title(drug_name, fontsize=16)\n",
    "    ax.set_ylabel(\"AUC\", fontsize=14)\n",
    "    ax.set_xlabel('Subtype', fontsize=14)\n",
    "\n",
    "#     ax.set_ylim(-20, 400)\n",
    "    \n",
    "    if save:\n",
    "        i = drug_name.replace(\"/\", '')\n",
    "        plt.savefig(f'figures/drug_response_by_cluster/violin_plot_{i}.png', dpi=300, bbox_inches='tight')\n",
    "        plt.savefig(f'figures/drug_response_by_cluster/violin_plot_{i}.pdf', dpi=300, bbox_inches='tight')\n",
    "        \n"
   ]
  },
  {
   "cell_type": "code",
   "execution_count": null,
   "id": "1ecfdf5e",
   "metadata": {
    "pycharm": {
     "name": "#%%\n"
    }
   },
   "outputs": [],
   "source": [
    "plot_subtype('Cabozantinib', use_prior_stats=True, save=False)\n",
    "plt.show()\n",
    "plot_subtype('Elesclomol', True, save=False)\n",
    "plt.show()"
   ]
  },
  {
   "cell_type": "code",
   "execution_count": null,
   "id": "feaddf4d",
   "metadata": {
    "pycharm": {
     "name": "#%%\n"
    }
   },
   "outputs": [],
   "source": [
    "plot_subtype('Venetoclax', True, save=False)\n",
    "plt.show()\n",
    "plot_subtype('Sorafenib', True, save=False)\n",
    "plt.show()"
   ]
  },
  {
   "cell_type": "code",
   "execution_count": null,
   "id": "2643c07d",
   "metadata": {
    "pycharm": {
     "name": "#%%\n"
    },
    "scrolled": false
   },
   "outputs": [],
   "source": [
    "plot_subtype('NF-kB Activation Inhibitor', use_prior_stats=False,)"
   ]
  },
  {
   "cell_type": "code",
   "execution_count": null,
   "id": "f76a201e",
   "metadata": {
    "pycharm": {
     "name": "#%%\n"
    },
    "scrolled": true
   },
   "outputs": [],
   "source": [
    "plot_subtype('Venetoclax - Panobinostat', use_prior_stats=True, save=False, apply_annot=False)\n",
    "\n",
    "plot_subtype('Sorafenib - Panobinostat', use_prior_stats=True, save=False, apply_annot=False)\n"
   ]
  },
  {
   "cell_type": "code",
   "execution_count": null,
   "id": "1d191ea7",
   "metadata": {
    "pycharm": {
     "name": "#%%\n"
    }
   },
   "outputs": [],
   "source": [
    "for i in sig_diff_drug_clusters:\n",
    "    plot_subtype(i, use_prior_stats=True, save=False)\n",
    "#     plt.close()\n",
    "    plt.show()"
   ]
  },
  {
   "cell_type": "code",
   "execution_count": null,
   "id": "ed3940c6",
   "metadata": {
    "pycharm": {
     "name": "#%%\n"
    }
   },
   "outputs": [],
   "source": [
    "def calc_ttest(drug_name, mutation, alternative):\n",
    "    \n",
    "    subset = mutation_drug_df[[mutation, drug_name]].dropna(subset=[mutation, drug_name])\n",
    "    subset[mutation] = subset[mutation].astype(bool)\n",
    "    true_mut = subset.loc[subset[mutation]][drug_name].values\n",
    "    false_mut = subset.loc[~subset[mutation]][drug_name].values\n",
    "    stat, pvalue = ttest_ind(\n",
    "        true_mut,\n",
    "        false_mut, \n",
    "        equal_var=False, \n",
    "        permutations=0,\n",
    "        alternative=alternative\n",
    "    )\n",
    "    return stat, pvalue"
   ]
  },
  {
   "cell_type": "code",
   "execution_count": null,
   "id": "82f39450",
   "metadata": {
    "pycharm": {
     "name": "#%%\n"
    }
   },
   "outputs": [],
   "source": [
    "def test_drug_by_subtype(drug_name, alternative):\n",
    "#     subset = drug_vals.loc[drug_vals.inhibitor == drug_name].copy()\n",
    "#     subset.dropna(subset=['auc'], inplace=True)\n",
    "    subset = mutation_drug_df[['Cluster', drug_name]].dropna(subset=['Cluster', drug_name])\n",
    "    results = []\n",
    "    for i in range(1, int(subset.Cluster.max()+1)):\n",
    "        true_mut = subset.loc[subset.Cluster.isin([i])][drug_name].values\n",
    "        false_mut = subset.loc[~subset.Cluster.isin([i])][drug_name].values\n",
    "        stat, pvalue = ttest_ind(\n",
    "            true_mut,\n",
    "            false_mut, \n",
    "            equal_var=False, \n",
    "            permutations=0,\n",
    "            alternative=alternative\n",
    "        )\n",
    "        results.append([drug_name, stat, pvalue, f'{i}_vs_rest'])\n",
    "    return results"
   ]
  },
  {
   "cell_type": "code",
   "execution_count": null,
   "id": "13520744",
   "metadata": {
    "pycharm": {
     "name": "#%%\n"
    }
   },
   "outputs": [],
   "source": [
    "test_drug_by_subtype('Venetoclax', 'two-sided')"
   ]
  },
  {
   "cell_type": "code",
   "execution_count": null,
   "id": "93e03605",
   "metadata": {
    "pycharm": {
     "name": "#%%\n"
    }
   },
   "outputs": [],
   "source": [
    "def plot_mutation_difference(drug_name, mutation, save=False, alternative='two-sided'):\n",
    "    \n",
    "    subset = mutation_drug_df[[drug_name, mutation]].dropna().copy()\n",
    "    subset.dropna(subset=[mutation, drug_name], inplace=True)\n",
    "    subset[mutation] = subset[mutation].astype(bool)\n",
    "\n",
    "    stat, pvalue = calc_ttest(drug_name, mutation, alternative)\n",
    "    \n",
    "    order = [\"False\", \"True\"]\n",
    "    pairs = [(\"False\", \"True\")]\n",
    "    \n",
    "    subset[mutation] = subset[mutation].astype(str)\n",
    "    fig = plt.figure(figsize=(2, 2))\n",
    "    ax = fig.add_subplot(111)\n",
    "    \n",
    "    ax = sns.violinplot(\n",
    "        data = subset,\n",
    "        x = mutation, \n",
    "        y = drug_name,\n",
    "        cut = .5,\n",
    "        order=order, ax=ax\n",
    "    )\n",
    "\n",
    "    annotator = Annotator(\n",
    "        ax,\n",
    "        pairs, \n",
    "        data=subset, \n",
    "        x=mutation, \n",
    "        y=drug_name, \n",
    "        order=order,\n",
    "        verbose=0\n",
    "    )\n",
    "\n",
    "    annotator.configure(\n",
    "        test='t-test_welch',\n",
    "#         test='Mann-Whitney-ls',\n",
    "        \n",
    "        comparisons_correction=\"fdr_bh\", \n",
    "        correction_format=\"replace\",\n",
    "#         text_format='star', \n",
    "        loc='inside',\n",
    "        line_offset=.4,\n",
    "        line_height=.15,\n",
    "        text_offset=1,\n",
    "        line_offset_to_group=0.501,\n",
    "        verbose=0\n",
    "    )\n",
    "    annotator.apply_and_annotate()\n",
    "\n",
    "    p = sns.stripplot(\n",
    "        data=subset,\n",
    "        x=mutation, \n",
    "        y=drug_name,\n",
    "        ax=ax,\n",
    "        color='black',\n",
    "        edgecolor='black',\n",
    "        alpha=.7,\n",
    "        order=order,\n",
    "        size=3,\n",
    "    )\n",
    "    plt.title(drug_name)\n",
    "#     if save:\n",
    "#         i = drug_name.replace(\"/\", '')\n",
    "#         plt.savefig(f'figures/drug_response_by_cluster/violin_plot_{mutation}_{i}.png', dpi=300, bbox_inches='tight')\n",
    "#         plt.savefig(f'figures/drug_response_by_cluster/violin_plot_{mutation}_{i}.pdf', dpi=300, bbox_inches='tight')\n",
    "    return [drug_name, stat, pvalue, mutation]\n",
    "\n",
    "# make_plot('A-674563', 'FLT3-ITDcalls', False)\n",
    "# plt.show()\n",
    "# make_plot('Sorafenib', 'NPM1calls', False)\n",
    "# #plt.savefig('sorafenib_violoet_npm1calls.pdf', bbox_inches='tight')\n",
    "# plt.show()\n",
    "plot_mutation_difference('Venetoclax', 'SF3B1_mut', False)\n",
    "plt.show()\n",
    "plot_mutation_difference('Panobinostat', 'SF3B1_mut', False)\n",
    "plt.show()\n",
    "plot_mutation_difference('CYT387', 'SF3B1_mut', False)\n",
    "plt.show()\n",
    "# make_plot('Venetoclax', 'NPM1calls', False)\n",
    "# make_plot('Foretinib (XL880)', None, True)"
   ]
  },
  {
   "cell_type": "code",
   "execution_count": null,
   "id": "9036fb5a",
   "metadata": {
    "pycharm": {
     "name": "#%%\n"
    }
   },
   "outputs": [],
   "source": [
    "plot_mutation_difference('Sorafenib', 'NRAS_mut', False)"
   ]
  },
  {
   "cell_type": "code",
   "execution_count": null,
   "id": "b169b4b5",
   "metadata": {
    "pycharm": {
     "name": "#%%\n"
    }
   },
   "outputs": [],
   "source": [
    "plot_mutation_difference('Elesclomol', 'FLT3-ITDcalls', False)"
   ]
  },
  {
   "cell_type": "code",
   "execution_count": null,
   "id": "2531e12b",
   "metadata": {
    "pycharm": {
     "name": "#%%\n"
    }
   },
   "outputs": [],
   "source": [
    "test_drug_by_subtype('Sorafenib', alternative='two-sided')"
   ]
  },
  {
   "cell_type": "code",
   "execution_count": null,
   "id": "2bef5464",
   "metadata": {
    "pycharm": {
     "name": "#%%\n"
    }
   },
   "outputs": [],
   "source": [
    "def compare_mutations(drug_name, mutation_1, mutation_2,  save=False, ):\n",
    "    \n",
    "    name_1 = f'{mutation_1}_only'\n",
    "    name_2 =  f'{mutation_2}_only'\n",
    "    \n",
    "    subset =  mutation_drug_df[[drug_name, mutation_1, mutation_2]].dropna(subset=[drug_name, mutation_1, mutation_2]).copy()\n",
    "#     subset[mutation_1] = subset[mutation_1].astype(bool)\n",
    "    subset.loc[(~subset[mutation_2]) & (~subset[mutation_1]), 'group']= 'double_wt'\n",
    "    subset.loc[(subset[mutation_2] & subset[mutation_1]), 'group']= 'double_mutant'\n",
    "    \n",
    "    \n",
    "    subset.loc[(subset[mutation_1]) & ~(subset[mutation_2]), 'group'] = name_1\n",
    "    subset.loc[(subset[mutation_2]) & ~(subset[mutation_1]), 'group'] = name_2\n",
    "#     print(subset)\n",
    "    print()\n",
    "    to_check = subset.group.value_counts().to_dict()\n",
    "    order = [\"double_mutant\", \"double_wt\", name_1,  name_2]\n",
    "    for i in order:\n",
    "        if i not in to_check:\n",
    "            return\n",
    "    \n",
    "    pairs = list(combinations(order, 2))\n",
    "    \n",
    "    fig = plt.figure(figsize=(6, 5))\n",
    "    ax = fig.add_subplot(111)\n",
    "    \n",
    "    ax = sns.violinplot(\n",
    "        data = subset,\n",
    "        x = 'group', \n",
    "        y = drug_name,\n",
    "        cut = .5,\n",
    "        order=order,\n",
    "        ax=ax\n",
    "    )\n",
    "\n",
    "    annotator = Annotator(\n",
    "        ax,\n",
    "        pairs, \n",
    "        data=subset, \n",
    "        x='group', \n",
    "        y=drug_name, \n",
    "        order=order,\n",
    "#         hue='group',\n",
    "        verbose=0\n",
    "    )\n",
    "\n",
    "    annotator.configure(\n",
    "        test='t-test_welch',\n",
    "#         test='Mann-Whitney-ls',\n",
    "        \n",
    "        comparisons_correction=\"fdr_bh\", \n",
    "        correction_format=\"replace\",\n",
    "#         text_format='star', \n",
    "        loc='inside',\n",
    "        line_offset=.14,\n",
    "        line_height=.15,\n",
    "        text_offset=1,\n",
    "        line_offset_to_group=0.501,\n",
    "        verbose=0\n",
    "    )\n",
    "    annotator.apply_and_annotate()\n",
    "\n",
    "    p = sns.stripplot(\n",
    "        data=subset,\n",
    "        x='group', \n",
    "        y=drug_name,\n",
    "        ax=ax,\n",
    "        color='black',\n",
    "        edgecolor='black',\n",
    "        alpha=.7,\n",
    "        order=order,\n",
    "        size=3,\n",
    "    )\n",
    "    plt.title(drug_name)\n",
    "    if save:\n",
    "        i = drug_name.replace(\"/\", '')\n",
    "        plt.savefig(f'figures/drug_response_by_cluster/violin_plot_double_mutations_{i}.png', dpi=300, bbox_inches='tight')\n",
    "        plt.savefig(f'figures/drug_response_by_cluster/violin_plot_double_mutations_{i}.pdf', dpi=300, bbox_inches='tight')\n",
    "\n",
    "compare_mutations('Sorafenib', 'NPM1calls', 'FLT3-ITDcalls',  save=True)\n",
    "plt.show()"
   ]
  },
  {
   "cell_type": "code",
   "execution_count": null,
   "id": "6f73946f",
   "metadata": {
    "pycharm": {
     "name": "#%%\n"
    }
   },
   "outputs": [],
   "source": [
    "mutation_table.sum().sort_values()"
   ]
  },
  {
   "cell_type": "code",
   "execution_count": null,
   "id": "d510021d",
   "metadata": {
    "pycharm": {
     "name": "#%%\n"
    },
    "scrolled": false
   },
   "outputs": [],
   "source": [
    "compare_mutations('Sorafenib', 'NPM1_mut', 'WT1_mut',  save=False)\n",
    "plt.show()"
   ]
  },
  {
   "cell_type": "code",
   "execution_count": null,
   "id": "afbe50c1",
   "metadata": {
    "pycharm": {
     "name": "#%%\n"
    }
   },
   "outputs": [],
   "source": [
    "mut_drug_diff = []\n",
    "for mutation in list(mutation_cols)+['FLT3-ITDcalls', 'NPM1calls'] :\n",
    "    for drug_name in drug_vals.inhibitor.unique():\n",
    "        stat, pvalue = calc_ttest(drug_name, mutation, alternative='two-sided')\n",
    "        mut_drug_diff.append([drug_name, mutation, stat, pvalue])\n",
    "\n",
    "mut_drug_diff = pd.DataFrame(mut_drug_diff, columns=['drug', 'mut', 't_stat', 'p_value'])\n",
    "mut_drug_diff['p_value'] = mut_drug_diff['p_value'].fillna(1)\n",
    "mut_drug_diff['fdr_bh_sig'], mut_drug_diff['fdr_bh'] = fdrcorrection(mut_drug_diff.p_value, alpha=0.05)\n",
    "mut_drug_pivot = mut_drug_diff.pivot(columns='mut', values=['fdr_bh', 't_stat'], index='drug')\n",
    "mut_drug_pivot.replace(np.nan, 0, inplace=True)\n",
    "mut_drug_pivot.replace(np.inf, 0, inplace=True)"
   ]
  },
  {
   "cell_type": "code",
   "execution_count": null,
   "id": "a04b6322",
   "metadata": {
    "pycharm": {
     "name": "#%%\n"
    }
   },
   "outputs": [],
   "source": [
    "drug_diff_hits = mut_drug_pivot[mut_drug_pivot.fdr_bh<0.05]['fdr_bh'].count()\n",
    "drug_diff_hits = drug_diff_hits[drug_diff_hits>0]\n",
    "drug_diff_hits.sort_values()"
   ]
  },
  {
   "cell_type": "code",
   "execution_count": null,
   "id": "f45e554d",
   "metadata": {
    "pycharm": {
     "name": "#%%\n"
    }
   },
   "outputs": [],
   "source": [
    "annot = make_annotations(mut_drug_pivot)"
   ]
  },
  {
   "cell_type": "code",
   "execution_count": null,
   "id": "5fdd81c0",
   "metadata": {
    "pycharm": {
     "name": "#%%\n"
    }
   },
   "outputs": [],
   "source": [
    "sns.clustermap(\n",
    "    mut_drug_pivot.t_stat,\n",
    "    annot=annot,\n",
    "    fmt='s',\n",
    "    row_cluster=True,\n",
    "    col_cluster=True,\n",
    "    yticklabels=True,\n",
    "    figsize=(10, 10),\n",
    "#     metric='correlation',\n",
    "#     method ='ward',\n",
    "    cmap='coolwarm',\n",
    "    linecolor='black',\n",
    "    linewidths=0.003,\n",
    "    cbar_kws=dict( label='$t$ statistic', use_gridspec=False,)\n",
    ");\n",
    "# plt.savefig('mutational_caused_drug_differences.png', bbox_inches='tight', dpi=200)\n",
    "# plt.savefig('mutational_caused_drug_differences.pdf', bbox_inches='tight', dpi=200)"
   ]
  },
  {
   "cell_type": "code",
   "execution_count": null,
   "id": "e95fdc24",
   "metadata": {
    "pycharm": {
     "name": "#%%\n"
    }
   },
   "outputs": [],
   "source": [
    "subset_drug_hits = mut_drug_pivot.fdr_bh[drug_diff_hits.index]\n",
    "annotations = subset_drug_hits.copy()\n",
    "annot = subset_drug_hits<0.05\n",
    "annotations[~annot] = ''\n",
    "annotations[annot] = '+'\n",
    "subset_drug_t_stat = mut_drug_pivot.t_stat[drug_diff_hits.index]"
   ]
  },
  {
   "cell_type": "code",
   "execution_count": null,
   "id": "5b330277",
   "metadata": {
    "pycharm": {
     "name": "#%%\n"
    }
   },
   "outputs": [],
   "source": [
    "sns.clustermap(\n",
    "    subset_drug_t_stat,\n",
    "    annot=annotations,\n",
    "    fmt='s',\n",
    "    row_cluster=True,\n",
    "    col_cluster=True,\n",
    "    yticklabels=True,\n",
    "    figsize=(5, 10),\n",
    "    metric='correlation',\n",
    "#     method ='ward',\n",
    "    cmap='coolwarm',\n",
    "    linecolor='black',\n",
    "    linewidths=0.003,\n",
    "    cbar_kws=dict( label='$t$ stat', use_gridspec=False,)\n",
    ")\n",
    "# plt.savefig('mutational_caused_drug_differences_focused.png', bbox_inches='tight', dpi=200)\n",
    "# plt.savefig('mutational_caused_drug_differences_focused.pdf', bbox_inches='tight', dpi=200)"
   ]
  },
  {
   "cell_type": "code",
   "execution_count": null,
   "id": "1af7f5da",
   "metadata": {
    "pycharm": {
     "name": "#%%\n"
    }
   },
   "outputs": [],
   "source": [
    "d_hits = (subset_drug_hits<0.05).sum(axis=1)\n",
    "d_hits = d_hits[d_hits>1]"
   ]
  },
  {
   "cell_type": "code",
   "execution_count": null,
   "id": "d72bda73",
   "metadata": {
    "pycharm": {
     "name": "#%%\n"
    }
   },
   "outputs": [],
   "source": [
    "plot_mutation_difference('Sorafenib', 'FLT3-ITDcalls');\n",
    "plt.show()"
   ]
  },
  {
   "cell_type": "code",
   "execution_count": null,
   "id": "b8af0284",
   "metadata": {
    "pycharm": {
     "name": "#%%\n"
    }
   },
   "outputs": [],
   "source": [
    "plot_mutation_difference('Midostaurin', 'GATA2_mut');\n",
    "plt.show()\n",
    "plot_mutation_difference('JNJ-28312141', 'GATA2_mut');\n",
    "plt.show()\n",
    "plot_mutation_difference('Selinexor', 'GATA2_mut');\n",
    "plt.show()"
   ]
  },
  {
   "cell_type": "code",
   "execution_count": null,
   "id": "67268b0e",
   "metadata": {
    "pycharm": {
     "name": "#%%\n"
    }
   },
   "outputs": [],
   "source": [
    "plot_mutation_difference('Selumetinib (AZD6244)', 'NRAS_mut');\n",
    "plt.show()\n",
    "plot_mutation_difference('Tivozanib (AV-951)', 'NRAS_mut');\n",
    "plt.show()\n",
    "plot_mutation_difference('PD173955', 'NRAS_mut');\n",
    "plt.show()\n"
   ]
  },
  {
   "cell_type": "code",
   "execution_count": null,
   "id": "e5b7d670",
   "metadata": {
    "pycharm": {
     "name": "#%%\n"
    }
   },
   "outputs": [],
   "source": [
    "plot_mutation_difference('Dasatinib', 'RAD21_mut');\n",
    "plt.show()\n",
    "plot_mutation_difference('Vargetef', 'TP53_mut');\n",
    "plt.show()"
   ]
  },
  {
   "cell_type": "code",
   "execution_count": null,
   "id": "06bd78b6",
   "metadata": {
    "pycharm": {
     "name": "#%%\n"
    }
   },
   "outputs": [],
   "source": [
    "plot_mutation_difference('Panobinostat', 'SF3B1_mut')\n",
    "plt.savefig('pano_sf3b1_split.pdf', bbox_inches='tight')\n",
    "plt.show()\n",
    "plot_mutation_difference('Venetoclax', 'SF3B1_mut')\n",
    "plt.savefig('ven_sf3b1_split.pdf', bbox_inches='tight')\n",
    "plt.show()"
   ]
  },
  {
   "cell_type": "code",
   "execution_count": null,
   "id": "f3e6e93c",
   "metadata": {
    "pycharm": {
     "name": "#%%\n"
    }
   },
   "outputs": [],
   "source": [
    "def gather_tests(alternative='two-sided'):\n",
    "    output = []\n",
    "    for i in drug_vals.inhibitor.unique():    \n",
    "        output += test_drug_by_subtype(i, alternative=alternative)\n",
    "    output = pd.DataFrame(output, columns=['Drug', 't_stat', 'p_value', 'comparison'])\n",
    "    output['fdr_bh_sig'], output['fdr_bh'] = fdrcorrection(output.p_value)\n",
    "    output_pivot = output.pivot(columns='comparison', values=['fdr_bh', 't_stat'], index='Drug')\n",
    "    return output_pivot, output\n",
    "\n",
    "def make_annotations(df):\n",
    "    annot = df['fdr_bh'].astype(float)< .01\n",
    "    annot[~annot] = ' '\n",
    "    annot[df['fdr_bh'] < .05] = '+'\n",
    "    return annot"
   ]
  },
  {
   "cell_type": "code",
   "execution_count": null,
   "id": "efa782a4",
   "metadata": {
    "pycharm": {
     "name": "#%%\n"
    }
   },
   "outputs": [],
   "source": [
    "plot_subtype_mutation('Panobinostat', \n",
    "        use_prior_stats=True,\n",
    "        save=False,\n",
    "        hue='WT1_mut')"
   ]
  },
  {
   "cell_type": "code",
   "execution_count": null,
   "id": "0d5c323d",
   "metadata": {
    "pycharm": {
     "name": "#%%\n"
    }
   },
   "outputs": [],
   "source": [
    "drug_substype_gt, subtype_pvals_gt = gather_tests('greater')\n",
    "drug_substype_lt, subtype_pvals_lt = gather_tests('less')\n",
    "drug_substype_ts, subtype_pvals_ts = gather_tests('two-sided')"
   ]
  },
  {
   "cell_type": "code",
   "execution_count": null,
   "id": "ac4c3662",
   "metadata": {
    "pycharm": {
     "name": "#%%\n"
    }
   },
   "outputs": [],
   "source": [
    "\n",
    "\n",
    "annot = make_annotations(drug_substype_ts)\n",
    "sns.clustermap(\n",
    "    drug_substype_ts.t_stat,\n",
    "    fmt='s',\n",
    "    annot=annot,\n",
    "    row_cluster=True,\n",
    "    col_cluster=False,\n",
    "    yticklabels=True,\n",
    "    figsize=(5, 10),\n",
    "#     metric='correlation',\n",
    "    method ='ward',\n",
    "    cmap='coolwarm',\n",
    "    linecolor='black',\n",
    "    linewidths=0.003,\n",
    "    cbar_kws=dict( label='$t$ stat', use_gridspec=False,),\n",
    ");"
   ]
  },
  {
   "cell_type": "code",
   "execution_count": null,
   "id": "6b717cce",
   "metadata": {
    "pycharm": {
     "name": "#%%\n"
    }
   },
   "outputs": [],
   "source": [
    "\n",
    "\n",
    "annot = make_annotations(drug_substype_lt)\n",
    "sns.clustermap(\n",
    "    drug_substype_lt.t_stat,\n",
    "    fmt='s',\n",
    "    annot=annot,\n",
    "    row_cluster=True,\n",
    "    col_cluster=False,\n",
    "    yticklabels=True,\n",
    "    figsize=(5, 10),\n",
    "    metric='correlation',\n",
    "#     method ='ward',\n",
    "    cmap='coolwarm',\n",
    "    linecolor='black',\n",
    "    linewidths=0.003,\n",
    "    cbar_kws=dict( label='$t$ statistic', use_gridspec=False,),\n",
    ");\n",
    "plt.close()"
   ]
  },
  {
   "cell_type": "code",
   "execution_count": null,
   "id": "20ca4fd1",
   "metadata": {
    "pycharm": {
     "name": "#%%\n"
    }
   },
   "outputs": [],
   "source": [
    "mut_t_test = []\n",
    "\n",
    "for mutation in ['FLT3-ITDcalls', 'NPM1calls'] :\n",
    "    for drug_name in drug_vals.inhibitor.unique():\n",
    "        stat, pvalue  = calc_ttest(drug_name, mutation, alternative='two-sided')\n",
    "        mut_t_test.append([drug_name, stat, pvalue,  mutation,])\n",
    "mut_t_test = pd.DataFrame(mut_t_test, columns=['Drug', 't_stat', 'p_value', 'comparison'])\n",
    "mut_t_test['fdr_bh_sig'], mut_t_test['fdr_bh'] = fdrcorrection(mut_t_test.p_value, alpha=0.05)\n",
    "mut_t_test[mut_t_test.fdr_bh_sig].sort_values('Drug').head(50)"
   ]
  },
  {
   "cell_type": "code",
   "execution_count": null,
   "id": "407c8f54",
   "metadata": {
    "pycharm": {
     "name": "#%%\n"
    }
   },
   "outputs": [],
   "source": [
    "npm1 = mut_t_test[mut_t_test.comparison=='NPM1calls'].sort_values('p_value')\n",
    "npm1.head(10)"
   ]
  },
  {
   "cell_type": "code",
   "execution_count": null,
   "id": "bd804c56",
   "metadata": {
    "pycharm": {
     "name": "#%%\n"
    },
    "scrolled": false
   },
   "outputs": [],
   "source": [
    "for i in npm1[npm1.fdr_bh<0.05].Drug:\n",
    "#     plot_subtype_mutation(i, use_prior_stats=False, save=False, hue='NPM1calls')\n",
    "    \n",
    "    plot_mutation_difference(i, mutation='NPM1calls')\n",
    "    plt.show()"
   ]
  },
  {
   "cell_type": "code",
   "execution_count": null,
   "id": "8a677dd7",
   "metadata": {
    "pycharm": {
     "name": "#%%\n"
    },
    "scrolled": false
   },
   "outputs": [],
   "source": [
    "plot_subtype_mutation('Gilteritinib', use_prior_stats=True, save=False)\n",
    "plt.show()\n",
    "    "
   ]
  },
  {
   "cell_type": "code",
   "execution_count": null,
   "id": "d38d2a5f",
   "metadata": {
    "pycharm": {
     "name": "#%%\n"
    }
   },
   "outputs": [],
   "source": [
    "mut_t_test_pivot = mut_t_test.pivot(\n",
    "    index='Drug', columns='comparison', values='fdr_bh'\n",
    ")\n",
    "mut_t_test_pivot.to_csv('mutant_drug_response.csv', index=False)\n",
    "# mut_t_test_pivot.sort_values('NPM1calls')"
   ]
  },
  {
   "cell_type": "code",
   "execution_count": null,
   "id": "c43c1213",
   "metadata": {
    "pycharm": {
     "name": "#%%\n"
    }
   },
   "outputs": [],
   "source": [
    "subtype_pvals_pivot = subtype_pvals.pivot(\n",
    "     index='Drug', \n",
    "    columns='comparison', \n",
    "    values=['fdr_bh', 't_stat']\n",
    ")"
   ]
  },
  {
   "cell_type": "code",
   "execution_count": null,
   "id": "def781e4",
   "metadata": {
    "pycharm": {
     "name": "#%%\n"
    }
   },
   "outputs": [],
   "source": [
    "mutation_and_subgraph = mut_t_test_pivot.join(subtype_pvals_pivot)\n",
    "mutation_and_subgraph.head()"
   ]
  },
  {
   "cell_type": "code",
   "execution_count": null,
   "id": "26429c1d",
   "metadata": {
    "pycharm": {
     "name": "#%%\n"
    }
   },
   "outputs": [],
   "source": [
    "joined_fdr = mut_drug_pivot.fdr_bh.join(subtype_pvals_pivot.fdr_bh)\n",
    "joined_t_stat = mut_drug_pivot.t_stat.join(subtype_pvals_pivot.t_stat)"
   ]
  },
  {
   "cell_type": "code",
   "execution_count": null,
   "id": "288bb2d8",
   "metadata": {
    "pycharm": {
     "name": "#%%\n"
    }
   },
   "outputs": [],
   "source": [
    "sns.set_theme(\n",
    "    context ='paper', \n",
    "    palette=\"Paired\", \n",
    "    style='white',\n",
    "    font_scale=1.0\n",
    ")\n",
    "\n",
    "\n",
    "annotations = joined_fdr.copy()\n",
    "annot = joined_fdr<0.05\n",
    "annotations[~annot] = ''\n",
    "annotations[annot] = '+'\n",
    "\n",
    "sns.clustermap(\n",
    "    joined_t_stat,\n",
    "#      z_score=1,\n",
    "     yticklabels=True,\n",
    "    linewidths=0.01,\n",
    "    col_cluster=False,\n",
    "    row_cluster=True,\n",
    "    annot=annotations, \n",
    "    fmt='s',\n",
    "    method='ward',\n",
    "#     metric='correlation',\n",
    "#     cmap=['grey', 'black'],\n",
    "    cmap='coolwarm',\n",
    "    figsize=(12, 12)\n",
    ");"
   ]
  },
  {
   "cell_type": "code",
   "execution_count": null,
   "id": "62b011b0",
   "metadata": {
    "pycharm": {
     "name": "#%%\n"
    }
   },
   "outputs": [],
   "source": [
    "drug_diff_hits = joined_fdr[joined_fdr<0.05].count()\n",
    "drug_diff_hits = drug_diff_hits[drug_diff_hits>0]\n",
    "drug_diff_hits"
   ]
  },
  {
   "cell_type": "code",
   "execution_count": null,
   "id": "3eb96293",
   "metadata": {
    "pycharm": {
     "name": "#%%\n"
    }
   },
   "outputs": [],
   "source": [
    "all_hits = joined_fdr[drug_diff_hits.index]\n",
    "annotations = all_hits.copy()\n",
    "annot = all_hits<0.05\n",
    "annotations[~annot] = ''\n",
    "annotations[annot] = 'x'\n",
    "all_hits_t_stat = joined_t_stat[drug_diff_hits.index]"
   ]
  },
  {
   "cell_type": "code",
   "execution_count": null,
   "id": "b10da92f",
   "metadata": {
    "pycharm": {
     "name": "#%%\n"
    }
   },
   "outputs": [],
   "source": [
    "all_hits_t_stat"
   ]
  },
  {
   "cell_type": "code",
   "execution_count": null,
   "id": "9d67cb9d",
   "metadata": {
    "pycharm": {
     "name": "#%%\n"
    }
   },
   "outputs": [],
   "source": [
    "\n",
    "sns.clustermap(\n",
    "    all_hits_t_stat,\n",
    "#      z_score=1,\n",
    "     yticklabels=True,\n",
    "    col_cluster=False,\n",
    "    row_cluster=True,\n",
    "    annot=annotations, \n",
    "    fmt='s',\n",
    "#     method='ward',\n",
    "    metric='mahalanobis',\n",
    "    figsize=(6, 8),\n",
    "    linecolor='black',\n",
    "    linewidths=0.003,\n",
    "    cmap='coolwarm',\n",
    "    cbar_kws=dict( label='$t$ statistic', use_gridspec=False,),\n",
    ");\n",
    "plt.savefig('drug_response_by_mutation_or_subtype.pdf', bbox_inches='tight')"
   ]
  },
  {
   "cell_type": "code",
   "execution_count": null,
   "id": "4061f21e",
   "metadata": {
    "pycharm": {
     "name": "#%%\n"
    }
   },
   "outputs": [],
   "source": [
    "annot = mutation_and_subgraph.astype(float)< .01\n",
    "annot[~annot] = ' '\n",
    "annot[mutation_and_subgraph < .05] = '+'\n",
    "annot.shape\n",
    "sns.clustermap(\n",
    "    -1*mutation_and_subgraph.apply(np.log10),\n",
    "#      z_score=1,\n",
    "     yticklabels=True,\n",
    "    col_cluster=False,\n",
    "    row_cluster=True,\n",
    "    annot=annot, fmt='s',\n",
    "    method='ward',\n",
    "    figsize=(4, 8),\n",
    "    linecolor='black',\n",
    "    linewidths=0.003,\n",
    "    cmap='coolwarm',\n",
    "    cbar_kws=dict( label='$-log_{10}$ p-value', use_gridspec=False,),\n",
    ");"
   ]
  },
  {
   "cell_type": "code",
   "execution_count": null,
   "id": "58b8da14",
   "metadata": {
    "pycharm": {
     "name": "#%%\n"
    }
   },
   "outputs": [],
   "source": [
    "\n",
    "g = sns.clustermap(\n",
    "    -1*mutation_and_subgraph[['FLT3-ITDcalls', 'NPM1calls']].apply(np.log10),\n",
    "#      z_score=1,\n",
    "     yticklabels=True,\n",
    "    linewidths=0.005,\n",
    "    col_cluster=False,\n",
    "    row_cluster=True,\n",
    "    annot=annot[['FLT3-ITDcalls', 'NPM1calls']],\n",
    "    fmt='s',\n",
    "    method='ward',\n",
    "#     metric='correlation',\n",
    "#     cmap=['grey', 'black'],\n",
    "    cmap='rocket_r',\n",
    "    figsize=(3, 6),\n",
    "    cbar_pos=(-.10, 0.65, 0.05, 0.1),\n",
    ");\n",
    "\n",
    "g.ax_heatmap.set(xlabel=None)\n",
    "g.ax_heatmap.set_xticklabels(['FLT3-ITD', 'NPM1'], rotation = 45)\n",
    "g.ax_heatmap.set_yticklabels( g.ax_heatmap.get_yticklabels(), fontsize=6)\n",
    "plt.savefig('figures/drug_response_by_cluster/drug_response_mutations_diff.png', dpi=300, bbox_inches='tight')\n",
    "plt.savefig('figures/drug_response_by_cluster/drug_response_mutations_diff.pdf', bbox_inches='tight')\n",
    "plt.close()"
   ]
  },
  {
   "cell_type": "code",
   "execution_count": null,
   "id": "92b1cb5e",
   "metadata": {
    "pycharm": {
     "name": "#%%\n"
    }
   },
   "outputs": [],
   "source": [
    "flt3_only = mutation_and_subgraph[['FLT3-ITDcalls']].copy()\n",
    "flt3_only.sort_values('FLT3-ITDcalls', inplace=True)\n",
    "annot = flt3_only.astype(float)< .01\n",
    "annot[~annot] = ' '\n",
    "annot[flt3_only < .01] = '+'\n",
    "annot.shape\n",
    "\n",
    "g = sns.clustermap(\n",
    "    -1*flt3_only.apply(np.log10),\n",
    "#      z_score=1,\n",
    "     yticklabels=True,\n",
    "    linewidths=0.005,\n",
    "    col_cluster=False,\n",
    "    row_cluster=False,\n",
    "    annot=annot,\n",
    "    fmt='s',\n",
    "    method='ward',\n",
    "#     metric='correlation',\n",
    "#     cmap=['grey', 'black'],\n",
    "    cmap='rocket_r',\n",
    "    figsize=(3, 8),\n",
    "    cbar_pos=(-.10, 0.65, 0.05, 0.1),\n",
    ");\n",
    "\n",
    "g.ax_heatmap.set(xlabel=None)\n",
    "g.ax_heatmap.set_xticklabels(['FLT3-ITD'], rotation = 45)\n",
    "g.ax_heatmap.set_yticklabels( g.ax_heatmap.get_yticklabels(), fontsize=6)\n",
    "plt.savefig('figures/drug_response_by_cluster/drug_response_flt3_diff.png', dpi=300, bbox_inches='tight')\n",
    "plt.savefig('figures/drug_response_by_cluster/drug_response_flt3s_diff.pdf', bbox_inches='tight')\n",
    "plt.close()"
   ]
  },
  {
   "cell_type": "code",
   "execution_count": null,
   "id": "7a26ce24",
   "metadata": {
    "pycharm": {
     "name": "#%%\n"
    }
   },
   "outputs": [],
   "source": [
    "[i for i in mutation_drug_df.columns if i.startswith('Da')]"
   ]
  },
  {
   "cell_type": "code",
   "execution_count": null,
   "id": "42d8f34a",
   "metadata": {
    "pycharm": {
     "name": "#%%\n"
    }
   },
   "outputs": [],
   "source": [
    "    \n",
    "plot_subtype_mutation('Venetoclax', \n",
    "        use_prior_stats=True,\n",
    "        save=False,\n",
    "        hue='SF3B1_mut')"
   ]
  },
  {
   "cell_type": "code",
   "execution_count": null,
   "id": "3d0d934b",
   "metadata": {
    "pycharm": {
     "name": "#%%\n"
    }
   },
   "outputs": [],
   "source": [
    "\n",
    "plot_subtype_mutation('Selumetinib (AZD6244)', \n",
    "        use_prior_stats=False,\n",
    "        save=False,\n",
    "        hue='NRAS_mut')"
   ]
  },
  {
   "cell_type": "code",
   "execution_count": null,
   "id": "a7a01b77",
   "metadata": {
    "pycharm": {
     "name": "#%%\n"
    }
   },
   "outputs": [],
   "source": [
    "plot_subtype_mutation('Panobinostat', \n",
    "        use_prior_stats=True,\n",
    "        save=False,\n",
    "        hue='SF3B1_mut')"
   ]
  },
  {
   "cell_type": "code",
   "execution_count": null,
   "id": "5c84cc41",
   "metadata": {
    "pycharm": {
     "name": "#%%\n"
    }
   },
   "outputs": [],
   "source": [
    "plot_subtype_mutation('NF-kB Activation Inhibitor', \n",
    "        use_prior_stats=True,\n",
    "        save=False,\n",
    "        hue='EZH2_mut')"
   ]
  },
  {
   "cell_type": "code",
   "execution_count": null,
   "id": "fd754075",
   "metadata": {
    "pycharm": {
     "name": "#%%\n"
    }
   },
   "outputs": [],
   "source": [
    "plot_subtype_mutation('Vargetef', \n",
    "        use_prior_stats=True,\n",
    "        save=False,\n",
    "        hue='TP53_mut')\n",
    "\n",
    "# 'Vargetef', 'TP53_mut'"
   ]
  },
  {
   "cell_type": "code",
   "execution_count": null,
   "id": "cf45bd49",
   "metadata": {
    "pycharm": {
     "name": "#%%\n"
    }
   },
   "outputs": [],
   "source": []
  },
  {
   "cell_type": "code",
   "execution_count": null,
   "id": "7705385b",
   "metadata": {
    "pycharm": {
     "name": "#%%\n"
    }
   },
   "outputs": [],
   "source": []
  }
 ],
 "metadata": {
  "kernelspec": {
   "display_name": "Python 3 (ipykernel)",
   "language": "python",
   "name": "python3"
  },
  "language_info": {
   "codemirror_mode": {
    "name": "ipython",
    "version": 3
   },
   "file_extension": ".py",
   "mimetype": "text/x-python",
   "name": "python",
   "nbconvert_exporter": "python",
   "pygments_lexer": "ipython3",
   "version": "3.7.12"
  }
 },
 "nbformat": 4,
 "nbformat_minor": 5
}