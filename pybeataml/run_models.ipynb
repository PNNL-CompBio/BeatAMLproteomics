{
 "cells": [
  {
   "cell_type": "code",
   "execution_count": 21,
   "metadata": {
    "pycharm": {
     "name": "#%%\n"
    }
   },
   "outputs": [],
   "source": [
    "import warnings\n",
    "warnings.simplefilter(action='ignore', category=FutureWarning)\n",
    "import pandas as pd\n",
    "import numpy as np\n",
    "\n",
    "from sklearn.model_selection import train_test_split\n",
    "from sklearn import metrics\n",
    "from sklearn.decomposition import PCA\n",
    "from sklearn.preprocessing import PolynomialFeatures\n",
    "from sklearn import svm, preprocessing, pipeline\n",
    "import sklearn.linear_model as LM\n",
    "from sklearn.feature_selection import VarianceThreshold\n",
    "\n",
    "import xgboost as xgb\n",
    "from xgboost import XGBRegressor\n",
    "import matplotlib.pyplot as plt\n",
    "import seaborn as sns\n",
    "from xgboost import cv\n",
    "from scipy.stats import pearsonr, spearmanr\n",
    "import lightgbm as lgb\n",
    "import pickle"
   ]
  },
  {
   "cell_type": "code",
   "execution_count": 2,
   "metadata": {
    "pycharm": {
     "name": "#%%\n"
    }
   },
   "outputs": [],
   "source": [
    "# from magine.enrichment.enrichr import get_background_list\n",
    "# \n",
    "# reactome_dict = get_background_list('Reactome_2016')\n",
    "# with open('reactome_term_dicts.pickle', 'wb') as handle:\n",
    "#     reactome_dict = pickle.dump(reactome_dict, handle)"
   ]
  },
  {
   "cell_type": "code",
   "execution_count": 3,
   "metadata": {
    "pycharm": {
     "name": "#%%\n"
    }
   },
   "outputs": [],
   "source": [
    "\n",
    "\n",
    "with open('reactome_term_dicts.pickle', 'rb') as handle:\n",
    "    reactome_dict = pickle.load(handle)"
   ]
  },
  {
   "cell_type": "code",
   "execution_count": 4,
   "metadata": {
    "pycharm": {
     "name": "#%%\n"
    }
   },
   "outputs": [],
   "source": [
    "with open('reactome_term_dicts.pickle', 'rb') as handle:\n",
    "    reactome_dict = pickle.load(handle)\n",
    "reactome_df = pd.DataFrame.from_dict(reactome_dict)"
   ]
  },
  {
   "cell_type": "code",
   "execution_count": 5,
   "metadata": {
    "pycharm": {
     "name": "#%%\n"
    }
   },
   "outputs": [
    {
     "data": {
      "text/html": [
       "<div>\n",
       "<style scoped>\n",
       "    .dataframe tbody tr th:only-of-type {\n",
       "        vertical-align: middle;\n",
       "    }\n",
       "\n",
       "    .dataframe tbody tr th {\n",
       "        vertical-align: top;\n",
       "    }\n",
       "\n",
       "    .dataframe thead th {\n",
       "        text-align: right;\n",
       "    }\n",
       "</style>\n",
       "<table border=\"1\" class=\"dataframe\">\n",
       "  <thead>\n",
       "    <tr style=\"text-align: right;\">\n",
       "      <th></th>\n",
       "      <th>term</th>\n",
       "      <th>gene_list</th>\n",
       "      <th>n_genes</th>\n",
       "    </tr>\n",
       "  </thead>\n",
       "  <tbody>\n",
       "    <tr>\n",
       "      <th>0</th>\n",
       "      <td>dna damage reversal homo sapiens</td>\n",
       "      <td>[ALKBH2, ALKBH3, ASCC1, ASCC2, ASCC3, MGMT]</td>\n",
       "      <td>6</td>\n",
       "    </tr>\n",
       "    <tr>\n",
       "      <th>1</th>\n",
       "      <td>reversal of alkylation damage by dna dioxygena...</td>\n",
       "      <td>[ALKBH2, ALKBH3, ASCC1, ASCC2, ASCC3]</td>\n",
       "      <td>5</td>\n",
       "    </tr>\n",
       "    <tr>\n",
       "      <th>2</th>\n",
       "      <td>sperm:oocyte membrane binding homo sapiens</td>\n",
       "      <td>[CD9, IZUMO1, IZUMO2, IZUMO3, IZUMO4]</td>\n",
       "      <td>5</td>\n",
       "    </tr>\n",
       "    <tr>\n",
       "      <th>3</th>\n",
       "      <td>sperm motility and taxes homo sapiens</td>\n",
       "      <td>[CATSPER1, CATSPER2, CATSPER3, CATSPER4, CATSP...</td>\n",
       "      <td>9</td>\n",
       "    </tr>\n",
       "    <tr>\n",
       "      <th>4</th>\n",
       "      <td>fertilization homo sapiens</td>\n",
       "      <td>[ACR, ADAM2, ADAM20, ADAM21, ADAM30, B4GALT1, ...</td>\n",
       "      <td>26</td>\n",
       "    </tr>\n",
       "  </tbody>\n",
       "</table>\n",
       "</div>"
      ],
      "text/plain": [
       "                                                term  \\\n",
       "0                   dna damage reversal homo sapiens   \n",
       "1  reversal of alkylation damage by dna dioxygena...   \n",
       "2         sperm:oocyte membrane binding homo sapiens   \n",
       "3              sperm motility and taxes homo sapiens   \n",
       "4                         fertilization homo sapiens   \n",
       "\n",
       "                                           gene_list  n_genes  \n",
       "0        [ALKBH2, ALKBH3, ASCC1, ASCC2, ASCC3, MGMT]        6  \n",
       "1              [ALKBH2, ALKBH3, ASCC1, ASCC2, ASCC3]        5  \n",
       "2              [CD9, IZUMO1, IZUMO2, IZUMO3, IZUMO4]        5  \n",
       "3  [CATSPER1, CATSPER2, CATSPER3, CATSPER4, CATSP...        9  \n",
       "4  [ACR, ADAM2, ADAM20, ADAM21, ADAM30, B4GALT1, ...       26  "
      ]
     },
     "execution_count": 5,
     "metadata": {},
     "output_type": "execute_result"
    }
   ],
   "source": [
    "with open('reactome_term_dicts.pickle', 'rb') as handle:\n",
    "    reactome_dict = pickle.load(handle)\n",
    "reactome_df = pd.DataFrame.from_dict(reactome_dict)\n",
    "reactome_df.term = reactome_df.term.str.split(' r-hsa').str.get(0)\n",
    "reactome_df.head()"
   ]
  },
  {
   "cell_type": "code",
   "execution_count": 6,
   "metadata": {
    "pycharm": {
     "name": "#%%\n"
    }
   },
   "outputs": [
    {
     "data": {
      "text/html": [
       "<div>\n",
       "<style scoped>\n",
       "    .dataframe tbody tr th:only-of-type {\n",
       "        vertical-align: middle;\n",
       "    }\n",
       "\n",
       "    .dataframe tbody tr th {\n",
       "        vertical-align: top;\n",
       "    }\n",
       "\n",
       "    .dataframe thead th {\n",
       "        text-align: right;\n",
       "    }\n",
       "</style>\n",
       "<table border=\"1\" class=\"dataframe\">\n",
       "  <thead>\n",
       "    <tr style=\"text-align: right;\">\n",
       "      <th></th>\n",
       "      <th>term</th>\n",
       "      <th>gene_list</th>\n",
       "      <th>n_genes</th>\n",
       "    </tr>\n",
       "  </thead>\n",
       "  <tbody>\n",
       "    <tr>\n",
       "      <th>287</th>\n",
       "      <td>tp53 regulates transcription of several additi...</td>\n",
       "      <td>[BCL2L14, BCL6, BIRC5, CHM, NDRG1, PERP, PPP1R...</td>\n",
       "      <td>14</td>\n",
       "    </tr>\n",
       "    <tr>\n",
       "      <th>290</th>\n",
       "      <td>bh3-only proteins associate with and inactivat...</td>\n",
       "      <td>[BAD, BBC3, BCL2, BCL2L1, BCL2L11, BID, BMF, P...</td>\n",
       "      <td>8</td>\n",
       "    </tr>\n",
       "    <tr>\n",
       "      <th>291</th>\n",
       "      <td>intrinsic pathway for apoptosis homo sapiens</td>\n",
       "      <td>[AKT1, AKT2, AKT3, APAF1, BAD, BAK1, BAX, BBC3...</td>\n",
       "      <td>42</td>\n",
       "    </tr>\n",
       "    <tr>\n",
       "      <th>421</th>\n",
       "      <td>apoptosis induced dna fragmentation homo sapiens</td>\n",
       "      <td>[CASP3, DFFA, DFFB, H1F0, HIST1H1A, HIST1H1B, ...</td>\n",
       "      <td>13</td>\n",
       "    </tr>\n",
       "    <tr>\n",
       "      <th>807</th>\n",
       "      <td>apoptosis homo sapiens</td>\n",
       "      <td>[ACIN1, ADD1, AKT1, AKT2, AKT3, APAF1, APC, AP...</td>\n",
       "      <td>163</td>\n",
       "    </tr>\n",
       "    <tr>\n",
       "      <th>844</th>\n",
       "      <td>regulation of apoptosis homo sapiens</td>\n",
       "      <td>[ARHGAP10, PAK2, PSMA1, PSMA2, PSMA3, PSMA4, P...</td>\n",
       "      <td>50</td>\n",
       "    </tr>\n",
       "    <tr>\n",
       "      <th>985</th>\n",
       "      <td>caspase activation via extrinsic apoptotic sig...</td>\n",
       "      <td>[APPL1, CASP3, CASP8, CASP9, CD14, CFLAR, DAPK...</td>\n",
       "      <td>27</td>\n",
       "    </tr>\n",
       "    <tr>\n",
       "      <th>995</th>\n",
       "      <td>tnfr1-induced proapoptotic signaling homo sapiens</td>\n",
       "      <td>[CASP8, CYLD, FADD, OTUD7B, RIPK1, TNF, TNFAIP...</td>\n",
       "      <td>13</td>\n",
       "    </tr>\n",
       "    <tr>\n",
       "      <th>1295</th>\n",
       "      <td>smac-mediated apoptotic response homo sapiens</td>\n",
       "      <td>[CASP3, CASP7, CASP9, DIABLO, XIAP]</td>\n",
       "      <td>5</td>\n",
       "    </tr>\n",
       "    <tr>\n",
       "      <th>1296</th>\n",
       "      <td>apoptotic factor-mediated response homo sapiens</td>\n",
       "      <td>[APAF1, CASP3, CASP7, CASP9, CYCS, DIABLO, XIAP]</td>\n",
       "      <td>7</td>\n",
       "    </tr>\n",
       "    <tr>\n",
       "      <th>1297</th>\n",
       "      <td>cytochrome c-mediated apoptotic response homo ...</td>\n",
       "      <td>[APAF1, CASP3, CASP7, CASP9, CYCS]</td>\n",
       "      <td>5</td>\n",
       "    </tr>\n",
       "    <tr>\n",
       "      <th>1298</th>\n",
       "      <td>activation of caspases through apoptosome-medi...</td>\n",
       "      <td>[APAF1, CASP3, CASP7, CASP9, CYCS]</td>\n",
       "      <td>5</td>\n",
       "    </tr>\n",
       "    <tr>\n",
       "      <th>1300</th>\n",
       "      <td>apoptotic cleavage of cell adhesion  proteins ...</td>\n",
       "      <td>[CASP3, CDH1, CTNNB1, DSG1, DSG2, DSG3, DSP, O...</td>\n",
       "      <td>11</td>\n",
       "    </tr>\n",
       "    <tr>\n",
       "      <th>1301</th>\n",
       "      <td>apoptotic execution  phase homo sapiens</td>\n",
       "      <td>[ACIN1, ADD1, APC, BCAP31, BIRC2, BMX, CASP3, ...</td>\n",
       "      <td>51</td>\n",
       "    </tr>\n",
       "    <tr>\n",
       "      <th>1302</th>\n",
       "      <td>apoptotic cleavage of cellular proteins homo s...</td>\n",
       "      <td>[ACIN1, ADD1, APC, BCAP31, BIRC2, BMX, CASP3, ...</td>\n",
       "      <td>37</td>\n",
       "    </tr>\n",
       "  </tbody>\n",
       "</table>\n",
       "</div>"
      ],
      "text/plain": [
       "                                                   term  \\\n",
       "287   tp53 regulates transcription of several additi...   \n",
       "290   bh3-only proteins associate with and inactivat...   \n",
       "291        intrinsic pathway for apoptosis homo sapiens   \n",
       "421    apoptosis induced dna fragmentation homo sapiens   \n",
       "807                              apoptosis homo sapiens   \n",
       "844                regulation of apoptosis homo sapiens   \n",
       "985   caspase activation via extrinsic apoptotic sig...   \n",
       "995   tnfr1-induced proapoptotic signaling homo sapiens   \n",
       "1295      smac-mediated apoptotic response homo sapiens   \n",
       "1296    apoptotic factor-mediated response homo sapiens   \n",
       "1297  cytochrome c-mediated apoptotic response homo ...   \n",
       "1298  activation of caspases through apoptosome-medi...   \n",
       "1300  apoptotic cleavage of cell adhesion  proteins ...   \n",
       "1301            apoptotic execution  phase homo sapiens   \n",
       "1302  apoptotic cleavage of cellular proteins homo s...   \n",
       "\n",
       "                                              gene_list  n_genes  \n",
       "287   [BCL2L14, BCL6, BIRC5, CHM, NDRG1, PERP, PPP1R...       14  \n",
       "290   [BAD, BBC3, BCL2, BCL2L1, BCL2L11, BID, BMF, P...        8  \n",
       "291   [AKT1, AKT2, AKT3, APAF1, BAD, BAK1, BAX, BBC3...       42  \n",
       "421   [CASP3, DFFA, DFFB, H1F0, HIST1H1A, HIST1H1B, ...       13  \n",
       "807   [ACIN1, ADD1, AKT1, AKT2, AKT3, APAF1, APC, AP...      163  \n",
       "844   [ARHGAP10, PAK2, PSMA1, PSMA2, PSMA3, PSMA4, P...       50  \n",
       "985   [APPL1, CASP3, CASP8, CASP9, CD14, CFLAR, DAPK...       27  \n",
       "995   [CASP8, CYLD, FADD, OTUD7B, RIPK1, TNF, TNFAIP...       13  \n",
       "1295                [CASP3, CASP7, CASP9, DIABLO, XIAP]        5  \n",
       "1296   [APAF1, CASP3, CASP7, CASP9, CYCS, DIABLO, XIAP]        7  \n",
       "1297                 [APAF1, CASP3, CASP7, CASP9, CYCS]        5  \n",
       "1298                 [APAF1, CASP3, CASP7, CASP9, CYCS]        5  \n",
       "1300  [CASP3, CDH1, CTNNB1, DSG1, DSG2, DSG3, DSP, O...       11  \n",
       "1301  [ACIN1, ADD1, APC, BCAP31, BIRC2, BMX, CASP3, ...       51  \n",
       "1302  [ACIN1, ADD1, APC, BCAP31, BIRC2, BMX, CASP3, ...       37  "
      ]
     },
     "execution_count": 6,
     "metadata": {},
     "output_type": "execute_result"
    }
   ],
   "source": [
    "reactome_df[reactome_df.term.str.contains('apop')]"
   ]
  },
  {
   "cell_type": "code",
   "execution_count": 7,
   "metadata": {
    "pycharm": {
     "name": "#%%\n"
    }
   },
   "outputs": [],
   "source": [
    "apop_genes = reactome_df.loc[reactome_df.term=='apoptosis homo sapiens']['gene_list'].values[0]\n",
    "\n",
    "dna_genes = reactome_df.loc[reactome_df.term=='dna repair homo sapiens']['gene_list'].values[0]\n",
    "\n",
    "braf_genes = reactome_df.loc[reactome_df.term=='raf activation homo sapiens']['gene_list'].values[0]"
   ]
  },
  {
   "cell_type": "markdown",
   "metadata": {
    "pycharm": {
     "name": "#%% md\n"
    }
   },
   "source": [
    "# Model development below\n",
    "Code is scattered, but the goal is to build a run_model function that takes in data, data type, and drug and returns single table comparing all models. Then the goal will be to iterate through data type combos and drugs and come up with a complete analysis output."
   ]
  },
  {
   "cell_type": "code",
   "execution_count": 8,
   "metadata": {
    "pycharm": {
     "name": "#%%\n"
    }
   },
   "outputs": [
    {
     "name": "stdout",
     "output_type": "stream",
     "text": [
      "Welcome, James Pino!\n",
      "\n"
     ]
    },
    {
     "name": "stderr",
     "output_type": "stream",
     "text": [
      "\n",
      "UPGRADE AVAILABLE\n",
      "\n",
      "A more recent version of the Synapse Client (2.7.0) is available. Your version (2.6.0) can be upgraded by typing:\n",
      "    pip install --upgrade synapseclient\n",
      "\n",
      "Python Synapse Client version 2.7.0 release notes\n",
      "\n",
      "https://python-docs.synapse.org/build/html/news.html\n",
      "\n"
     ]
    }
   ],
   "source": [
    "from load_data import AMLData"
   ]
  },
  {
   "cell_type": "code",
   "execution_count": 9,
   "metadata": {
    "pycharm": {
     "name": "#%%\n"
    }
   },
   "outputs": [
    {
     "name": "stdout",
     "output_type": "stream",
     "text": [
      "significant not in columns.\n",
      "p_value not in columns.\n"
     ]
    }
   ],
   "source": [
    "# point of access for all data\n",
    "data = AMLData()"
   ]
  },
  {
   "cell_type": "code",
   "execution_count": 10,
   "metadata": {
    "pycharm": {
     "name": "#%%\n"
    }
   },
   "outputs": [],
   "source": [
    "with open('large_fanos.txt', 'r') as f:\n",
    "    large_fanos_hgnc = f.read().splitlines()\n"
   ]
  },
  {
   "cell_type": "code",
   "execution_count": 71,
   "metadata": {
    "pycharm": {
     "name": "#%%\n"
    }
   },
   "outputs": [],
   "source": [
    "def run_gbt(x_train, y_train, x_test, y_test, feature_names, binarize=False):\n",
    "    \n",
    "    param = dict(\n",
    "        device_type='cpu',\n",
    "        boosting_type='gbdt',\n",
    "        num_threads=8,\n",
    "        n_jobs=None,\n",
    "        objective='regression',\n",
    "        metric='rmse',\n",
    "        lambda_l1=1000,\n",
    "        lambda_l2=100,\n",
    "        reg_alpha=None,\n",
    "        reg_lambda=None,\n",
    "        learning_rate=.1,\n",
    "        tree_learner='serial',\n",
    "        max_bin=128,\n",
    "        num_leaves=5,\n",
    "        max_depth=-1,\n",
    "\n",
    "        feature_fraction=1,  # .8\n",
    "\n",
    "        bagging_freq=1,\n",
    "        bagging_fraction=.8,\n",
    "        subsample=None,\n",
    "        subsample_freq=None,\n",
    "\n",
    "        min_child_weight=0.2,\n",
    "        min_data_in_leaf=2,\n",
    "        min_child_samples=None,\n",
    "        min_gain_to_split=None,\n",
    "        colsample_bytree=None,\n",
    "        min_split_gain=None,\n",
    "        n_estimators=10000,\n",
    "        verbose=-1,\n",
    "        deterministic=True,\n",
    "        random_state=10,\n",
    "\n",
    "    )\n",
    "    model_name = 'gbt'\n",
    "    \n",
    "        \n",
    "    train_data = lgb.Dataset(x_train, label=y_train, feature_name=feature_names)\n",
    "    validation_data = lgb.Dataset(x_test, label=y_test, feature_name=feature_names)\n",
    "    num_round = 10000\n",
    "    bst = lgb.train(\n",
    "        param, \n",
    "        train_data, \n",
    "        num_round, \n",
    "        valid_sets=validation_data,\n",
    "        callbacks=[lgb.early_stopping(stopping_rounds=100, verbose=0)]\n",
    "    )\n",
    "    table = bst.feature_importance()\n",
    "    feats = pd.Series(table, index=feature_names)\n",
    "    selected_feat = feats[feats > 0].index.values\n",
    "    n_feats = len(selected_feat)\n",
    "#     selected_feat = '|'.join(selected_feat)\n",
    "    train_pred = bst.predict(x_train, num_iteration=bst.best_iteration)\n",
    "    preds = bst.predict(x_test, num_iteration=bst.best_iteration)\n",
    "    error, r2, pearson, spearman = score_all(y_test, preds)\n",
    "    \n",
    "    return {\n",
    "        'test_prediction': preds,\n",
    "        'train_prediction': train_pred,\n",
    "        'mse': error,\n",
    "        'r2' : r2,\n",
    "        'spearman': spearman,\n",
    "        'pearsonr': pearsonr(y_test, preds)[0],\n",
    "        'model': model_name,\n",
    "        'feature_names': selected_feat,\n",
    "        'n_feats': n_feats\n",
    "    }\n",
    "def score_all(y_test, preds):\n",
    "    error = np.sqrt(metrics.mean_squared_error(y_test, preds))\n",
    "    r2 = metrics.r2_score(y_test, preds)\n",
    "    pearson = pearsonr(y_test, preds)[0]\n",
    "    spearman = spearmanr(y_test, preds)[0]\n",
    "#     print(f\"RMSE: {error:0.3f} | R^2 {r2:0.3f} | R {pearson:0.3f}\")\n",
    "    return error, r2, pearson, spearman"
   ]
  },
  {
   "cell_type": "code",
   "execution_count": 72,
   "metadata": {
    "pycharm": {
     "name": "#%%\n"
    }
   },
   "outputs": [],
   "source": [
    "\n",
    "def run_model(data, d_sets, drug_name, gene_subset=None, remove_fanos=False):\n",
    "    df_subset = data.get_trainable_data(d_sets, drug_name)\n",
    "    cols = list(set(df_subset.columns.values))\n",
    "    cols.remove(drug_name)\n",
    "    if remove_fanos:\n",
    "        gns = [i+'_rna' for i in large_fanos_hgnc]\n",
    "        cols = list(set(cols).difference(set(gns)))\n",
    "    if gene_subset is not None:\n",
    "        gns = [i+'_rna' for i in gene_subset]\n",
    "        gns+= [i+'_prot' for i in gene_subset]\n",
    "        cols = list(set(cols).intersection(set(gns)))\n",
    "    features = df_subset[cols].copy()\n",
    "    target = df_subset[drug_name].values\n",
    "    \n",
    "    n_features_before = features.shape[1]\n",
    "    n_features = features.shape[1]\n",
    "    \n",
    "    print(f\"Using {n_features} out of {n_features_before}\"\n",
    "          f\" ({n_features_before - n_features} removed)\")\n",
    "    \n",
    "#     features = pd.DataFrame(features, columns=feature_names)\n",
    "    feature_names = list(set(features.columns.values))\n",
    "\n",
    "    x_train, x_test, y_train, y_test = train_test_split(\n",
    "        features,\n",
    "        target,\n",
    "        test_size=0.2,\n",
    "        shuffle=True,\n",
    "        random_state=13,\n",
    "    )\n",
    "    \n",
    "    gbt_results = run_gbt(x_train, y_train, x_test, y_test, feature_names)\n",
    "\n",
    "\n",
    "    for i in [gbt_results]:\n",
    "        sns.regplot(x=y_test, y=i['test_prediction'], label=i['model'])\n",
    "        sns.regplot(x=y_train, y=i['train_prediction'], label=i['model'])\n",
    "\n",
    "    plt.xlabel(\"Actual\")\n",
    "    plt.ylabel(\"Predicted\")\n",
    "    plt.legend()\n",
    "    plt.suptitle(f\"Drug: {drug_name}\")\n",
    "    results = pd.DataFrame([gbt_results])\n",
    "    print(results[['model', 'mse', 'r2', 'pearsonr', 'n_feats']])\n",
    "    return results\n",
    "    "
   ]
  },
  {
   "cell_type": "code",
   "execution_count": 92,
   "metadata": {
    "pycharm": {
     "name": "#%%\n"
    }
   },
   "outputs": [
    {
     "name": "stderr",
     "output_type": "stream",
     "text": [
      "[WARNING] C:\\Users\\pino216\\Miniconda3\\envs\\beatAML_env_37\\lib\\site-packages\\lightgbm\\engine.py:177: UserWarning:\n",
      "\n",
      "Found `n_estimators` in params. Will use it instead of argument\n",
      "\n",
      "\n"
     ]
    },
    {
     "name": "stdout",
     "output_type": "stream",
     "text": [
      "Using 6945 out of 6945 (0 removed)\n",
      "  model        mse        r2  pearsonr  n_feats\n",
      "0   gbt  58.044695  0.498699  0.765756      237\n"
     ]
    },
    {
     "data": {
      "image/png": "[encoded data removed]",
      "text/plain": [
       "<Figure size 432x288 with 1 Axes>"
      ]
     },
     "metadata": {
      "needs_background": "light"
     },
     "output_type": "display_data"
    }
   ],
   "source": [
    "m1 = run_model(\n",
    "    data,\n",
    "    ['proteomics',],\n",
    "    'Venetoclax',\n",
    "    gene_subset=None\n",
    ");"
   ]
  },
  {
   "cell_type": "code",
   "execution_count": 93,
   "metadata": {
    "pycharm": {
     "name": "#%%\n"
    }
   },
   "outputs": [
    {
     "data": {
      "text/html": [
       "<div>\n",
       "<style scoped>\n",
       "    .dataframe tbody tr th:only-of-type {\n",
       "        vertical-align: middle;\n",
       "    }\n",
       "\n",
       "    .dataframe tbody tr th {\n",
       "        vertical-align: top;\n",
       "    }\n",
       "\n",
       "    .dataframe thead th {\n",
       "        text-align: right;\n",
       "    }\n",
       "</style>\n",
       "<table border=\"1\" class=\"dataframe\">\n",
       "  <thead>\n",
       "    <tr style=\"text-align: right;\">\n",
       "      <th></th>\n",
       "      <th>test_prediction</th>\n",
       "      <th>train_prediction</th>\n",
       "      <th>mse</th>\n",
       "      <th>r2</th>\n",
       "      <th>spearman</th>\n",
       "      <th>pearsonr</th>\n",
       "      <th>model</th>\n",
       "      <th>feature_names</th>\n",
       "      <th>n_feats</th>\n",
       "    </tr>\n",
       "  </thead>\n",
       "  <tbody>\n",
       "    <tr>\n",
       "      <th>0</th>\n",
       "      <td>[124.80157860119506, 108.04023198015003, 178.4...</td>\n",
       "      <td>[182.17621539592372, 85.09182273460314, 88.924...</td>\n",
       "      <td>58.044695</td>\n",
       "      <td>0.498699</td>\n",
       "      <td>0.762735</td>\n",
       "      <td>0.765756</td>\n",
       "      <td>gbt</td>\n",
       "      <td>[ATP1B3_prot, PKN1_prot, INPP4A_prot, HIP1R_pr...</td>\n",
       "      <td>237</td>\n",
       "    </tr>\n",
       "  </tbody>\n",
       "</table>\n",
       "</div>"
      ],
      "text/plain": [
       "                                     test_prediction  \\\n",
       "0  [124.80157860119506, 108.04023198015003, 178.4...   \n",
       "\n",
       "                                    train_prediction        mse        r2  \\\n",
       "0  [182.17621539592372, 85.09182273460314, 88.924...  58.044695  0.498699   \n",
       "\n",
       "   spearman  pearsonr model  \\\n",
       "0  0.762735  0.765756   gbt   \n",
       "\n",
       "                                       feature_names  n_feats  \n",
       "0  [ATP1B3_prot, PKN1_prot, INPP4A_prot, HIP1R_pr...      237  "
      ]
     },
     "execution_count": 93,
     "metadata": {},
     "output_type": "execute_result"
    }
   ],
   "source": [
    "m1.head()"
   ]
  },
  {
   "cell_type": "code",
   "execution_count": 84,
   "metadata": {
    "pycharm": {
     "name": "#%%\n"
    }
   },
   "outputs": [],
   "source": [
    "all_set = set(sorted(m1.feature_names[0]))"
   ]
  },
  {
   "cell_type": "code",
   "execution_count": 77,
   "metadata": {
    "pycharm": {
     "name": "#%%\n"
    }
   },
   "outputs": [
    {
     "name": "stderr",
     "output_type": "stream",
     "text": [
      "[WARNING] C:\\Users\\pino216\\Miniconda3\\envs\\beatAML_env_37\\lib\\site-packages\\lightgbm\\engine.py:177: UserWarning:\n",
      "\n",
      "Found `n_estimators` in params. Will use it instead of argument\n",
      "\n",
      "\n"
     ]
    },
    {
     "name": "stdout",
     "output_type": "stream",
     "text": [
      "Using 118 out of 118 (0 removed)\n",
      "  model        mse        r2  pearsonr  n_feats\n",
      "0   gbt  62.356746  0.421451  0.721562       36\n"
     ]
    },
    {
     "data": {
      "image/png": "[encoded data removed]",
      "text/plain": [
       "<Figure size 432x288 with 1 Axes>"
      ]
     },
     "metadata": {
      "needs_background": "light"
     },
     "output_type": "display_data"
    }
   ],
   "source": [
    "apop_m1 = run_model(\n",
    "    data,\n",
    "    ['proteomics'],\n",
    "    'Venetoclax',\n",
    "    gene_subset=apop_genes\n",
    ");"
   ]
  },
  {
   "cell_type": "code",
   "execution_count": null,
   "metadata": {
    "pycharm": {
     "name": "#%%\n"
    }
   },
   "outputs": [],
   "source": [
    "apop_set = set(sorted(apop_m1.feature_names[0]))"
   ]
  },
  {
   "cell_type": "code",
   "execution_count": 90,
   "metadata": {
    "pycharm": {
     "name": "#%%\n"
    }
   },
   "outputs": [
    {
     "data": {
      "text/plain": [
       "{'ADD1_prot',\n",
       " 'APAF1_prot',\n",
       " 'BAD_prot',\n",
       " 'BCL2_prot',\n",
       " 'BID_prot',\n",
       " 'CASP3_prot',\n",
       " 'CASP6_prot',\n",
       " 'CD14_prot',\n",
       " 'DBNL_prot',\n",
       " 'DFFB_prot',\n",
       " 'GSN_prot',\n",
       " 'MAGED1_prot',\n",
       " 'NMT1_prot',\n",
       " 'PAK2_prot',\n",
       " 'PLEC_prot',\n",
       " 'PPP3CC_prot',\n",
       " 'PRKCD_prot',\n",
       " 'PSMB10_prot',\n",
       " 'PSMB4_prot',\n",
       " 'PSMB9_prot',\n",
       " 'PSMC1_prot',\n",
       " 'PSMD11_prot',\n",
       " 'PSMD13_prot',\n",
       " 'PSMD1_prot',\n",
       " 'PSMD3_prot',\n",
       " 'PSMD6_prot',\n",
       " 'PSMD7_prot',\n",
       " 'PSMD9_prot',\n",
       " 'RIPK1_prot',\n",
       " 'ROCK1_prot',\n",
       " 'STK24_prot',\n",
       " 'TFDP1_prot',\n",
       " 'TP53BP2_prot',\n",
       " 'TRADD_prot',\n",
       " 'YWHAH_prot',\n",
       " 'YWHAQ_prot'}"
      ]
     },
     "execution_count": 90,
     "metadata": {},
     "output_type": "execute_result"
    }
   ],
   "source": [
    "apop_set"
   ]
  },
  {
   "cell_type": "code",
   "execution_count": 89,
   "metadata": {
    "pycharm": {
     "name": "#%%\n"
    }
   },
   "outputs": [
    {
     "data": {
      "text/plain": [
       "{'AAMDC_prot',\n",
       " 'ABCD1_prot',\n",
       " 'ACSS1_prot',\n",
       " 'ACTL6A_prot',\n",
       " 'ADA2_prot',\n",
       " 'AHDC1_prot',\n",
       " 'ALKBH5_prot',\n",
       " 'ANXA6_prot',\n",
       " 'APOBR_prot',\n",
       " 'ARAP1_prot',\n",
       " 'ARCN1_prot',\n",
       " 'ARF3_prot',\n",
       " 'ARHGAP30_prot',\n",
       " 'ARID3A_prot',\n",
       " 'ATP11B_prot',\n",
       " 'ATP1B3_prot',\n",
       " 'BBX_prot',\n",
       " 'BCL2_prot',\n",
       " 'BCL7A_prot',\n",
       " 'BLVRA_prot',\n",
       " 'BPHL_prot',\n",
       " 'C4BPA_prot',\n",
       " 'C7orf50_prot',\n",
       " 'CAMKK2_prot',\n",
       " 'CARD16_prot',\n",
       " 'CARD6_prot',\n",
       " 'CBFA2T2_prot',\n",
       " 'CCDC71_prot',\n",
       " 'CD3EAP_prot',\n",
       " 'CD93_prot',\n",
       " 'CDC123_prot',\n",
       " 'CEBPD_prot',\n",
       " 'CERS6_prot',\n",
       " 'CETN2_prot',\n",
       " 'CHD3_prot',\n",
       " 'CHMP4A_prot',\n",
       " 'CLCC1_prot',\n",
       " 'CMIP_prot',\n",
       " 'COL4A3BP_prot',\n",
       " 'COPA_prot',\n",
       " 'COPG1_prot',\n",
       " 'COPS6_prot',\n",
       " 'COQ7_prot',\n",
       " 'CORO2A_prot',\n",
       " 'CORO7-PAM16_prot',\n",
       " 'CRBN_prot',\n",
       " 'CRCP_prot',\n",
       " 'CRIPT_prot',\n",
       " 'CTSF_prot',\n",
       " 'DDB1_prot',\n",
       " 'DHRS11_prot',\n",
       " 'DKC1_prot',\n",
       " 'DNAJC13_prot',\n",
       " 'DNPH1_prot',\n",
       " 'DOK2_prot',\n",
       " 'DYNLT1_prot',\n",
       " 'EDC4_prot',\n",
       " 'EGLN1_prot',\n",
       " 'EHBP1L1_prot',\n",
       " 'EML4_prot',\n",
       " 'EPDR1_prot',\n",
       " 'FAM105A_prot',\n",
       " 'FCGRT_prot',\n",
       " 'FCHO1_prot',\n",
       " 'FGD2_prot',\n",
       " 'FLII_prot',\n",
       " 'FLOT1_prot',\n",
       " 'FLOT2_prot',\n",
       " 'FTO_prot',\n",
       " 'FXR1_prot',\n",
       " 'GALE_prot',\n",
       " 'GARS_prot',\n",
       " 'GFPT1_prot',\n",
       " 'GIMAP1-GIMAP5_prot',\n",
       " 'GIMAP8_prot',\n",
       " 'GLIPR2_prot',\n",
       " 'GNPDA1_prot',\n",
       " 'GRAP_prot',\n",
       " 'GSPT1_prot',\n",
       " 'HDGFL2_prot',\n",
       " 'HIP1R_prot',\n",
       " 'HK3_prot',\n",
       " 'HP_prot',\n",
       " 'HSD17B8_prot',\n",
       " 'HSP90B1_prot',\n",
       " 'HSPA5_prot',\n",
       " 'HTATIP2_prot',\n",
       " 'HTATSF1_prot',\n",
       " 'IFI30_prot',\n",
       " 'IFI35_prot',\n",
       " 'ING4_prot',\n",
       " 'INPP4A_prot',\n",
       " 'IRAK3_prot',\n",
       " 'ITGB2_prot',\n",
       " 'ITGB5_prot',\n",
       " 'JADE1_prot',\n",
       " 'KANSL3_prot',\n",
       " 'KCTD12_prot',\n",
       " 'KIAA2013_prot',\n",
       " 'KRAS_prot',\n",
       " 'LDB1_prot',\n",
       " 'LDHA_prot',\n",
       " 'LILRA2_prot',\n",
       " 'LILRB1_prot',\n",
       " 'LILRB2_prot',\n",
       " 'LRP1_prot',\n",
       " 'LRRC25_prot',\n",
       " 'LZTFL1_prot',\n",
       " 'MAD1L1_prot',\n",
       " 'MAP2K1_prot',\n",
       " 'MBD3_prot',\n",
       " 'MCEMP1_prot',\n",
       " 'MCL1_prot',\n",
       " 'MED14_prot',\n",
       " 'MEFV_prot',\n",
       " 'MICAL1_prot',\n",
       " 'MORC2_prot',\n",
       " 'MSI2_prot',\n",
       " 'MSL2_prot',\n",
       " 'MTHFR_prot',\n",
       " 'MTMR6_prot',\n",
       " 'MYH9_prot',\n",
       " 'NAB2_prot',\n",
       " 'NADK_prot',\n",
       " 'NAGK_prot',\n",
       " 'NCF4_prot',\n",
       " 'NKAPD1_prot',\n",
       " 'NSF_prot',\n",
       " 'OCIAD2_prot',\n",
       " 'OPA1_prot',\n",
       " 'ORC3_prot',\n",
       " 'ORC5_prot',\n",
       " 'OXNAD1_prot',\n",
       " 'PARS2_prot',\n",
       " 'PATZ1_prot',\n",
       " 'PCGF5_prot',\n",
       " 'PDXP_prot',\n",
       " 'PGP_prot',\n",
       " 'PKN1_prot',\n",
       " 'PLEKHF2_prot',\n",
       " 'PLGRKT_prot',\n",
       " 'PLIN3_prot',\n",
       " 'POGK_prot',\n",
       " 'POGZ_prot',\n",
       " 'POLB_prot',\n",
       " 'POLR2A_prot',\n",
       " 'POLR3C_prot',\n",
       " 'POLR3K_prot',\n",
       " 'PPP1R18_prot',\n",
       " 'PRDX4_prot',\n",
       " 'PRKRA_prot',\n",
       " 'PRR3_prot',\n",
       " 'PSMD9_prot',\n",
       " 'PSTPIP2_prot',\n",
       " 'PTBP1_prot',\n",
       " 'PTK2B_prot',\n",
       " 'PTPN6_prot',\n",
       " 'RAB31_prot',\n",
       " 'RAB43_prot',\n",
       " 'RALY_prot',\n",
       " 'RASGRP4_prot',\n",
       " 'RBM22_prot',\n",
       " 'RBM47_prot',\n",
       " 'RC3H1_prot',\n",
       " 'REEP5_prot',\n",
       " 'RENBP_prot',\n",
       " 'RFXANK_prot',\n",
       " 'RIPOR2_prot',\n",
       " 'RPA1_prot',\n",
       " 'RPA3_prot',\n",
       " 'RPL7L1_prot',\n",
       " 'RREB1_prot',\n",
       " 'RSBN1_prot',\n",
       " 'RTF1_prot',\n",
       " 'RUNX1_prot',\n",
       " 'SAP18_prot',\n",
       " 'SCPEP1_prot',\n",
       " 'SDCBP_prot',\n",
       " 'SELENOT_prot',\n",
       " 'SETD1A_prot',\n",
       " 'SH3TC1_prot',\n",
       " 'SIN3A_prot',\n",
       " 'SIRT2_prot',\n",
       " 'SIVA1_prot',\n",
       " 'SLC25A40_prot',\n",
       " 'SMC5_prot',\n",
       " 'SMS_prot',\n",
       " 'SNRPD3_prot',\n",
       " 'SSBP2_prot',\n",
       " 'SSU72_prot',\n",
       " 'STEAP3_prot',\n",
       " 'STXBP2_prot',\n",
       " 'SUDS3_prot',\n",
       " 'SYNJ1_prot',\n",
       " 'TAF6_prot',\n",
       " 'TCEAL4_prot',\n",
       " 'TCIRG1_prot',\n",
       " 'TEX2_prot',\n",
       " 'TFDP2_prot',\n",
       " 'THOP1_prot',\n",
       " 'TLE3_prot',\n",
       " 'TLK2_prot',\n",
       " 'TLR8_prot',\n",
       " 'TM7SF3_prot',\n",
       " 'TNFAIP2_prot',\n",
       " 'TP53BP1_prot',\n",
       " 'TRIOBP_prot',\n",
       " 'TRMT11_prot',\n",
       " 'TRNT1_prot',\n",
       " 'TWF1_prot',\n",
       " 'TXNIP_prot',\n",
       " 'TYMP_prot',\n",
       " 'UBR3_prot',\n",
       " 'UHRF2_prot',\n",
       " 'UNK_prot',\n",
       " 'UPP1_prot',\n",
       " 'USP22_prot',\n",
       " 'USP25_prot',\n",
       " 'WAS_prot',\n",
       " 'WDR18_prot',\n",
       " 'WDR7_prot',\n",
       " 'WNK1_prot',\n",
       " 'XYLB_prot',\n",
       " 'YTHDC1_prot',\n",
       " 'ZBTB7B_prot',\n",
       " 'ZCCHC3_prot',\n",
       " 'ZHX2_prot',\n",
       " 'ZNF146_prot',\n",
       " 'ZNF189_prot',\n",
       " 'ZNF292_prot',\n",
       " 'ZNF512B_prot',\n",
       " 'ZNF512_prot',\n",
       " 'ZNF672_prot',\n",
       " 'ZNF740_prot',\n",
       " 'ZNFX1_prot',\n",
       " 'ZNHIT6_prot',\n",
       " 'ZYX_prot'}"
      ]
     },
     "execution_count": 89,
     "metadata": {},
     "output_type": "execute_result"
    }
   ],
   "source": [
    "all_set"
   ]
  },
  {
   "cell_type": "code",
   "execution_count": 87,
   "metadata": {
    "pycharm": {
     "name": "#%%\n"
    }
   },
   "outputs": [
    {
     "data": {
      "text/plain": [
       "2"
      ]
     },
     "execution_count": 87,
     "metadata": {},
     "output_type": "execute_result"
    }
   ],
   "source": [
    "len(apop_set.intersection(all_set))"
   ]
  },
  {
   "cell_type": "code",
   "execution_count": 63,
   "metadata": {
    "pycharm": {
     "name": "#%%\n"
    }
   },
   "outputs": [
    {
     "name": "stderr",
     "output_type": "stream",
     "text": [
      "[WARNING] C:\\Users\\pino216\\Miniconda3\\envs\\beatAML_env_37\\lib\\site-packages\\lightgbm\\engine.py:177: UserWarning:\n",
      "\n",
      "Found `n_estimators` in params. Will use it instead of argument\n",
      "\n",
      "\n"
     ]
    },
    {
     "name": "stdout",
     "output_type": "stream",
     "text": [
      "Using 196 out of 196 (0 removed)\n",
      "  model        mse        r2  pearsonr  n_feats\n",
      "0   gbt  73.775956  0.190153  0.455148       40\n"
     ]
    },
    {
     "data": {
      "image/png": "[encoded data removed]",
      "text/plain": [
       "<Figure size 432x288 with 1 Axes>"
      ]
     },
     "metadata": {
      "needs_background": "light"
     },
     "output_type": "display_data"
    }
   ],
   "source": [
    "dna_m1 = run_model(\n",
    "    data,\n",
    "    ['proteomics'],\n",
    "    'Venetoclax',\n",
    "    gene_subset=dna_genes\n",
    ");"
   ]
  },
  {
   "cell_type": "code",
   "execution_count": 65,
   "metadata": {
    "pycharm": {
     "name": "#%%\n"
    }
   },
   "outputs": [
    {
     "name": "stderr",
     "output_type": "stream",
     "text": [
      "[WARNING] C:\\Users\\pino216\\Miniconda3\\envs\\beatAML_env_37\\lib\\site-packages\\lightgbm\\engine.py:177: UserWarning:\n",
      "\n",
      "Found `n_estimators` in params. Will use it instead of argument\n",
      "\n",
      "\n"
     ]
    },
    {
     "name": "stdout",
     "output_type": "stream",
     "text": [
      "Using 22843 out of 22843 (0 removed)\n",
      "  model        mse        r2  pearsonr  n_feats\n",
      "0   gbt  54.151178  0.450697  0.756602      139\n"
     ]
    },
    {
     "data": {
      "image/png": "[encoded data removed]",
      "text/plain": [
       "<Figure size 432x288 with 1 Axes>"
      ]
     },
     "metadata": {
      "needs_background": "light"
     },
     "output_type": "display_data"
    }
   ],
   "source": [
    "dna_m1 = run_model(\n",
    "    data,\n",
    "    ['rna_seq'],\n",
    "    'Venetoclax',\n",
    "    gene_subset=None\n",
    ");"
   ]
  },
  {
   "cell_type": "code",
   "execution_count": 20,
   "metadata": {
    "pycharm": {
     "name": "#%%\n"
    }
   },
   "outputs": [
    {
     "name": "stdout",
     "output_type": "stream",
     "text": [
      "Using 25 out of 25 (0 removed)\n",
      "        model        mse        r2  pearsonr       auc\n",
      "0         gbt  42.049680  0.558631  0.748700       NaN\n",
      "1  gbt_binary   0.436072  0.041283  0.516854  0.792424\n",
      "2          EN  42.351747  0.552267  0.769889       NaN\n",
      "3         SVM  45.448573  0.484395  0.706838       NaN\n",
      "4         SVC   0.445086  0.001237  0.446290  0.584758\n",
      "5       LASSO  44.262774  0.510949  0.733310       NaN\n"
     ]
    },
    {
     "data": {
      "image/png": "[encoded data removed]",
      "text/plain": [
       "<Figure size 432x288 with 1 Axes>"
      ]
     },
     "metadata": {
      "needs_background": "light"
     },
     "output_type": "display_data"
    }
   ],
   "source": [
    "\n",
    "braf_m1 = run_model(\n",
    "    data,\n",
    "    ['rna_seq'],\n",
    "    'Venetoclax',\n",
    "    gene_subset=braf_genes\n",
    ");"
   ]
  },
  {
   "cell_type": "code",
   "execution_count": 22,
   "metadata": {
    "pycharm": {
     "name": "#%%\n"
    }
   },
   "outputs": [],
   "source": [
    "dna_m1['subset'] = 'DDR genes'\n",
    "apop_m1['subset'] = 'Apoptosis genes'\n",
    "m1['subset'] = 'All genes'\n",
    "braf_m1['subset'] = 'BRAF genes'\n",
    "combined = pd.concat([dna_m1, apop_m1, m1, braf_m1], ignore_index=True)\n",
    "combined = combined.loc[combined.model=='gbt'].copy()\n",
    "combined.sort_values('subset', inplace=True)\n",
    "combined[['subset', 'pearsonr', 'r2', 'mse']]"
   ]
  },
  {
   "cell_type": "code",
   "execution_count": 81,
   "metadata": {
    "pycharm": {
     "name": "#%%\n"
    }
   },
   "outputs": [
    {
     "name": "stderr",
     "output_type": "stream",
     "text": [
      "[WARNING] C:\\Users\\pino216\\Miniconda3\\envs\\beatAML_env_37\\lib\\site-packages\\lightgbm\\engine.py:177: UserWarning:\n",
      "\n",
      "Found `n_estimators` in params. Will use it instead of argument\n",
      "\n",
      "\n"
     ]
    },
    {
     "name": "stdout",
     "output_type": "stream",
     "text": [
      "Using 16190 out of 16190 (0 removed)\n",
      "  model        mse       r2  pearsonr  n_feats\n",
      "0   gbt  55.129009  0.43068    0.7364      306\n"
     ]
    },
    {
     "name": "stderr",
     "output_type": "stream",
     "text": [
      "[WARNING] C:\\Users\\pino216\\Miniconda3\\envs\\beatAML_env_37\\lib\\site-packages\\lightgbm\\engine.py:177: UserWarning:\n",
      "\n",
      "Found `n_estimators` in params. Will use it instead of argument\n",
      "\n",
      "\n"
     ]
    },
    {
     "name": "stdout",
     "output_type": "stream",
     "text": [
      "Using 22843 out of 22843 (0 removed)\n",
      "  model        mse        r2  pearsonr  n_feats\n",
      "0   gbt  54.900123  0.435398  0.746066      326\n"
     ]
    },
    {
     "data": {
      "image/png": "[encoded data removed]",
      "text/plain": [
       "<Figure size 432x288 with 1 Axes>"
      ]
     },
     "metadata": {
      "needs_background": "light"
     },
     "output_type": "display_data"
    }
   ],
   "source": [
    "remove_le = run_model(\n",
    "    data,\n",
    "    ['rna_seq',],\n",
    "    'Venetoclax',\n",
    "    remove_fanos=True,\n",
    "    gene_subset=None\n",
    ");\n",
    "\n",
    "with_le = run_model(\n",
    "    data,\n",
    "    ['rna_seq',],\n",
    "    'Venetoclax',\n",
    "    remove_fanos=False,\n",
    "    gene_subset=None\n",
    ");"
   ]
  },
  {
   "cell_type": "code",
   "execution_count": 83,
   "metadata": {
    "pycharm": {
     "name": "#%%\n"
    }
   },
   "outputs": [
    {
     "data": {
      "text/html": [
       "<div>\n",
       "<style scoped>\n",
       "    .dataframe tbody tr th:only-of-type {\n",
       "        vertical-align: middle;\n",
       "    }\n",
       "\n",
       "    .dataframe tbody tr th {\n",
       "        vertical-align: top;\n",
       "    }\n",
       "\n",
       "    .dataframe thead th {\n",
       "        text-align: right;\n",
       "    }\n",
       "</style>\n",
       "<table border=\"1\" class=\"dataframe\">\n",
       "  <thead>\n",
       "    <tr style=\"text-align: right;\">\n",
       "      <th></th>\n",
       "      <th>subset</th>\n",
       "      <th>pearsonr</th>\n",
       "      <th>r2</th>\n",
       "      <th>mse</th>\n",
       "    </tr>\n",
       "  </thead>\n",
       "  <tbody>\n",
       "    <tr>\n",
       "      <th>1</th>\n",
       "      <td>All genes</td>\n",
       "      <td>0.746066</td>\n",
       "      <td>0.435398</td>\n",
       "      <td>54.900123</td>\n",
       "    </tr>\n",
       "    <tr>\n",
       "      <th>0</th>\n",
       "      <td>Remove LE</td>\n",
       "      <td>0.736400</td>\n",
       "      <td>0.430680</td>\n",
       "      <td>55.129009</td>\n",
       "    </tr>\n",
       "  </tbody>\n",
       "</table>\n",
       "</div>"
      ],
      "text/plain": [
       "      subset  pearsonr        r2        mse\n",
       "1  All genes  0.746066  0.435398  54.900123\n",
       "0  Remove LE  0.736400  0.430680  55.129009"
      ]
     },
     "execution_count": 83,
     "metadata": {},
     "output_type": "execute_result"
    }
   ],
   "source": [
    "\n",
    "remove_le['subset'] = 'Remove LE'\n",
    "with_le['subset'] = 'All genes'\n",
    "\n",
    "combined = pd.concat([remove_le, with_le], ignore_index=True)\n",
    "combined = combined.loc[combined.model=='gbt'].copy()\n",
    "combined.sort_values('subset', inplace=True)\n",
    "combined[['subset', 'pearsonr', 'r2', 'mse']]"
   ]
  },
  {
   "cell_type": "code",
   "execution_count": 79,
   "metadata": {
    "pycharm": {
     "name": "#%%\n"
    }
   },
   "outputs": [
    {
     "name": "stderr",
     "output_type": "stream",
     "text": [
      "[WARNING] C:\\Users\\pino216\\Miniconda3\\envs\\beatAML_env_37\\lib\\site-packages\\lightgbm\\engine.py:177: UserWarning:\n",
      "\n",
      "Found `n_estimators` in params. Will use it instead of argument\n",
      "\n",
      "\n"
     ]
    },
    {
     "name": "stdout",
     "output_type": "stream",
     "text": [
      "Using 6945 out of 6945 (0 removed)\n",
      "  model        mse        r2  pearsonr  n_feats\n",
      "0   gbt  58.044695  0.498699  0.765756      237\n"
     ]
    },
    {
     "name": "stderr",
     "output_type": "stream",
     "text": [
      "[WARNING] C:\\Users\\pino216\\Miniconda3\\envs\\beatAML_env_37\\lib\\site-packages\\lightgbm\\engine.py:177: UserWarning:\n",
      "\n",
      "Found `n_estimators` in params. Will use it instead of argument\n",
      "\n",
      "\n"
     ]
    },
    {
     "name": "stdout",
     "output_type": "stream",
     "text": [
      "Using 118 out of 118 (0 removed)\n",
      "  model        mse        r2  pearsonr  n_feats\n",
      "0   gbt  62.356746  0.421451  0.721562       36\n"
     ]
    },
    {
     "data": {
      "text/html": [
       "<div>\n",
       "<style scoped>\n",
       "    .dataframe tbody tr th:only-of-type {\n",
       "        vertical-align: middle;\n",
       "    }\n",
       "\n",
       "    .dataframe tbody tr th {\n",
       "        vertical-align: top;\n",
       "    }\n",
       "\n",
       "    .dataframe thead th {\n",
       "        text-align: right;\n",
       "    }\n",
       "</style>\n",
       "<table border=\"1\" class=\"dataframe\">\n",
       "  <thead>\n",
       "    <tr style=\"text-align: right;\">\n",
       "      <th></th>\n",
       "      <th>test_prediction</th>\n",
       "      <th>train_prediction</th>\n",
       "      <th>mse</th>\n",
       "      <th>r2</th>\n",
       "      <th>spearman</th>\n",
       "      <th>pearsonr</th>\n",
       "      <th>model</th>\n",
       "      <th>feature_names</th>\n",
       "      <th>n_feats</th>\n",
       "      <th>subset</th>\n",
       "    </tr>\n",
       "  </thead>\n",
       "  <tbody>\n",
       "    <tr>\n",
       "      <th>0</th>\n",
       "      <td>[124.80157860119506, 108.04023198015003, 178.4...</td>\n",
       "      <td>[182.17621539592372, 85.09182273460314, 88.924...</td>\n",
       "      <td>58.044695</td>\n",
       "      <td>0.498699</td>\n",
       "      <td>0.762735</td>\n",
       "      <td>0.765756</td>\n",
       "      <td>gbt</td>\n",
       "      <td>[ATP1B3_prot, PKN1_prot, INPP4A_prot, HIP1R_pr...</td>\n",
       "      <td>237</td>\n",
       "      <td>All genes</td>\n",
       "    </tr>\n",
       "    <tr>\n",
       "      <th>1</th>\n",
       "      <td>[136.31604324716417, 107.22188099089873, 174.1...</td>\n",
       "      <td>[160.56075082066386, 92.76822789252981, 96.093...</td>\n",
       "      <td>62.356746</td>\n",
       "      <td>0.421451</td>\n",
       "      <td>0.747009</td>\n",
       "      <td>0.721562</td>\n",
       "      <td>gbt</td>\n",
       "      <td>[CASP6_prot, PRKCD_prot, DBNL_prot, ADD1_prot,...</td>\n",
       "      <td>36</td>\n",
       "      <td>Apop genes</td>\n",
       "    </tr>\n",
       "  </tbody>\n",
       "</table>\n",
       "</div>"
      ],
      "text/plain": [
       "                                     test_prediction  \\\n",
       "0  [124.80157860119506, 108.04023198015003, 178.4...   \n",
       "1  [136.31604324716417, 107.22188099089873, 174.1...   \n",
       "\n",
       "                                    train_prediction        mse        r2  \\\n",
       "0  [182.17621539592372, 85.09182273460314, 88.924...  58.044695  0.498699   \n",
       "1  [160.56075082066386, 92.76822789252981, 96.093...  62.356746  0.421451   \n",
       "\n",
       "   spearman  pearsonr model  \\\n",
       "0  0.762735  0.765756   gbt   \n",
       "1  0.747009  0.721562   gbt   \n",
       "\n",
       "                                       feature_names  n_feats      subset  \n",
       "0  [ATP1B3_prot, PKN1_prot, INPP4A_prot, HIP1R_pr...      237   All genes  \n",
       "1  [CASP6_prot, PRKCD_prot, DBNL_prot, ADD1_prot,...       36  Apop genes  "
      ]
     },
     "execution_count": 79,
     "metadata": {},
     "output_type": "execute_result"
    },
    {
     "data": {
      "image/png": "[encoded data removed]",
      "text/plain": [
       "<Figure size 432x288 with 1 Axes>"
      ]
     },
     "metadata": {
      "needs_background": "light"
     },
     "output_type": "display_data"
    }
   ],
   "source": [
    "def compare_two_scenarios():\n",
    "    control = run_model(\n",
    "        data, \n",
    "        ['proteomics'],\n",
    "        'Venetoclax',\n",
    "        gene_subset=None\n",
    "    );\n",
    "    \n",
    "    control['subset'] = 'All genes'\n",
    "    \n",
    "    variable = run_model(\n",
    "        data, \n",
    "        ['proteomics'],\n",
    "        'Venetoclax',\n",
    "        gene_subset=apop_genes\n",
    "    );\n",
    "    \n",
    "    variable['subset'] = 'Apop genes'\n",
    "    \n",
    "\n",
    "    df = pd.concat([control, variable], ignore_index=True)\n",
    "    df = df.loc[df.model=='gbt'].copy()\n",
    "    return df\n",
    "compare_two_scenarios()"
   ]
  }
 ],
 "metadata": {
  "kernelspec": {
   "display_name": "Python 3 (ipykernel)",
   "language": "python",
   "name": "python3"
  },
  "language_info": {
   "codemirror_mode": {
    "name": "ipython",
    "version": 3
   },
   "file_extension": ".py",
   "mimetype": "text/x-python",
   "name": "python",
   "nbconvert_exporter": "python",
   "pygments_lexer": "ipython3",
   "version": "3.7.12"
  }
 },
 "nbformat": 4,
 "nbformat_minor": 4
}