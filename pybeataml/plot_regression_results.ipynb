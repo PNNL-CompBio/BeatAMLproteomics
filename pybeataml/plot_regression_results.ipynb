{
 "cells": [
  {
   "cell_type": "code",
   "execution_count": null,
   "id": "66f5f849",
   "metadata": {
    "pycharm": {
     "name": "#%%\n"
    }
   },
   "outputs": [],
   "source": [
    "import pandas as pd\n",
    "import seaborn as sns\n",
    "import matplotlib.pyplot as plt\n",
    "import numpy as np"
   ]
  },
  {
   "cell_type": "code",
   "execution_count": null,
   "id": "d634e782",
   "metadata": {
    "pycharm": {
     "name": "#%%\n"
    }
   },
   "outputs": [],
   "source": [
    "import matplotlib\n",
    "# plotting for paper\n",
    "matplotlib.rcParams['pdf.fonttype'] = 42\n",
    "matplotlib.rcParams['font.family'] = ['arial']\n",
    "matplotlib.rcParams['font.size'] = 6\n",
    "\n",
    "sns.set_theme(context ='paper', \n",
    "    palette=\"Paired\", \n",
    "    style='white',\n",
    "    font='arial',\n",
    "    font_scale=1.0)"
   ]
  },
  {
   "cell_type": "code",
   "execution_count": null,
   "id": "be77b2eb",
   "metadata": {
    "pycharm": {
     "name": "#%%\n"
    }
   },
   "outputs": [],
   "source": [
    "data = pd.read_csv('models/regression_gbt_all_data_combos_cv_5v5.csv', index_col=0)\n",
    "data.reset_index(inplace=True)"
   ]
  },
  {
   "cell_type": "code",
   "execution_count": null,
   "id": "1cf2a3d6",
   "metadata": {
    "pycharm": {
     "name": "#%%\n"
    }
   },
   "outputs": [],
   "source": [
    "data2 = pd.read_csv('models/regression_all_models_all_data_combos_cv_5v5.csv', index_col=0)\n",
    "data2.reset_index(inplace=True)"
   ]
  },
  {
   "cell_type": "code",
   "execution_count": null,
   "id": "b80b66c3",
   "metadata": {
    "pycharm": {
     "name": "#%%\n"
    }
   },
   "outputs": [],
   "source": [
    "len(data.drug_name.unique())"
   ]
  },
  {
   "cell_type": "code",
   "execution_count": null,
   "outputs": [],
   "source": [
    "data.head()"
   ],
   "metadata": {
    "collapsed": false,
    "pycharm": {
     "name": "#%%\n"
    }
   }
  },
  {
   "cell_type": "code",
   "execution_count": null,
   "id": "82df39e3",
   "metadata": {
    "pycharm": {
     "name": "#%%\n"
    }
   },
   "outputs": [],
   "source": [
    "data2.head()"
   ]
  },
  {
   "cell_type": "code",
   "execution_count": null,
   "id": "0bcfb161",
   "metadata": {
    "pycharm": {
     "name": "#%%\n"
    }
   },
   "outputs": [],
   "source": [
    "data.drug_name.unique()"
   ]
  },
  {
   "cell_type": "code",
   "execution_count": null,
   "id": "886df24b",
   "metadata": {
    "pycharm": {
     "name": "#%%\n"
    }
   },
   "outputs": [],
   "source": [
    "data.model.unique()"
   ]
  },
  {
   "cell_type": "code",
   "execution_count": null,
   "id": "b919c131",
   "metadata": {
    "pycharm": {
     "name": "#%%\n"
    }
   },
   "outputs": [],
   "source": [
    "# results_syn_id = 'syn27091721'\n",
    "# all_data = load_table(results_syn_id)"
   ]
  },
  {
   "cell_type": "code",
   "execution_count": null,
   "id": "522fc1df",
   "metadata": {
    "pycharm": {
     "name": "#%%\n"
    }
   },
   "outputs": [],
   "source": [
    "# full_data = pd.concat([data, data2])"
   ]
  },
  {
   "cell_type": "code",
   "execution_count": null,
   "outputs": [],
   "source": [
    "full_data = pd.read_csv(\"drug_response_regression_model_features.csv\", )"
   ],
   "metadata": {
    "collapsed": false,
    "pycharm": {
     "name": "#%%\n"
    }
   }
  },
  {
   "cell_type": "code",
   "execution_count": null,
   "outputs": [],
   "source": [
    "#full_data.to_csv(\"drug_response_regression_model_features.csv\")"
   ],
   "metadata": {
    "collapsed": false,
    "pycharm": {
     "name": "#%%\n"
    }
   }
  },
  {
   "cell_type": "code",
   "execution_count": null,
   "id": "180ee936",
   "metadata": {
    "pycharm": {
     "name": "#%%\n"
    }
   },
   "outputs": [],
   "source": [
    "def plot_metric_by_drug(\n",
    "    data_set, x='spearman', y='drug_name',\n",
    "    save_name='', hue=None, \n",
    "    figsize=(6,12),\n",
    "    sort_index=None\n",
    "):\n",
    "    hue_order = None\n",
    "    if sort_index is None:\n",
    "        sort_index = data_set.groupby(y)[x].mean().sort_values().index.values\n",
    "    if hue is not None:\n",
    "        hue_order = data_set.groupby(hue)[x].mean().sort_values().index.values\n",
    "    \n",
    "    fig = plt.figure(figsize=figsize)\n",
    "    ax = fig.add_subplot(111)\n",
    "    ax = sns.boxenplot(\n",
    "        data=data_set,\n",
    "        x=y,\n",
    "        y=x, \n",
    "        hue=hue,\n",
    "        ax=ax, \n",
    "        order=sort_index,\n",
    "        hue_order=hue_order,\n",
    "        k_depth='full'\n",
    "    )\n",
    "    \n",
    "    ax = sns.stripplot(\n",
    "        data=data_set,\n",
    "        x=y,\n",
    "        y=x, \n",
    "        hue=hue,\n",
    "        dodge =True,\n",
    "        ax=ax, \n",
    "        order=sort_index,\n",
    "        hue_order=hue_order,\n",
    "        size=2, color='black', alpha=.5,\n",
    "    )   \n",
    "    # Put the legend out of the figure\n",
    "    if hue is not None:\n",
    "        handles, labels = ax.get_legend_handles_labels()\n",
    "        ax.legend(handles=handles[:len(handles)//2], labels=labels[:len(handles)//2],\n",
    "                  bbox_to_anchor=(1.25, 1), loc=0, borderaxespad=0.)\n",
    "    ax.tick_params(axis='x', rotation=90)\n",
    "    plt.savefig(f\"{save_name}.png\", dpi=300, bbox_inches='tight')\n",
    "    plt.savefig(f\"{save_name}.pdf\", dpi=300, bbox_inches='tight')\n",
    "    return sort_index"
   ]
  },
  {
   "cell_type": "code",
   "execution_count": null,
   "id": "434c3546",
   "metadata": {
    "pycharm": {
     "name": "#%%\n"
    }
   },
   "outputs": [],
   "source": [
    "plot_metric_by_drug(\n",
    "    data, 'spearman', 'drug_name', 'model_performance', hue=None,\n",
    "    figsize=(12,12)\n",
    ")"
   ]
  },
  {
   "cell_type": "code",
   "execution_count": null,
   "id": "a3620bac",
   "metadata": {
    "pycharm": {
     "name": "#%%\n"
    }
   },
   "outputs": [],
   "source": [
    "i = 'phospho_proteomics'\n",
    "phospho_proteomics = data.loc[data.data_type == i]\n",
    "phospho_proteomics = phospho_proteomics.loc[phospho_proteomics.model == 'gbt']\n",
    "plot_metric_by_drug(\n",
    "    phospho_proteomics, \n",
    "    'spearman', \n",
    "    'drug_name',\n",
    "    f'model_performance_{i}_org',\n",
    "    figsize=(8,3)\n",
    ")"
   ]
  },
  {
   "cell_type": "code",
   "execution_count": null,
   "id": "3b94e4a9",
   "metadata": {
    "pycharm": {
     "name": "#%%\n"
    }
   },
   "outputs": [],
   "source": [
    "drugs_to_focus = [\n",
    "#     'Gilteritinib',\n",
    "#     'Quizartinib (AC220)',\n",
    "#     'Trametinib (GSK1120212)',\n",
    "    'Panobinostat',\n",
    "    'Sorafenib',\n",
    "    'Venetoclax',\n",
    "    ]\n",
    "d1= data.copy()\n",
    "d1['model'] = 'gbt_original'\n",
    "fd = data2.copy()\n",
    "fd = pd.concat([d1, fd])\n",
    "# fd = fd.loc[fd.drug_name.isin(drugs_to_focus)]\n",
    "\n",
    "fd = fd.loc[fd.data_type.isin([\n",
    "    'phospho_proteomics'\n",
    "])]\n",
    "fd = fd.loc[fd.model.isin(['EN', 'gbt'])]\n",
    "si = plot_metric_by_drug(\n",
    "    fd, \n",
    "    'spearman', \n",
    "    'drug_name', \n",
    "    'compare_models', \n",
    "    hue='model', \n",
    "    figsize=(12,4)\n",
    ")"
   ]
  },
  {
   "cell_type": "code",
   "execution_count": null,
   "id": "b7569ea3",
   "metadata": {
    "pycharm": {
     "name": "#%%\n"
    }
   },
   "outputs": [],
   "source": [
    "plot_metric_by_drug(\n",
    "    fd,\n",
    "    'n_feat', \n",
    "    'drug_name',\n",
    "    'compare_models_n_feat', \n",
    "    hue='model', \n",
    "    figsize=(12, 4),\n",
    "    sort_index=si\n",
    ");"
   ]
  },
  {
   "cell_type": "code",
   "execution_count": null,
   "id": "cf0d38b5",
   "metadata": {
    "pycharm": {
     "name": "#%%\n"
    }
   },
   "outputs": [],
   "source": [
    "d1= data.copy()\n",
    "d1['model'] = 'gbt_original'\n",
    "fd = data2.copy()\n",
    "fd = pd.concat([d1, fd])\n",
    "fd = fd.loc[fd.data_type.isin([\n",
    "    'phospho_proteomics'\n",
    "])]\n",
    "fd = fd.loc[fd.model.isin(['gbt_original', 'gbt'])]\n",
    "si = plot_metric_by_drug(\n",
    "    fd, \n",
    "    'spearman', \n",
    "    'drug_name', \n",
    "    'compare_gbt_lambda', \n",
    "    hue='model', \n",
    "    figsize=(4,12)\n",
    ")"
   ]
  },
  {
   "cell_type": "code",
   "execution_count": null,
   "id": "c76b0378",
   "metadata": {
    "pycharm": {
     "name": "#%%\n"
    }
   },
   "outputs": [],
   "source": [
    "i = 'phospho_proteomics'\n",
    "phospho_proteomics = data2.loc[data2.data_type == i]\n",
    "phospho_proteomics = phospho_proteomics.loc[phospho_proteomics.model == 'gbt']"
   ]
  },
  {
   "cell_type": "code",
   "execution_count": null,
   "id": "33b359aa",
   "metadata": {
    "pycharm": {
     "name": "#%%\n"
    }
   },
   "outputs": [],
   "source": [
    "plot_metric_by_drug(\n",
    "    phospho_proteomics, \n",
    "    'spearman', \n",
    "    'drug_name',\n",
    "    f'model_performance_{i}_2',\n",
    "    figsize=(4,8)\n",
    ")"
   ]
  },
  {
   "cell_type": "code",
   "execution_count": null,
   "id": "39152a79",
   "metadata": {
    "pycharm": {
     "name": "#%%\n"
    }
   },
   "outputs": [],
   "source": [
    "i = 'rna_seq'\n",
    "rna_seq = data.loc[data.data_type == i]\n",
    "plot_metric_by_drug(\n",
    "    rna_seq, \n",
    "    'spearman', \n",
    "    'drug_name',\n",
    "    f'model_performance_{i}',\n",
    ")"
   ]
  },
  {
   "cell_type": "code",
   "execution_count": null,
   "id": "85df8cc6",
   "metadata": {
    "pycharm": {
     "name": "#%%\n"
    }
   },
   "outputs": [],
   "source": [
    "phospho_proteomics"
   ]
  },
  {
   "cell_type": "code",
   "execution_count": null,
   "id": "065a27d0",
   "metadata": {
    "pycharm": {
     "name": "#%%\n"
    }
   },
   "outputs": [],
   "source": [
    "phospho_proteomics.groupby('drug_name').mean()[['spearman', 'sr']].sort_values(by='spearman',ascending=False)"
   ]
  },
  {
   "cell_type": "code",
   "execution_count": null,
   "id": "fe9794a7",
   "metadata": {
    "pycharm": {
     "name": "#%%\n"
    }
   },
   "outputs": [],
   "source": [
    "phospho_proteomics.groupby('drug_name').mean()['sr'].sort_values()"
   ]
  },
  {
   "cell_type": "code",
   "execution_count": null,
   "id": "ee74a375",
   "metadata": {
    "pycharm": {
     "name": "#%%\n"
    }
   },
   "outputs": [],
   "source": [
    "drugs_to_focus = [\n",
    "#     'Gilteritinib',\n",
    "#     'Quizartinib (AC220)',\n",
    "#     'Trametinib (GSK1120212)',\n",
    "#     'Panobinostat',\n",
    "#     'Sorafenib',\n",
    "    'Venetoclax',\n",
    "    ]\n",
    "df_subset = data.loc[data.drug_name.isin(drugs_to_focus)]\n",
    "df_subset = df_subset.loc[~(df_subset.data_type.str.contains('wes'))].copy()\n",
    "\n",
    "plot_metric_by_drug(\n",
    "    df_subset, \n",
    "    x='spearman',\n",
    "    y='drug_name', \n",
    "    save_name='model_performance_drugs_subset', \n",
    "    hue='data_type',\n",
    "    figsize=(3,4)\n",
    ")\n",
    "plt.legend(bbox_to_anchor=(1.05, 1), loc=0, borderaxespad=0.);\n",
    "plt.savefig('drugs_of_interest_performace.pdf', dpi=300, bbox_inches='tight')"
   ]
  },
  {
   "cell_type": "code",
   "execution_count": null,
   "id": "53b0d1b0",
   "metadata": {
    "pycharm": {
     "name": "#%%\n"
    }
   },
   "outputs": [],
   "source": [
    "plot_metric_by_drug(\n",
    "    df_subset, \n",
    "    x='n_feat',\n",
    "    y='drug_name', \n",
    "    save_name='model_performance_drugs_subset', \n",
    "    hue='data_type',\n",
    "    figsize=(4,7)\n",
    ")"
   ]
  },
  {
   "cell_type": "code",
   "execution_count": null,
   "id": "28846506",
   "metadata": {
    "pycharm": {
     "name": "#%%\n"
    }
   },
   "outputs": [],
   "source": [
    "sns.scatterplot(x='n_feat', y='spearman', data=phospho_proteomics)"
   ]
  },
  {
   "cell_type": "code",
   "execution_count": null,
   "id": "3f2ade58",
   "metadata": {
    "pycharm": {
     "name": "#%%\n"
    }
   },
   "outputs": [],
   "source": [
    "sns.scatterplot(x='n_feat', y='spearman', data=phospho_proteomics)"
   ]
  },
  {
   "cell_type": "code",
   "execution_count": null,
   "id": "20102cef",
   "metadata": {
    "pycharm": {
     "name": "#%%\n"
    }
   },
   "outputs": [],
   "source": [
    "venetoclax = data.loc[data.drug_name == 'Venetoclax'].copy()\n",
    "sort_index = venetoclax.groupby('data_type')['spearman'].mean()\n",
    "sort_index.sort_values(inplace=True)\n",
    "sort_index = sort_index.index.values"
   ]
  },
  {
   "cell_type": "code",
   "execution_count": null,
   "id": "6465dd0e",
   "metadata": {
    "pycharm": {
     "name": "#%%\n"
    }
   },
   "outputs": [],
   "source": [
    "venetoclax"
   ]
  },
  {
   "cell_type": "code",
   "execution_count": null,
   "id": "8c4a413e",
   "metadata": {
    "pycharm": {
     "name": "#%%\n"
    }
   },
   "outputs": [],
   "source": [
    "def plot_indidvidual_drug(df, drug_name, prefix, x='spearman', y='data_type'):\n",
    "    subset = df.loc[df.drug_name == drug_name].copy()\n",
    "    subset = subset.loc[~(subset.data_type.str.contains('wes'))]\n",
    "    sort_index = subset.groupby(y)[x].mean()\n",
    "    sort_index = sort_index.sort_values().index.values\n",
    "    \n",
    "#     fig = plt.figure(figsize=(6, 6))\n",
    "#     ax = fig.add_subplot(111)\n",
    "#     plt.title(drug_name)\n",
    "#     ax = sns.boxenplot(\n",
    "#         data=subset,\n",
    "#         x=x,\n",
    "#         y=y, \n",
    "#         k_depth='full',\n",
    "# #         hue=\"model\",\n",
    "#         ax=ax, \n",
    "#         order=sort_index\n",
    "#     )\n",
    "#     ax = sns.swarmplot(\n",
    "#         data=subset,\n",
    "#         x=x,\n",
    "#         y=y, \n",
    "# #         hue=\"model\",\n",
    "#         ax=ax, \n",
    "#         color='k',\n",
    "#         order=sort_index\n",
    "#     )\n",
    "#     plt.xlim(0, 1.1)\n",
    "    # Put the legend out of the figure\n",
    "#     plt.legend(bbox_to_anchor=(1.05, 1), loc=2, borderaxespad=0.);\n",
    "    \n",
    "    drug_name = drug_name.split(' ')[0]\n",
    "    \n",
    "#     plt.savefig(f\"{prefix}_{drug_name}_pearson_by_data.png\", dpi=300, bbox_inches='tight')\n",
    "    \n",
    "    \n",
    "    subset = pd.pivot_table(subset, index='data_type', columns='k', values=x, aggfunc='mean')\n",
    "    subset['mean'] = subset.T.mean()\n",
    "    fmt = '.02f'\n",
    "    if x == 'n_feat':\n",
    "        subset['mean'] = subset['mean'].astype(int)\n",
    "        fmt = 'g'\n",
    "    ax = sns.clustermap(\n",
    "        data=subset,\n",
    "        row_cluster=True, \n",
    "        col_cluster=False,\n",
    "        annot=True,\n",
    "        fmt=fmt,\n",
    "        linewidths=0.01,\n",
    "        figsize=(14, 4),\n",
    "        cmap='Reds'\n",
    "\n",
    "    )\n",
    "    plt.tight_layout();\n",
    "    plt.savefig(f\"{prefix}_{drug_name}_indepth_by_data.png\", dpi=300, bbox_inches='tight')"
   ]
  },
  {
   "cell_type": "code",
   "execution_count": null,
   "id": "83845cab",
   "metadata": {
    "scrolled": false,
    "pycharm": {
     "name": "#%%\n"
    }
   },
   "outputs": [],
   "source": [
    "plot_indidvidual_drug(data, 'Venetoclax', 'k_grid_results', 'spearman', )\n",
    "plot_indidvidual_drug(data, 'Venetoclax', 'k_grid_results', 'n_feat', )"
   ]
  },
  {
   "cell_type": "code",
   "execution_count": null,
   "id": "c16c0279",
   "metadata": {
    "pycharm": {
     "name": "#%%\n"
    }
   },
   "outputs": [],
   "source": [
    "plot_indidvidual_drug(data, 'Gilteritinib', 'd1', 'spearman', )\n",
    "plot_indidvidual_drug(data, 'Gilteritinib', 'd1', 'n_feat', )"
   ]
  },
  {
   "cell_type": "code",
   "execution_count": null,
   "id": "0837e175",
   "metadata": {
    "scrolled": false,
    "pycharm": {
     "name": "#%%\n"
    }
   },
   "outputs": [],
   "source": [
    "data.loc[data.data_type.str.contains('phospho_proteomics_rna_seq_wes')].feature_names.str.split('|').apply(sorted)"
   ]
  },
  {
   "cell_type": "code",
   "execution_count": null,
   "id": "4e71018e",
   "metadata": {
    "pycharm": {
     "name": "#%%\n"
    }
   },
   "outputs": [],
   "source": [
    "fd"
   ]
  },
  {
   "cell_type": "code",
   "execution_count": null,
   "id": "519a6132",
   "metadata": {
    "pycharm": {
     "name": "#%%\n"
    }
   },
   "outputs": [],
   "source": [
    "ven_pivot = pd.pivot_table(fd, index=['data_type', 'model'], values='spearman', columns='drug_name', aggfunc='mean')\n",
    "ven_pivot"
   ]
  },
  {
   "cell_type": "code",
   "execution_count": null,
   "id": "b4214001",
   "metadata": {
    "pycharm": {
     "name": "#%%\n"
    }
   },
   "outputs": [],
   "source": [
    "ax = sns.clustermap(\n",
    "    data=ven_pivot,\n",
    "    row_cluster=True, \n",
    "    col_cluster=False,\n",
    "    annot=True,\n",
    "    fmt='0.3f',\n",
    "    linewidths=0.01,\n",
    "    figsize=(12,12),\n",
    "    cmap='Reds'\n",
    "\n",
    ")\n",
    "# Put the legend out of the figure\n",
    "# plt.legend(bbox_to_anchor=(1.05, 1), loc=2, borderaxespad=0.);\n",
    "plt.savefig(\"venetoclax_indepth_by_data.png\", dpi=300, bbox_inches='tight')"
   ]
  },
  {
   "cell_type": "code",
   "execution_count": null,
   "id": "5fa6d2a4",
   "metadata": {
    "pycharm": {
     "name": "#%%\n"
    }
   },
   "outputs": [],
   "source": [
    "from collections import Counter\n",
    "from functools import reduce\n",
    "\n",
    "def get_feature_counts(features):\n",
    "    c = Counter()\n",
    "    for k in features:\n",
    "        current_features = Counter(k.split('|'))\n",
    "        c += current_features\n",
    "    return c\n",
    "\n",
    "def get_feature_matrix(df):\n",
    "    c=0\n",
    "    all_counts = []\n",
    "    for i, d in df.groupby(['data_type', 'drug_name']):\n",
    "        counts = pd.Series(get_feature_counts(d.feature_names))\n",
    "        counts = counts.to_frame(name='_'.join(i))\n",
    "        all_counts.append(counts)\n",
    "    all_counts = pd.concat(all_counts, axis=1)\n",
    "    all_counts.fillna(0, inplace=True)\n",
    "    all_counts.head()\n",
    "    return all_counts"
   ]
  },
  {
   "cell_type": "code",
   "execution_count": null,
   "id": "5f63cba6",
   "metadata": {
    "pycharm": {
     "name": "#%%\n"
    }
   },
   "outputs": [],
   "source": [
    "venetoclax = data2.loc[data2.drug_name == 'Venetoclax'].copy()\n",
    "venetoclax = venetoclax.loc[venetoclax.model=='gbt']\n",
    "venetoclax = venetoclax.loc[venetoclax.data_type!='wes']\n",
    "all_counts = get_feature_matrix(venetoclax)\n",
    "all_counts.sort_values(by='proteomics_Venetoclax')['proteomics_Venetoclax']"
   ]
  },
  {
   "cell_type": "code",
   "execution_count": null,
   "id": "47b78c10",
   "metadata": {
    "pycharm": {
     "name": "#%%\n"
    }
   },
   "outputs": [],
   "source": [
    "all_counts = all_counts[[i for i in all_counts.columns if 'wes' not in i]]"
   ]
  },
  {
   "cell_type": "code",
   "execution_count": null,
   "id": "45e55dc0",
   "metadata": {
    "scrolled": true,
    "pycharm": {
     "name": "#%%\n"
    }
   },
   "outputs": [],
   "source": [
    "all_counts"
   ]
  },
  {
   "cell_type": "code",
   "execution_count": null,
   "id": "0a1f8e8d",
   "metadata": {
    "pycharm": {
     "name": "#%%\n"
    }
   },
   "outputs": [],
   "source": [
    "feature_output = dict()\n",
    "feature_output_raw = dict()\n",
    "\n",
    "for i in all_counts.columns:\n",
    "    if i == 'wes_Venetoclax':\n",
    "        continue\n",
    "    tmp = all_counts[i].copy()\n",
    "    tmp = tmp[tmp>1]\n",
    "#     print(i, sorted(tmp.sort_values(ascending=False).index.values))\n",
    "    genes = sorted(tmp.sort_values(ascending=False).index.values)\n",
    "    feature_output_raw[i] = genes\n",
    "    clean_genes = []\n",
    "    for n in genes:\n",
    "        if '_prot' in n or '_rna' in n or '_mut' in n:\n",
    "            clean_genes.append(n.split('_')[0])\n",
    "        else:\n",
    "            clean_genes.append(n.split('-')[0])\n",
    "    feature_output[i] = sorted(set(clean_genes))\n",
    "for i in feature_output:\n",
    "    print(i, len(feature_output[i]),)# feature_output[i], '\\n')"
   ]
  },
  {
   "cell_type": "code",
   "execution_count": null,
   "id": "8341969d",
   "metadata": {
    "pycharm": {
     "name": "#%%\n"
    }
   },
   "outputs": [],
   "source": [
    "from magine.enrichment.enrichr import Enrichr\n",
    "e = Enrichr()"
   ]
  },
  {
   "cell_type": "code",
   "execution_count": null,
   "id": "31f1b8d4",
   "metadata": {
    "pycharm": {
     "name": "#%%\n"
    }
   },
   "outputs": [],
   "source": [
    "enrichment_results_vent = e.run_samples(\n",
    "    list(feature_output.values()),\n",
    "    list(feature_output.keys()), \n",
    "    gene_set_lib='Reactome_2022'\n",
    ")"
   ]
  },
  {
   "cell_type": "code",
   "execution_count": null,
   "id": "08740d50",
   "metadata": {
    "pycharm": {
     "name": "#%%\n"
    }
   },
   "outputs": [],
   "source": [
    "enrichment_results_vent.term_name = enrichment_results_vent.term_name.str.split('r-hsa').str.get(0)"
   ]
  },
  {
   "cell_type": "code",
   "execution_count": null,
   "id": "d64d660c",
   "metadata": {
    "pycharm": {
     "name": "#%%\n"
    }
   },
   "outputs": [],
   "source": [
    "enrichment_results_vent.sample_id = enrichment_results_vent.sample_id.str.strip('_Venetoclax')"
   ]
  },
  {
   "cell_type": "code",
   "execution_count": null,
   "id": "07f5592d",
   "metadata": {
    "pycharm": {
     "name": "#%%\n"
    }
   },
   "outputs": [],
   "source": [
    "enrichment_results_vent.remove_redundant(level='dataframe', threshold=.5).heatmap(\n",
    "    min_sig=1,\n",
    "    y_tick_labels=True, \n",
    "    cluster_row=True, \n",
    "    cluster_col=False,\n",
    "    figsize=(8, 14)\n",
    "    \n",
    ")\n",
    "plt.savefig('venetoclax_feature_enrichment_all_data_compare2.pdf', bbox_inches='tight')"
   ]
  },
  {
   "cell_type": "code",
   "execution_count": null,
   "id": "88cd2ba1",
   "metadata": {
    "pycharm": {
     "name": "#%%\n"
    }
   },
   "outputs": [],
   "source": [
    "count_of_sig_terms = enrichment_results_vent.pivot_table('significant', 'sample_id', aggfunc='sum')\n",
    "count_of_sig_terms.reset_index(inplace=True)\n",
    "\n",
    "\n",
    "for i in feature_output:\n",
    "    n_genes = len(feature_output[i])\n",
    "    i = i.rstrip('_Venetoclax')\n",
    "    count_of_sig_terms.loc[count_of_sig_terms.sample_id==i, 'n_genes'] = int(n_genes)\n",
    "count_of_sig_terms.n_genes= count_of_sig_terms.n_genes.astype(int)\n",
    "count_of_sig_terms.sort_values('n_genes', inplace=True)\n",
    "count_of_sig_terms.loc[count_of_sig_terms.sample_id=='phosph', 'sample_id'] = 'phospho'"
   ]
  },
  {
   "cell_type": "code",
   "execution_count": null,
   "id": "ed3b3afa",
   "metadata": {
    "pycharm": {
     "name": "#%%\n"
    }
   },
   "outputs": [],
   "source": [
    "count_of_sig_terms"
   ]
  },
  {
   "cell_type": "code",
   "execution_count": null,
   "id": "8c0daadb",
   "metadata": {
    "pycharm": {
     "name": "#%%\n"
    }
   },
   "outputs": [],
   "source": [
    "sort_index = [\n",
    "    'phospho','proteomics', 'rna_seq',\n",
    "    'phospho_proteomics', \n",
    "    'phospho_rna_seq',\n",
    "    'proteomics_rna_seq',\n",
    "    'phospho_proteomics_rna_seq',\n",
    "]\n",
    "vent_sub = venetoclax.loc[venetoclax.data_type.isin(sort_index)]\n",
    "vent_sub"
   ]
  },
  {
   "cell_type": "code",
   "execution_count": null,
   "id": "1f8eba5e",
   "metadata": {
    "pycharm": {
     "name": "#%%\n"
    }
   },
   "outputs": [],
   "source": [
    "sort_index = vent_sub.groupby('data_type')['spearman'].mean().sort_values().index.values"
   ]
  },
  {
   "cell_type": "code",
   "execution_count": null,
   "id": "5f03ad1f",
   "metadata": {
    "pycharm": {
     "name": "#%%\n"
    }
   },
   "outputs": [],
   "source": []
  },
  {
   "cell_type": "code",
   "execution_count": null,
   "id": "b38591dd",
   "metadata": {
    "pycharm": {
     "name": "#%%\n"
    }
   },
   "outputs": [],
   "source": [
    "f, (ax1, ax2, ax3) = plt.subplots(1, 3, figsize=(6, 2), sharey=True)\n",
    "\n",
    "g = sns.boxenplot(\n",
    "    data=vent_sub,\n",
    "    x=\"spearman\",\n",
    "    y=\"data_type\", \n",
    "    ax=ax1, \n",
    "    order=sort_index,\n",
    "    k_depth='full'\n",
    ")\n",
    "\n",
    "g = sns.swarmplot(\n",
    "    data=vent_sub,\n",
    "    x=\"spearman\",\n",
    "    y=\"data_type\", \n",
    "    color='black',\n",
    "    alpha=0.7,\n",
    "    size=3,\n",
    "#     hue=\"\",\n",
    "    ax=ax1, \n",
    "    order=sort_index\n",
    ")\n",
    "g.set_xlabel('Spearman $\\\\rho$')\n",
    "g.set_ylabel('')\n",
    "# ax2 = fig.add_subplot(121)\n",
    "g = sns.barplot(\n",
    "    data=count_of_sig_terms,\n",
    "    y='sample_id',\n",
    "    x='n_genes',\n",
    "    orient='h',\n",
    "    order=sort_index,\n",
    "    ax=ax2\n",
    ");\n",
    "g.set_xlabel('Number of model features')\n",
    "g.set_ylabel('')\n",
    "\n",
    "g = sns.barplot(\n",
    "    data=count_of_sig_terms,\n",
    "    y='sample_id',\n",
    "    x='significant',\n",
    "    orient='h',\n",
    "    order=sort_index,\n",
    "    ax=ax3\n",
    ");\n",
    "g.set_xlabel('Number of significantly\\n enriched terms')\n",
    "g.set_ylabel('')\n",
    "\n",
    "\n",
    "plt.savefig('barplot_venetoclax_enriched_terms2.pdf', bbox_inches='tight')\n",
    "# g.set_xticklabels(g.get_xticklabels(), rotation=45);"
   ]
  },
  {
   "cell_type": "code",
   "execution_count": null,
   "id": "f3716d09",
   "metadata": {
    "pycharm": {
     "name": "#%%\n"
    }
   },
   "outputs": [],
   "source": [
    "all_counts2 = all_counts[all_counts[all_counts>9].count(axis=1) > 3]\n",
    "len(all_counts2)\n",
    "top_35_features = all_counts2.sum(axis=1).sort_values(ascending=False).index.values"
   ]
  },
  {
   "cell_type": "code",
   "execution_count": null,
   "id": "b6f440de",
   "metadata": {
    "pycharm": {
     "name": "#%%\n"
    }
   },
   "outputs": [],
   "source": [
    "all_counts.T[top_35_features].sum()"
   ]
  },
  {
   "cell_type": "code",
   "execution_count": null,
   "id": "0e66bf7b",
   "metadata": {
    "pycharm": {
     "name": "#%%\n"
    }
   },
   "outputs": [],
   "source": [
    "top_features = all_counts.T[top_35_features]"
   ]
  },
  {
   "cell_type": "code",
   "execution_count": null,
   "id": "d7b34e9c",
   "metadata": {
    "pycharm": {
     "name": "#%%\n"
    }
   },
   "outputs": [],
   "source": [
    "top_features.shape"
   ]
  },
  {
   "cell_type": "code",
   "execution_count": null,
   "id": "19f80725",
   "metadata": {
    "pycharm": {
     "name": "#%%\n"
    }
   },
   "outputs": [],
   "source": [
    "all_counts.T['BCL2_prot'].sort_values()"
   ]
  },
  {
   "cell_type": "code",
   "execution_count": null,
   "id": "14142c28",
   "metadata": {
    "scrolled": true,
    "pycharm": {
     "name": "#%%\n"
    }
   },
   "outputs": [],
   "source": [
    "all_counts.columns"
   ]
  },
  {
   "cell_type": "markdown",
   "id": "b49eaeea",
   "metadata": {
    "pycharm": {
     "name": "#%% md\n"
    }
   },
   "source": [
    "## Plot GBT features for venetoclax"
   ]
  },
  {
   "cell_type": "code",
   "execution_count": null,
   "id": "4a4600b4",
   "metadata": {
    "scrolled": false,
    "pycharm": {
     "name": "#%%\n"
    }
   },
   "outputs": [],
   "source": [
    "sns.clustermap(top_features.T, col_cluster=True, row_cluster=True, method='ward',\n",
    "               cmap=sns.color_palette(\"Reds\"),\n",
    "               figsize=(4,10),\n",
    "              linewidth=.0,\n",
    "              yticklabels=True);"
   ]
  },
  {
   "cell_type": "code",
   "execution_count": null,
   "id": "1b470b6e",
   "metadata": {
    "pycharm": {
     "name": "#%%\n"
    }
   },
   "outputs": [],
   "source": [
    "subset = all_counts[all_counts.sum(axis=1) > 5]\n",
    "subset.shape"
   ]
  },
  {
   "cell_type": "code",
   "execution_count": null,
   "id": "255ff3ac",
   "metadata": {
    "pycharm": {
     "name": "#%%\n"
    }
   },
   "outputs": [],
   "source": [
    "all_counts.head()"
   ]
  },
  {
   "cell_type": "code",
   "execution_count": null,
   "id": "5104109f",
   "metadata": {
    "pycharm": {
     "name": "#%%\n"
    }
   },
   "outputs": [],
   "source": [
    "ref = all_counts.index.values.copy()\n",
    "ref"
   ]
  },
  {
   "cell_type": "code",
   "execution_count": null,
   "id": "197c5a31",
   "metadata": {
    "pycharm": {
     "name": "#%%\n"
    }
   },
   "outputs": [],
   "source": [
    "d = pd.DataFrame(ref, columns=['name'])\n",
    "\n",
    "d['source'] = 'red'\n",
    "d.loc[d.name.str.endswith('_prot'), 'source'] = 'blue'\n",
    "d.loc[d.name.str.endswith('_rna'), 'source'] = 'gold'\n",
    "colors = d.set_index('name')\n",
    "colors.sort_index(inplace=True)\n",
    "colors.head()"
   ]
  },
  {
   "cell_type": "code",
   "execution_count": null,
   "id": "5a0311f4",
   "metadata": {
    "pycharm": {
     "name": "#%%\n"
    }
   },
   "outputs": [],
   "source": [
    "all_counts.sort_index(inplace=True)\n",
    "all_counts.head(10)"
   ]
  },
  {
   "cell_type": "code",
   "execution_count": null,
   "id": "033730df",
   "metadata": {
    "pycharm": {
     "name": "#%%\n"
    }
   },
   "outputs": [],
   "source": [
    "all_counts.loc[~(all_counts['proteomics_Venetoclax'].index.str.endswith('_prot')), 'proteomics_Venetoclax'] = np.nan\n",
    "all_counts.loc[~(all_counts['rna_seq_Venetoclax'].index.str.endswith('_rna')), 'rna_seq_Venetoclax'] = np.nan\n",
    "all_counts.loc[all_counts['phospho_Venetoclax'].index.str.endswith('_prot'), 'phospho_Venetoclax'] = np.nan\n",
    "all_counts.loc[all_counts['phospho_Venetoclax'].index.str.endswith('_rna'), 'phospho_Venetoclax'] = np.nan\n",
    "\n",
    "all_counts.loc[all_counts['phospho_proteomics_Venetoclax'].index.str.endswith('_rna'), 'phospho_proteomics_Venetoclax'] = np.nan\n",
    "all_counts.loc[all_counts['phospho_rna_seq_Venetoclax'].index.str.endswith('_prot'), 'phospho_rna_seq_Venetoclax'] = np.nan\n",
    "all_counts.loc[~(all_counts['phospho_rna_seq_Venetoclax'].index.str.endswith('_prot') | \n",
    "                all_counts['phospho_rna_seq_Venetoclax'].index.str.endswith('_rna'))\n",
    "                , \n",
    "                'phospho_rna_seq_Venetoclax'] = np.nan\n",
    "\n",
    "\n"
   ]
  },
  {
   "cell_type": "code",
   "execution_count": null,
   "id": "4a78bfeb",
   "metadata": {
    "pycharm": {
     "name": "#%%\n"
    }
   },
   "outputs": [],
   "source": [
    "all_counts['List']=colors['source']\n",
    "all_counts.sort_values(by=['List'], inplace=True)\n",
    "all_counts.head()\n",
    "del all_counts['List']"
   ]
  },
  {
   "cell_type": "code",
   "execution_count": null,
   "id": "6c5b4d1b",
   "metadata": {
    "pycharm": {
     "name": "#%%\n"
    }
   },
   "outputs": [],
   "source": []
  },
  {
   "cell_type": "code",
   "execution_count": null,
   "id": "e5fa4447",
   "metadata": {
    "pycharm": {
     "name": "#%%\n"
    }
   },
   "outputs": [],
   "source": [
    "all_counts = all_counts[['phospho_Venetoclax',\n",
    "                         'proteomics_Venetoclax',\n",
    "                         'rna_seq_Venetoclax',\n",
    "                         'phospho_proteomics_Venetoclax',\n",
    "                         'phospho_rna_seq_Venetoclax',\n",
    "                         'proteomics_rna_seq_Venetoclax',\n",
    "                         'phospho_proteomics_rna_seq_Venetoclax',\n",
    "       ]]"
   ]
  },
  {
   "cell_type": "code",
   "execution_count": null,
   "id": "9a855e40",
   "metadata": {
    "pycharm": {
     "name": "#%%\n"
    }
   },
   "outputs": [],
   "source": [
    "g = sns.clustermap(\n",
    "    all_counts.T,\n",
    "    col_colors=colors,\n",
    "    col_cluster=False, row_cluster=False, \n",
    "    method='ward',\n",
    "    xticklabels=False, yticklabels=True,\n",
    "    figsize=(8, 2),\n",
    "    linewidths=0.0,\n",
    "    cmap=sns.color_palette('rocket', n_colors=26 )\n",
    ");\n",
    "\n",
    "from matplotlib.patches import Patch\n",
    "leg = plt.legend(\n",
    "        [Patch(facecolor='blue'), Patch(facecolor='gold'), Patch(facecolor='red')], \n",
    "        ['rna', 'proteomics', 'phospho'], \n",
    "        title='Data type',\n",
    "        ncol=3,\n",
    "        bbox_to_anchor=(.575, 1.1),\n",
    "        bbox_transform=plt.gcf().transFigure,\n",
    "        loc='upper right'\n",
    "    )\n",
    "plt.gca().add_artist(leg)\n",
    "# plt.setp(g.ax_heatmap.get_xticklabels(), rotation=45)\n",
    "plt.savefig(\"features_all.pdf\", dpi=300, bbox_inches='tight')\n",
    "# g = sns.clustermap(all_counts, col_cluster=True, row_cluster=True, method='ward', xticklabels=False, yticklabels=False, figsize=(4,4));\n",
    "plt.savefig(\"features_all.png\", dpi=300, bbox_inches='tight')"
   ]
  },
  {
   "cell_type": "code",
   "execution_count": null,
   "id": "b361cee9",
   "metadata": {
    "pycharm": {
     "name": "#%%\n"
    }
   },
   "outputs": [],
   "source": []
  }
 ],
 "metadata": {
  "kernelspec": {
   "display_name": "Python 3 (ipykernel)",
   "language": "python",
   "name": "python3"
  },
  "language_info": {
   "codemirror_mode": {
    "name": "ipython",
    "version": 3
   },
   "file_extension": ".py",
   "mimetype": "text/x-python",
   "name": "python",
   "nbconvert_exporter": "python",
   "pygments_lexer": "ipython3",
   "version": "3.7.12"
  }
 },
 "nbformat": 4,
 "nbformat_minor": 5
}