{
 "cells": [
  {
   "cell_type": "code",
   "execution_count": null,
   "id": "34d2e15c",
   "metadata": {},
   "outputs": [],
   "source": [
    "from pybeataml.load_data_from_synpase import syn"
   ]
  },
  {
   "cell_type": "code",
   "execution_count": null,
   "id": "bdf602c1",
   "metadata": {},
   "outputs": [],
   "source": [
    "import networkx as nx\n",
    "import numpy as np\n",
    "import seaborn as sns\n",
    "import pandas as pd\n",
    "import igraph\n",
    "import matplotlib.pyplot as plt"
   ]
  },
  {
   "cell_type": "code",
   "execution_count": null,
   "id": "347ea305",
   "metadata": {},
   "outputs": [],
   "source": [
    "from magine.networks.visualization import draw_igraph, draw_graphviz, draw_mpl\n",
    "from magine.networks.visualization.notebooks import view"
   ]
  },
  {
   "cell_type": "code",
   "execution_count": null,
   "id": "c835ba6b",
   "metadata": {},
   "outputs": [],
   "source": [
    "syn.get('syn26997954')"
   ]
  },
  {
   "cell_type": "code",
   "execution_count": null,
   "id": "6d4271d0",
   "metadata": {},
   "outputs": [],
   "source": [
    "def get_networks_from_folder(folder):\n",
    "    nodes, networks = [], []\n",
    "    for i in syn.getChildren(folder):\n",
    "        fname = syn.get(i['id']).path\n",
    "        if fname.endswith('.gml'):\n",
    "    #         net = nx.read_gml(syn.get(i['id']).path, label = 'name')\n",
    "            net = igraph.load(syn.get(i['id']).path,)\n",
    "            net.name = syn.get(i['id']).files[0]\n",
    "            nodes.append(set(net.vs['name']))\n",
    "            networks.append(net)\n",
    "    return nodes, networks\n",
    "nodes, gmls = get_networks_from_folder('syn26997954')"
   ]
  },
  {
   "cell_type": "code",
   "execution_count": null,
   "id": "69821ade",
   "metadata": {},
   "outputs": [],
   "source": [
    "[gmls[i].name for i in range(len(nodes))]\n",
    "k5_nodes = [nodes[i] for i in range(5)]\n",
    "k8_nodes = [nodes[i] for i in range(5, len(nodes))]\n",
    "print(len(k5_nodes))\n",
    "print(len(k8_nodes))"
   ]
  },
  {
   "cell_type": "code",
   "execution_count": null,
   "id": "47d139e6",
   "metadata": {},
   "outputs": [],
   "source": [
    "\n",
    "def load_dist_matrix(nodes):\n",
    "    node_dist = np.zeros((len(nodes), len(nodes)))\n",
    "    for i in range(len(nodes)):\n",
    "        for j in range(i+1, len(nodes)):\n",
    "            node_dist[i,j] = len(nodes[i].intersection(nodes[j]))\n",
    "    return node_dist\n",
    "# node_dist += node_dist.T\n",
    "k5_node_dist = load_dist_matrix(k5_nodes)\n",
    "k8_node_dist = load_dist_matrix(k8_nodes)"
   ]
  },
  {
   "cell_type": "code",
   "execution_count": null,
   "id": "9d8fa999",
   "metadata": {},
   "outputs": [],
   "source": [
    "plt.figure(figsize=(6,6))\n",
    "plt.title(\"K=8 graph node intersections\")\n",
    "sns.heatmap(k5_node_dist, square=True, annot=True, fmt=\".0f\", linewidths=0.01);\n",
    "plt.figure(figsize=(6,6))\n",
    "plt.title(\"K=8 graph node intersections\")\n",
    "sns.heatmap(k8_node_dist, square=True, annot=True, fmt=\".0f\", linewidths=0.01);"
   ]
  },
  {
   "cell_type": "code",
   "execution_count": null,
   "id": "a89a3752",
   "metadata": {},
   "outputs": [],
   "source": [
    "gmls[1].name"
   ]
  },
  {
   "cell_type": "markdown",
   "id": "a10870d3",
   "metadata": {},
   "source": [
    "#### Simple plots of networks, not really useful but here for now"
   ]
  },
  {
   "cell_type": "code",
   "execution_count": null,
   "id": "504fab44",
   "metadata": {},
   "outputs": [],
   "source": [
    "layout = gmls[1].layout_reingold_tilford_circular()\n",
    "gmls[1].vs[\"label\"] = gmls[1].vs[\"name\"]\n",
    "fig = plt.figure(figsize=(6,6))\n",
    "ax = fig.add_subplot(111)\n",
    "igraph.plot(gmls[1], layout=layout, target=ax)"
   ]
  },
  {
   "cell_type": "code",
   "execution_count": null,
   "id": "fd8954a1",
   "metadata": {},
   "outputs": [],
   "source": [
    "igraph.plot(gmls[1], layout=layout)"
   ]
  },
  {
   "cell_type": "markdown",
   "id": "e6fd0c3e",
   "metadata": {},
   "source": [
    "Run enrichment using EnrichR.\n",
    "\n",
    "There are multiple options for gene_set_lib."
   ]
  },
  {
   "cell_type": "code",
   "execution_count": null,
   "id": "610bb3e7",
   "metadata": {},
   "outputs": [],
   "source": [
    "from magine.enrichment.enrichr import Enrichr, get_libraries\n",
    "e = Enrichr()"
   ]
  },
  {
   "cell_type": "code",
   "execution_count": null,
   "id": "6d159400",
   "metadata": {},
   "outputs": [],
   "source": [
    "sorted(get_libraries())\n"
   ]
  },
  {
   "cell_type": "code",
   "execution_count": null,
   "id": "5ad2f5df",
   "metadata": {},
   "outputs": [],
   "source": [
    "results = e.run_samples(nodes, [i.name for i in gmls], gene_set_lib='Reactome_2016')"
   ]
  },
  {
   "cell_type": "markdown",
   "id": "ef3724d4",
   "metadata": {},
   "source": [
    "Returns an EnrichmentResult from magine. Has a lot of capabilities (https://magine.readthedocs.io/en/latest/)"
   ]
  },
  {
   "cell_type": "code",
   "execution_count": null,
   "id": "57e7f675",
   "metadata": {},
   "outputs": [],
   "source": [
    "results.head()"
   ]
  },
  {
   "cell_type": "code",
   "execution_count": null,
   "id": "b2c1b136",
   "metadata": {},
   "outputs": [],
   "source": [
    "# cleanup names\n",
    "results.term_name = results.term_name.str.split('_hsa').str.get(0)"
   ]
  },
  {
   "cell_type": "code",
   "execution_count": null,
   "id": "869d1606",
   "metadata": {},
   "outputs": [],
   "source": [
    "k5 = [f'k5_cluster{i}.gml' for i in range(1,6)]\n",
    "k5_enrichment = results.filter_multi(sample_id=k5)\n",
    "k5_enrichment = k5_enrichment.loc[k5_enrichment.n_genes>5]\n",
    "\n",
    "k8 = [f'k8_cluster{i}.gml' for i in range(1,9)]\n",
    "k8_enrichment = results.filter_multi(sample_id=k8)\n",
    "k8_enrichment = k8_enrichment.loc[k8_enrichment.n_genes>5]"
   ]
  },
  {
   "cell_type": "code",
   "execution_count": null,
   "id": "16046cfd",
   "metadata": {},
   "outputs": [],
   "source": [
    "k5_enrichment.describe()"
   ]
  },
  {
   "cell_type": "code",
   "execution_count": null,
   "id": "bb965b73",
   "metadata": {},
   "outputs": [],
   "source": [
    "# get counts per term, goal is to find unique terms per network\n",
    "counts = k8_enrichment.pivoter(index='sample_id', columns='term_name', values='combined_score').count().sort_values()\n",
    "\n",
    "k8_only_1 = k8_enrichment.loc[k8_enrichment.term_name.isin(counts[counts==1].index.values)].copy()\n",
    "\n",
    "k8_only_1.sig.remove_redundant(threshold=.25, level='sample').dist_matrix();\n",
    "k8_only_1.sig.remove_redundant(threshold=.25, level='sample', sort_by='n_genes').heatmap(\n",
    "    convert_to_log=True,\n",
    "    cluster_row=False,\n",
    "    figsize=(4, 12),\n",
    "    y_tick_labels=True,\n",
    "    linewidths=0.01\n",
    "#     sort_row='max'\n",
    ");"
   ]
  },
  {
   "cell_type": "code",
   "execution_count": null,
   "id": "4112f17b",
   "metadata": {},
   "outputs": [],
   "source": [
    "# same as above but for k5\n",
    "counts = k5_enrichment.pivoter(\n",
    "    index='sample_id', \n",
    "    columns='term_name', \n",
    "    values='combined_score'\n",
    ").count().sort_values()\n",
    "\n",
    "k5_only_1 = k5_enrichment.loc[k5_enrichment.term_name.isin(counts[counts<6].index.values)].copy()\n",
    "k5_only_1.sig.remove_redundant(threshold=.25, level='sample', ).heatmap(\n",
    "    convert_to_log=True,\n",
    "    cluster_row=False,\n",
    "    figsize=(4, 12),\n",
    "    y_tick_labels=True,\n",
    "    linewidths=0.01\n",
    "#     sort_row='max'\n",
    ");"
   ]
  },
  {
   "cell_type": "code",
   "execution_count": null,
   "id": "491d64bc",
   "metadata": {},
   "outputs": [],
   "source": [
    "k8_enrichment.remove_redundant(threshold=.5, level='dataframe').heatmap(\n",
    "    convert_to_log=False,\n",
    "    cluster_row=False,\n",
    "    min_sig=4\n",
    ");"
   ]
  },
  {
   "cell_type": "code",
   "execution_count": null,
   "id": "9074f81d",
   "metadata": {},
   "outputs": [],
   "source": [
    "k8_enrichment.remove_redundant(threshold=.5, level='dataframe').heatmap(\n",
    "    convert_to_log=True,\n",
    "    cluster_row=True,\n",
    "    figsize=(12,16),\n",
    "    \n",
    ");\n",
    "plt.savefig(\"k8_network_expand.png\", bbox_inches='tight', dpi=300)"
   ]
  },
  {
   "cell_type": "code",
   "execution_count": null,
   "id": "db7b24fe",
   "metadata": {},
   "outputs": [],
   "source": [
    "k5_enrichment.remove_redundant(threshold=.5, level='sample').heatmap(\n",
    "    figsize=(12,16),\n",
    "    convert_to_log=True,\n",
    "    cluster_row=True,\n",
    "    \n",
    ");"
   ]
  },
  {
   "cell_type": "code",
   "execution_count": null,
   "id": "9c58d575",
   "metadata": {},
   "outputs": [],
   "source": []
  }
 ],
 "metadata": {
  "kernelspec": {
   "display_name": "Python 3 (ipykernel)",
   "language": "python",
   "name": "python3"
  },
  "language_info": {
   "codemirror_mode": {
    "name": "ipython",
    "version": 3
   },
   "file_extension": ".py",
   "mimetype": "text/x-python",
   "name": "python",
   "nbconvert_exporter": "python",
   "pygments_lexer": "ipython3",
   "version": "3.7.12"
  }
 },
 "nbformat": 4,
 "nbformat_minor": 5
}
